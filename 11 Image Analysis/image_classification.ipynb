{
 "cells": [
  {
   "cell_type": "code",
   "execution_count": 1,
   "id": "b96e44cf",
   "metadata": {},
   "outputs": [],
   "source": [
    "import numpy as np\n",
    "import matplotlib.pyplot as plt\n",
    "import pickle"
   ]
  },
  {
   "cell_type": "markdown",
   "id": "119ca0be",
   "metadata": {},
   "source": [
    "<h3>Load and Process Data</h3>"
   ]
  },
  {
   "cell_type": "markdown",
   "id": "ff710ced",
   "metadata": {},
   "source": [
    "Load the processed data from the two pickled objects as two lists, dogs and cats"
   ]
  },
  {
   "cell_type": "code",
   "execution_count": 2,
   "id": "52c8f94e",
   "metadata": {},
   "outputs": [],
   "source": [
    "with open('dogs.obj','rb') as f:\n",
    "    dogs = pickle.load(f)\n",
    "    \n",
    "with open('cats.obj','rb') as f:\n",
    "    cats = pickle.load(f)"
   ]
  },
  {
   "cell_type": "code",
   "execution_count": 3,
   "id": "633f5ce8",
   "metadata": {},
   "outputs": [
    {
     "data": {
      "image/png": "[encoded data removed]",
      "text/plain": [
       "<Figure size 640x480 with 2 Axes>"
      ]
     },
     "metadata": {},
     "output_type": "display_data"
    }
   ],
   "source": [
    "plt.subplot(121)\n",
    "plt.imshow(dogs[10])\n",
    "plt.subplot(122)\n",
    "plt.imshow(cats[20])\n",
    "plt.show()"
   ]
  },
  {
   "cell_type": "markdown",
   "id": "b94f0015",
   "metadata": {},
   "source": [
    "Quick processing on the data. Images from dogs are labeled 'dog', and cats 'cat'. We also normalize the pixel values by dividing them by 255"
   ]
  },
  {
   "cell_type": "code",
   "execution_count": 4,
   "id": "c7ee44e4",
   "metadata": {},
   "outputs": [],
   "source": [
    "X = np.array(dogs + cats)\n",
    "Y = np.array(['dog']*len(dogs) + ['cat']*len(cats))"
   ]
  },
  {
   "cell_type": "code",
   "execution_count": 5,
   "id": "8c05fc52",
   "metadata": {},
   "outputs": [],
   "source": [
    "X_prc = X.reshape(-1,X.shape[1]*X.shape[2]*X.shape[3])\n",
    "X_prc = X_prc/255"
   ]
  },
  {
   "cell_type": "markdown",
   "id": "27e57ac4",
   "metadata": {},
   "source": [
    "Train test split like other problems"
   ]
  },
  {
   "cell_type": "code",
   "execution_count": 14,
   "id": "3616dfb0",
   "metadata": {},
   "outputs": [],
   "source": [
    "from sklearn.model_selection import train_test_split\n",
    "\n",
    "tvX, testX, tvY, testY = train_test_split(X_prc,Y,test_size=200)\n",
    "trainX, validX, trainY, validY = train_test_split(tvX,tvY,test_size=200)"
   ]
  },
  {
   "cell_type": "markdown",
   "id": "11f445fb",
   "metadata": {},
   "source": [
    "<h3> Modeling with SKLearn</h3>\n",
    "\n",
    "SKLearn models can be used after the previous processing steps. They are not nearly as efficient and accurate as specialized models, but are a possibility\n",
    "\n",
    "<h4> Logistic Regression </h4>"
   ]
  },
  {
   "cell_type": "code",
   "execution_count": 7,
   "id": "8e657449",
   "metadata": {},
   "outputs": [
    {
     "name": "stderr",
     "output_type": "stream",
     "text": [
      "\n",
      "KeyboardInterrupt\n",
      "\n"
     ]
    }
   ],
   "source": [
    "from sklearn.linear_model import LogisticRegression\n",
    "from sklearn.model_selection import cross_val_score\n",
    "from sklearn.model_selection import cross_val_predict\n",
    "from sklearn.model_selection import GridSearchCV\n",
    "\n",
    "#hyperparameter grid for logistic regression, we only optimize regularization term C\n",
    "param_grid = [{'C': [0.01,  0.1, 1 ,10, 100]}]\n",
    "\n",
    "#create new model\n",
    "logistic = LogisticRegression(max_iter=5000)\n",
    "\n",
    "#perform grid search with 5-fold cross validation\n",
    "grid_search = GridSearchCV(logistic, param_grid, cv=3, scoring='accuracy', return_train_score=True)\n",
    "\n",
    "grid_search.fit(tvX,tvY)"
   ]
  },
  {
   "cell_type": "markdown",
   "id": "b4209b1b",
   "metadata": {},
   "source": [
    "Let's look at the best model"
   ]
  },
  {
   "cell_type": "code",
   "execution_count": 9,
   "id": "b858b526",
   "metadata": {},
   "outputs": [
    {
     "name": "stdout",
     "output_type": "stream",
     "text": [
      "{'C': 0.01}\n",
      "0.62\n"
     ]
    }
   ],
   "source": [
    "print(grid_search.best_params_)\n",
    "print(grid_search.best_score_)"
   ]
  },
  {
   "cell_type": "markdown",
   "id": "306b18b8",
   "metadata": {},
   "source": [
    "And apply it on the testing data"
   ]
  },
  {
   "cell_type": "code",
   "execution_count": 10,
   "id": "038e0264",
   "metadata": {},
   "outputs": [
    {
     "data": {
      "text/plain": [
       "0.645"
      ]
     },
     "execution_count": 10,
     "metadata": {},
     "output_type": "execute_result"
    }
   ],
   "source": [
    "best_l2_logistic = grid_search.best_estimator_\n",
    "\n",
    "best_l2_logistic.score(testX, testY)"
   ]
  },
  {
   "cell_type": "markdown",
   "id": "1fc3e7e1",
   "metadata": {},
   "source": [
    "<h4> Support Vector Machine </h4>"
   ]
  },
  {
   "cell_type": "code",
   "execution_count": 11,
   "id": "441cfe98",
   "metadata": {},
   "outputs": [
    {
     "data": {
      "text/plain": [
       "GridSearchCV(cv=3, estimator=SVC(),\n",
       "             param_grid=[{'C': [0.01, 0.1, 1, 10, 100],\n",
       "                          'gamma': [0.01, 0.1, 1, 10, 100],\n",
       "                          'kernel': ['rbf']}],\n",
       "             return_train_score=True, scoring='accuracy')"
      ]
     },
     "execution_count": 11,
     "metadata": {},
     "output_type": "execute_result"
    }
   ],
   "source": [
    "from sklearn.svm import SVC\n",
    "\n",
    "svc = SVC()\n",
    "\n",
    "param_grid = [{\n",
    "    'C': [0.01, 0.1, 1, 10, 100],\n",
    "    'kernel' : ['rbf'],\n",
    "    'gamma' : [0.01, 0.1, 1, 10, 100]\n",
    "}]\n",
    "\n",
    "grid_search = GridSearchCV(svc, param_grid, cv=3, scoring='accuracy', return_train_score=True)\n",
    "\n",
    "grid_search.fit(tvX,tvY)"
   ]
  },
  {
   "cell_type": "markdown",
   "id": "f2380603",
   "metadata": {},
   "source": [
    "Let's check the best model"
   ]
  },
  {
   "cell_type": "code",
   "execution_count": 12,
   "id": "09f6c3fb",
   "metadata": {},
   "outputs": [
    {
     "name": "stdout",
     "output_type": "stream",
     "text": [
      "{'C': 1, 'gamma': 0.01, 'kernel': 'rbf'}\n",
      "0.5888888888888889\n"
     ]
    }
   ],
   "source": [
    "print(grid_search.best_params_)\n",
    "print(grid_search.best_score_)"
   ]
  },
  {
   "cell_type": "markdown",
   "id": "1d5a2c75",
   "metadata": {},
   "source": [
    "And test it on testing data"
   ]
  },
  {
   "cell_type": "code",
   "execution_count": 13,
   "id": "2d6ee68d",
   "metadata": {},
   "outputs": [
    {
     "data": {
      "text/plain": [
       "0.51"
      ]
     },
     "execution_count": 13,
     "metadata": {},
     "output_type": "execute_result"
    }
   ],
   "source": [
    "best_svc = grid_search.best_estimator_\n",
    "best_svc.score(testX, testY)"
   ]
  },
  {
   "cell_type": "markdown",
   "id": "425f7e62",
   "metadata": {},
   "source": [
    "<h4>Neural Network</h4>\n",
    "\n",
    "This model will take a very long time to run. We can skip it in sklearn and implement the same model in Tensorflow to utilize the GPU capability on Azure"
   ]
  },
  {
   "cell_type": "code",
   "execution_count": 17,
   "id": "9dcf1061",
   "metadata": {
    "scrolled": true
   },
   "outputs": [
    {
     "data": {
      "text/plain": [
       "GridSearchCV(cv=3, estimator=MLPClassifier(max_iter=1000),\n",
       "             param_grid=[{'alpha': [0.01, 0.1, 1],\n",
       "                          'hidden_layer_sizes': [[6144, 6144],\n",
       "                                                 [6144, 6144, 6144]]}],\n",
       "             return_train_score=True, scoring='accuracy')"
      ]
     },
     "execution_count": 17,
     "metadata": {},
     "output_type": "execute_result"
    }
   ],
   "source": [
    "from sklearn.neural_network import MLPClassifier\n",
    "\n",
    "n_features = tvX.shape[1]\n",
    "\n",
    "param_grid = [{\n",
    "    'hidden_layer_sizes' : [\n",
    "                            [n_features//2,n_features//2],                 #two hidden layer with n_features/2 neurons\n",
    "                            [n_features//2,n_features//2,n_features//2]],   #three hidden layer with n_features/2 neurons\n",
    "    'alpha' : [0.01, 0.1, 1]                                    #regularization terms\n",
    "}]\n",
    "\n",
    "mlp = MLPClassifier(max_iter=1000)\n",
    "\n",
    "grid_search = GridSearchCV(mlp, param_grid, cv=3, scoring='accuracy', return_train_score=True)\n",
    "\n",
    "grid_search.fit(tvX,tvY)"
   ]
  },
  {
   "cell_type": "markdown",
   "id": "2135db06",
   "metadata": {},
   "source": [
    "Best training model:"
   ]
  },
  {
   "cell_type": "code",
   "execution_count": 18,
   "id": "26291bf3",
   "metadata": {
    "scrolled": false
   },
   "outputs": [
    {
     "name": "stdout",
     "output_type": "stream",
     "text": [
      "{'alpha': 1, 'hidden_layer_sizes': [6144, 6144]}\n",
      "0.5983333333333333\n"
     ]
    }
   ],
   "source": [
    "print(grid_search.best_params_)\n",
    "print(grid_search.best_score_)"
   ]
  },
  {
   "cell_type": "code",
   "execution_count": 20,
   "id": "3bb00e3d",
   "metadata": {
    "scrolled": false
   },
   "outputs": [
    {
     "data": {
      "text/plain": [
       "0.63"
      ]
     },
     "execution_count": 20,
     "metadata": {},
     "output_type": "execute_result"
    }
   ],
   "source": [
    "best_dt = grid_search.best_estimator_\n",
    "best_dt.score(testX, testY)"
   ]
  },
  {
   "cell_type": "markdown",
   "id": "fbbe377e",
   "metadata": {},
   "source": [
    "<h3>Convolutional Neural Network</h3>\n",
    "\n",
    "CNN (2D) is the specialized neural network type for image data. We will use tensorflow. We also need to convert the labels to 0 and 1 since we are no longer in sklearn. We also need to reshape the inputs back to image format (width\\*heigh\\*channel)"
   ]
  },
  {
   "cell_type": "code",
   "execution_count": 18,
   "id": "45f6f38b",
   "metadata": {},
   "outputs": [],
   "source": [
    "trainX = trainX.reshape(-1,64,64,3)\n",
    "validX = validX.reshape(-1,64,64,3)\n",
    "testX = testX.reshape(-1,64,64,3)\n",
    "trainY = (trainY=='dog')*1\n",
    "validY = (validY=='dog')*1\n",
    "testY = (testY=='dog')*1"
   ]
  },
  {
   "cell_type": "code",
   "execution_count": 19,
   "id": "eb9be842",
   "metadata": {},
   "outputs": [],
   "source": [
    "import tensorflow as tf\n",
    "\n",
    "from tensorflow.keras import datasets, layers, models\n",
    "from tensorflow.keras.optimizers import SGD"
   ]
  },
  {
   "cell_type": "code",
   "execution_count": 26,
   "id": "17b056de",
   "metadata": {},
   "outputs": [
    {
     "name": "stdout",
     "output_type": "stream",
     "text": [
      "Model: \"sequential_2\"\n",
      "_________________________________________________________________\n",
      " Layer (type)                Output Shape              Param #   \n",
      "=================================================================\n",
      " conv2d_4 (Conv2D)           (None, 62, 62, 32)        896       \n",
      "                                                                 \n",
      " max_pooling2d_4 (MaxPooling  (None, 31, 31, 32)       0         \n",
      " 2D)                                                             \n",
      "                                                                 \n",
      " conv2d_5 (Conv2D)           (None, 29, 29, 16)        4624      \n",
      "                                                                 \n",
      " max_pooling2d_5 (MaxPooling  (None, 14, 14, 16)       0         \n",
      " 2D)                                                             \n",
      "                                                                 \n",
      " flatten_2 (Flatten)         (None, 3136)              0         \n",
      "                                                                 \n",
      " dense_4 (Dense)             (None, 1024)              3212288   \n",
      "                                                                 \n",
      " dense_5 (Dense)             (None, 1)                 1025      \n",
      "                                                                 \n",
      "=================================================================\n",
      "Total params: 3,218,833\n",
      "Trainable params: 3,218,833\n",
      "Non-trainable params: 0\n",
      "_________________________________________________________________\n"
     ]
    }
   ],
   "source": [
    "model = models.Sequential()\n",
    "model.add(layers.Conv2D(32, (3, 3), activation='relu', input_shape=(64, 64, 3)))\n",
    "model.add(layers.MaxPooling2D((2, 2)))\n",
    "model.add(layers.Conv2D(16, (3, 3), activation='relu'))\n",
    "model.add(layers.MaxPooling2D((2, 2)))\n",
    "model.add(layers.Flatten())\n",
    "model.add(layers.Dense(1024, activation='relu'))\n",
    "model.add(layers.Dense(1, activation='sigmoid'))\n",
    "model.summary()"
   ]
  },
  {
   "cell_type": "code",
   "execution_count": 30,
   "id": "352c6015",
   "metadata": {
    "scrolled": true
   },
   "outputs": [
    {
     "name": "stdout",
     "output_type": "stream",
     "text": [
      "Epoch 1/100\n",
      "50/50 [==============================] - 1s 15ms/step - loss: 0.4623 - accuracy: 0.8094 - val_loss: 0.6103 - val_accuracy: 0.6750\n",
      "Epoch 2/100\n",
      "50/50 [==============================] - 1s 10ms/step - loss: 0.4627 - accuracy: 0.8094 - val_loss: 0.6103 - val_accuracy: 0.6700\n",
      "Epoch 3/100\n",
      "50/50 [==============================] - 0s 10ms/step - loss: 0.4619 - accuracy: 0.8125 - val_loss: 0.6103 - val_accuracy: 0.6750\n",
      "Epoch 4/100\n",
      "50/50 [==============================] - 0s 10ms/step - loss: 0.4618 - accuracy: 0.8125 - val_loss: 0.6101 - val_accuracy: 0.6700\n",
      "Epoch 5/100\n",
      "50/50 [==============================] - 1s 10ms/step - loss: 0.4621 - accuracy: 0.8131 - val_loss: 0.6108 - val_accuracy: 0.6650\n",
      "Epoch 6/100\n",
      "50/50 [==============================] - 1s 10ms/step - loss: 0.4621 - accuracy: 0.8138 - val_loss: 0.6103 - val_accuracy: 0.6700\n",
      "Epoch 7/100\n",
      "50/50 [==============================] - 0s 10ms/step - loss: 0.4621 - accuracy: 0.8125 - val_loss: 0.6104 - val_accuracy: 0.6700\n",
      "Epoch 8/100\n",
      "50/50 [==============================] - 0s 10ms/step - loss: 0.4614 - accuracy: 0.8100 - val_loss: 0.6106 - val_accuracy: 0.6650\n",
      "Epoch 9/100\n",
      "50/50 [==============================] - 0s 10ms/step - loss: 0.4613 - accuracy: 0.8138 - val_loss: 0.6103 - val_accuracy: 0.6650\n",
      "Epoch 10/100\n",
      "50/50 [==============================] - 1s 10ms/step - loss: 0.4611 - accuracy: 0.8100 - val_loss: 0.6102 - val_accuracy: 0.6650\n",
      "Epoch 11/100\n",
      "50/50 [==============================] - 0s 10ms/step - loss: 0.4610 - accuracy: 0.8106 - val_loss: 0.6105 - val_accuracy: 0.6650\n",
      "Epoch 12/100\n",
      "50/50 [==============================] - 1s 10ms/step - loss: 0.4605 - accuracy: 0.8163 - val_loss: 0.6101 - val_accuracy: 0.6800\n",
      "Epoch 13/100\n",
      "50/50 [==============================] - 0s 10ms/step - loss: 0.4605 - accuracy: 0.8181 - val_loss: 0.6107 - val_accuracy: 0.6650\n",
      "Epoch 14/100\n",
      "50/50 [==============================] - 0s 10ms/step - loss: 0.4604 - accuracy: 0.8150 - val_loss: 0.6106 - val_accuracy: 0.6650\n",
      "Epoch 15/100\n",
      "50/50 [==============================] - 0s 10ms/step - loss: 0.4603 - accuracy: 0.8106 - val_loss: 0.6102 - val_accuracy: 0.6650\n",
      "Epoch 16/100\n",
      "50/50 [==============================] - 0s 10ms/step - loss: 0.4598 - accuracy: 0.8125 - val_loss: 0.6105 - val_accuracy: 0.6650\n",
      "Epoch 17/100\n",
      "50/50 [==============================] - 0s 10ms/step - loss: 0.4606 - accuracy: 0.8156 - val_loss: 0.6105 - val_accuracy: 0.6800\n",
      "Epoch 18/100\n",
      "50/50 [==============================] - 0s 10ms/step - loss: 0.4603 - accuracy: 0.8087 - val_loss: 0.6103 - val_accuracy: 0.6800\n",
      "Epoch 19/100\n",
      "50/50 [==============================] - 1s 10ms/step - loss: 0.4597 - accuracy: 0.8112 - val_loss: 0.6102 - val_accuracy: 0.6800\n",
      "Epoch 20/100\n",
      "50/50 [==============================] - 0s 10ms/step - loss: 0.4597 - accuracy: 0.8150 - val_loss: 0.6102 - val_accuracy: 0.6700\n",
      "Epoch 21/100\n",
      "50/50 [==============================] - 1s 10ms/step - loss: 0.4598 - accuracy: 0.8119 - val_loss: 0.6106 - val_accuracy: 0.6600\n",
      "Epoch 22/100\n",
      "50/50 [==============================] - 0s 10ms/step - loss: 0.4589 - accuracy: 0.8125 - val_loss: 0.6104 - val_accuracy: 0.6700\n",
      "Epoch 23/100\n",
      "50/50 [==============================] - 0s 10ms/step - loss: 0.4589 - accuracy: 0.8131 - val_loss: 0.6105 - val_accuracy: 0.6650\n",
      "Epoch 24/100\n",
      "50/50 [==============================] - 0s 10ms/step - loss: 0.4593 - accuracy: 0.8125 - val_loss: 0.6102 - val_accuracy: 0.6800\n",
      "Epoch 25/100\n",
      "50/50 [==============================] - 1s 10ms/step - loss: 0.4585 - accuracy: 0.8156 - val_loss: 0.6107 - val_accuracy: 0.6600\n",
      "Epoch 26/100\n",
      "50/50 [==============================] - 0s 10ms/step - loss: 0.4585 - accuracy: 0.8131 - val_loss: 0.6105 - val_accuracy: 0.6600\n",
      "Epoch 27/100\n",
      "50/50 [==============================] - 0s 10ms/step - loss: 0.4584 - accuracy: 0.8150 - val_loss: 0.6104 - val_accuracy: 0.6650\n",
      "Epoch 28/100\n",
      "50/50 [==============================] - 0s 10ms/step - loss: 0.4579 - accuracy: 0.8125 - val_loss: 0.6104 - val_accuracy: 0.6650\n",
      "Epoch 29/100\n",
      "50/50 [==============================] - 1s 10ms/step - loss: 0.4578 - accuracy: 0.8106 - val_loss: 0.6118 - val_accuracy: 0.6600\n",
      "Epoch 30/100\n",
      "50/50 [==============================] - 1s 10ms/step - loss: 0.4581 - accuracy: 0.8163 - val_loss: 0.6103 - val_accuracy: 0.6650\n",
      "Epoch 31/100\n",
      "50/50 [==============================] - 0s 10ms/step - loss: 0.4574 - accuracy: 0.8150 - val_loss: 0.6104 - val_accuracy: 0.6650\n",
      "Epoch 32/100\n",
      "50/50 [==============================] - 0s 10ms/step - loss: 0.4576 - accuracy: 0.8163 - val_loss: 0.6104 - val_accuracy: 0.6800\n",
      "Epoch 33/100\n",
      "50/50 [==============================] - 0s 10ms/step - loss: 0.4582 - accuracy: 0.8100 - val_loss: 0.6104 - val_accuracy: 0.6750\n",
      "Epoch 34/100\n",
      "50/50 [==============================] - 0s 10ms/step - loss: 0.4572 - accuracy: 0.8163 - val_loss: 0.6109 - val_accuracy: 0.6850\n",
      "Epoch 35/100\n",
      "50/50 [==============================] - 0s 10ms/step - loss: 0.4578 - accuracy: 0.8106 - val_loss: 0.6103 - val_accuracy: 0.6750\n",
      "Epoch 36/100\n",
      "50/50 [==============================] - 0s 10ms/step - loss: 0.4572 - accuracy: 0.8106 - val_loss: 0.6103 - val_accuracy: 0.6750\n",
      "Epoch 37/100\n",
      "50/50 [==============================] - 1s 10ms/step - loss: 0.4574 - accuracy: 0.8169 - val_loss: 0.6117 - val_accuracy: 0.6600\n",
      "Epoch 38/100\n",
      "50/50 [==============================] - 1s 10ms/step - loss: 0.4565 - accuracy: 0.8175 - val_loss: 0.6101 - val_accuracy: 0.6800\n",
      "Epoch 39/100\n",
      "50/50 [==============================] - 1s 10ms/step - loss: 0.4562 - accuracy: 0.8156 - val_loss: 0.6103 - val_accuracy: 0.6650\n",
      "Epoch 40/100\n",
      "50/50 [==============================] - 0s 10ms/step - loss: 0.4563 - accuracy: 0.8156 - val_loss: 0.6103 - val_accuracy: 0.6800\n",
      "Epoch 41/100\n",
      "50/50 [==============================] - 0s 10ms/step - loss: 0.4561 - accuracy: 0.8169 - val_loss: 0.6103 - val_accuracy: 0.6750\n",
      "Epoch 42/100\n",
      "50/50 [==============================] - 0s 10ms/step - loss: 0.4570 - accuracy: 0.8125 - val_loss: 0.6103 - val_accuracy: 0.6750\n",
      "Epoch 43/100\n",
      "50/50 [==============================] - 0s 10ms/step - loss: 0.4562 - accuracy: 0.8087 - val_loss: 0.6105 - val_accuracy: 0.6550\n",
      "Epoch 44/100\n",
      "50/50 [==============================] - 0s 10ms/step - loss: 0.4562 - accuracy: 0.8144 - val_loss: 0.6105 - val_accuracy: 0.6650\n",
      "Epoch 45/100\n",
      "43/50 [========================>.....] - ETA: 0s - loss: 0.4537 - accuracy: 0.8103"
     ]
    },
    {
     "ename": "KeyboardInterrupt",
     "evalue": "",
     "output_type": "error",
     "traceback": [
      "\u001b[0;31m---------------------------------------------------------------------------\u001b[0m",
      "\u001b[0;31mKeyboardInterrupt\u001b[0m                         Traceback (most recent call last)",
      "Input \u001b[0;32mIn [30]\u001b[0m, in \u001b[0;36m<module>\u001b[0;34m\u001b[0m\n\u001b[1;32m      1\u001b[0m opt \u001b[38;5;241m=\u001b[39m SGD(lr\u001b[38;5;241m=\u001b[39m\u001b[38;5;241m1e-5\u001b[39m, momentum\u001b[38;5;241m=\u001b[39m\u001b[38;5;241m0.9\u001b[39m)\n\u001b[1;32m      2\u001b[0m model\u001b[38;5;241m.\u001b[39mcompile(loss\u001b[38;5;241m=\u001b[39m\u001b[38;5;124m'\u001b[39m\u001b[38;5;124mbinary_crossentropy\u001b[39m\u001b[38;5;124m'\u001b[39m, optimizer\u001b[38;5;241m=\u001b[39mopt, metrics\u001b[38;5;241m=\u001b[39m[\u001b[38;5;124m'\u001b[39m\u001b[38;5;124maccuracy\u001b[39m\u001b[38;5;124m'\u001b[39m])\n\u001b[0;32m----> 4\u001b[0m history \u001b[38;5;241m=\u001b[39m \u001b[43mmodel\u001b[49m\u001b[38;5;241;43m.\u001b[39;49m\u001b[43mfit\u001b[49m\u001b[43m(\u001b[49m\u001b[43mtrainX\u001b[49m\u001b[43m,\u001b[49m\u001b[43m \u001b[49m\u001b[43mtrainY\u001b[49m\u001b[43m,\u001b[49m\u001b[43m \u001b[49m\u001b[43mepochs\u001b[49m\u001b[38;5;241;43m=\u001b[39;49m\u001b[38;5;241;43m100\u001b[39;49m\u001b[43m,\u001b[49m\u001b[43m \u001b[49m\n\u001b[1;32m      5\u001b[0m \u001b[43m                    \u001b[49m\u001b[43mvalidation_data\u001b[49m\u001b[38;5;241;43m=\u001b[39;49m\u001b[43m(\u001b[49m\u001b[43mvalidX\u001b[49m\u001b[43m,\u001b[49m\u001b[43m \u001b[49m\u001b[43mvalidY\u001b[49m\u001b[43m)\u001b[49m\u001b[43m)\u001b[49m\n",
      "File \u001b[0;32m/anaconda/envs/azureml_py38/lib/python3.8/site-packages/keras/utils/traceback_utils.py:64\u001b[0m, in \u001b[0;36mfilter_traceback.<locals>.error_handler\u001b[0;34m(*args, **kwargs)\u001b[0m\n\u001b[1;32m     62\u001b[0m filtered_tb \u001b[38;5;241m=\u001b[39m \u001b[38;5;28;01mNone\u001b[39;00m\n\u001b[1;32m     63\u001b[0m \u001b[38;5;28;01mtry\u001b[39;00m:\n\u001b[0;32m---> 64\u001b[0m   \u001b[38;5;28;01mreturn\u001b[39;00m \u001b[43mfn\u001b[49m\u001b[43m(\u001b[49m\u001b[38;5;241;43m*\u001b[39;49m\u001b[43margs\u001b[49m\u001b[43m,\u001b[49m\u001b[43m \u001b[49m\u001b[38;5;241;43m*\u001b[39;49m\u001b[38;5;241;43m*\u001b[39;49m\u001b[43mkwargs\u001b[49m\u001b[43m)\u001b[49m\n\u001b[1;32m     65\u001b[0m \u001b[38;5;28;01mexcept\u001b[39;00m \u001b[38;5;167;01mException\u001b[39;00m \u001b[38;5;28;01mas\u001b[39;00m e:  \u001b[38;5;66;03m# pylint: disable=broad-except\u001b[39;00m\n\u001b[1;32m     66\u001b[0m   filtered_tb \u001b[38;5;241m=\u001b[39m _process_traceback_frames(e\u001b[38;5;241m.\u001b[39m__traceback__)\n",
      "File \u001b[0;32m/anaconda/envs/azureml_py38/lib/python3.8/site-packages/keras/engine/training.py:1389\u001b[0m, in \u001b[0;36mModel.fit\u001b[0;34m(self, x, y, batch_size, epochs, verbose, callbacks, validation_split, validation_data, shuffle, class_weight, sample_weight, initial_epoch, steps_per_epoch, validation_steps, validation_batch_size, validation_freq, max_queue_size, workers, use_multiprocessing)\u001b[0m\n\u001b[1;32m   1387\u001b[0m logs \u001b[38;5;241m=\u001b[39m tmp_logs  \u001b[38;5;66;03m# No error, now safe to assign to logs.\u001b[39;00m\n\u001b[1;32m   1388\u001b[0m end_step \u001b[38;5;241m=\u001b[39m step \u001b[38;5;241m+\u001b[39m data_handler\u001b[38;5;241m.\u001b[39mstep_increment\n\u001b[0;32m-> 1389\u001b[0m \u001b[43mcallbacks\u001b[49m\u001b[38;5;241;43m.\u001b[39;49m\u001b[43mon_train_batch_end\u001b[49m\u001b[43m(\u001b[49m\u001b[43mend_step\u001b[49m\u001b[43m,\u001b[49m\u001b[43m \u001b[49m\u001b[43mlogs\u001b[49m\u001b[43m)\u001b[49m\n\u001b[1;32m   1390\u001b[0m \u001b[38;5;28;01mif\u001b[39;00m \u001b[38;5;28mself\u001b[39m\u001b[38;5;241m.\u001b[39mstop_training:\n\u001b[1;32m   1391\u001b[0m   \u001b[38;5;28;01mbreak\u001b[39;00m\n",
      "File \u001b[0;32m/anaconda/envs/azureml_py38/lib/python3.8/site-packages/keras/callbacks.py:438\u001b[0m, in \u001b[0;36mCallbackList.on_train_batch_end\u001b[0;34m(self, batch, logs)\u001b[0m\n\u001b[1;32m    431\u001b[0m \u001b[38;5;124;03m\"\"\"Calls the `on_train_batch_end` methods of its callbacks.\u001b[39;00m\n\u001b[1;32m    432\u001b[0m \n\u001b[1;32m    433\u001b[0m \u001b[38;5;124;03mArgs:\u001b[39;00m\n\u001b[1;32m    434\u001b[0m \u001b[38;5;124;03m    batch: Integer, index of batch within the current epoch.\u001b[39;00m\n\u001b[1;32m    435\u001b[0m \u001b[38;5;124;03m    logs: Dict. Aggregated metric results up until this batch.\u001b[39;00m\n\u001b[1;32m    436\u001b[0m \u001b[38;5;124;03m\"\"\"\u001b[39;00m\n\u001b[1;32m    437\u001b[0m \u001b[38;5;28;01mif\u001b[39;00m \u001b[38;5;28mself\u001b[39m\u001b[38;5;241m.\u001b[39m_should_call_train_batch_hooks:\n\u001b[0;32m--> 438\u001b[0m   \u001b[38;5;28;43mself\u001b[39;49m\u001b[38;5;241;43m.\u001b[39;49m\u001b[43m_call_batch_hook\u001b[49m\u001b[43m(\u001b[49m\u001b[43mModeKeys\u001b[49m\u001b[38;5;241;43m.\u001b[39;49m\u001b[43mTRAIN\u001b[49m\u001b[43m,\u001b[49m\u001b[43m \u001b[49m\u001b[38;5;124;43m'\u001b[39;49m\u001b[38;5;124;43mend\u001b[39;49m\u001b[38;5;124;43m'\u001b[39;49m\u001b[43m,\u001b[49m\u001b[43m \u001b[49m\u001b[43mbatch\u001b[49m\u001b[43m,\u001b[49m\u001b[43m \u001b[49m\u001b[43mlogs\u001b[49m\u001b[38;5;241;43m=\u001b[39;49m\u001b[43mlogs\u001b[49m\u001b[43m)\u001b[49m\n",
      "File \u001b[0;32m/anaconda/envs/azureml_py38/lib/python3.8/site-packages/keras/callbacks.py:297\u001b[0m, in \u001b[0;36mCallbackList._call_batch_hook\u001b[0;34m(self, mode, hook, batch, logs)\u001b[0m\n\u001b[1;32m    295\u001b[0m   \u001b[38;5;28mself\u001b[39m\u001b[38;5;241m.\u001b[39m_call_batch_begin_hook(mode, batch, logs)\n\u001b[1;32m    296\u001b[0m \u001b[38;5;28;01melif\u001b[39;00m hook \u001b[38;5;241m==\u001b[39m \u001b[38;5;124m'\u001b[39m\u001b[38;5;124mend\u001b[39m\u001b[38;5;124m'\u001b[39m:\n\u001b[0;32m--> 297\u001b[0m   \u001b[38;5;28;43mself\u001b[39;49m\u001b[38;5;241;43m.\u001b[39;49m\u001b[43m_call_batch_end_hook\u001b[49m\u001b[43m(\u001b[49m\u001b[43mmode\u001b[49m\u001b[43m,\u001b[49m\u001b[43m \u001b[49m\u001b[43mbatch\u001b[49m\u001b[43m,\u001b[49m\u001b[43m \u001b[49m\u001b[43mlogs\u001b[49m\u001b[43m)\u001b[49m\n\u001b[1;32m    298\u001b[0m \u001b[38;5;28;01melse\u001b[39;00m:\n\u001b[1;32m    299\u001b[0m   \u001b[38;5;28;01mraise\u001b[39;00m \u001b[38;5;167;01mValueError\u001b[39;00m(\n\u001b[1;32m    300\u001b[0m       \u001b[38;5;124mf\u001b[39m\u001b[38;5;124m'\u001b[39m\u001b[38;5;124mUnrecognized hook: \u001b[39m\u001b[38;5;132;01m{\u001b[39;00mhook\u001b[38;5;132;01m}\u001b[39;00m\u001b[38;5;124m. Expected values are [\u001b[39m\u001b[38;5;124m\"\u001b[39m\u001b[38;5;124mbegin\u001b[39m\u001b[38;5;124m\"\u001b[39m\u001b[38;5;124m, \u001b[39m\u001b[38;5;124m\"\u001b[39m\u001b[38;5;124mend\u001b[39m\u001b[38;5;124m\"\u001b[39m\u001b[38;5;124m]\u001b[39m\u001b[38;5;124m'\u001b[39m)\n",
      "File \u001b[0;32m/anaconda/envs/azureml_py38/lib/python3.8/site-packages/keras/callbacks.py:318\u001b[0m, in \u001b[0;36mCallbackList._call_batch_end_hook\u001b[0;34m(self, mode, batch, logs)\u001b[0m\n\u001b[1;32m    315\u001b[0m   batch_time \u001b[38;5;241m=\u001b[39m time\u001b[38;5;241m.\u001b[39mtime() \u001b[38;5;241m-\u001b[39m \u001b[38;5;28mself\u001b[39m\u001b[38;5;241m.\u001b[39m_batch_start_time\n\u001b[1;32m    316\u001b[0m   \u001b[38;5;28mself\u001b[39m\u001b[38;5;241m.\u001b[39m_batch_times\u001b[38;5;241m.\u001b[39mappend(batch_time)\n\u001b[0;32m--> 318\u001b[0m \u001b[38;5;28;43mself\u001b[39;49m\u001b[38;5;241;43m.\u001b[39;49m\u001b[43m_call_batch_hook_helper\u001b[49m\u001b[43m(\u001b[49m\u001b[43mhook_name\u001b[49m\u001b[43m,\u001b[49m\u001b[43m \u001b[49m\u001b[43mbatch\u001b[49m\u001b[43m,\u001b[49m\u001b[43m \u001b[49m\u001b[43mlogs\u001b[49m\u001b[43m)\u001b[49m\n\u001b[1;32m    320\u001b[0m \u001b[38;5;28;01mif\u001b[39;00m \u001b[38;5;28mlen\u001b[39m(\u001b[38;5;28mself\u001b[39m\u001b[38;5;241m.\u001b[39m_batch_times) \u001b[38;5;241m>\u001b[39m\u001b[38;5;241m=\u001b[39m \u001b[38;5;28mself\u001b[39m\u001b[38;5;241m.\u001b[39m_num_batches_for_timing_check:\n\u001b[1;32m    321\u001b[0m   end_hook_name \u001b[38;5;241m=\u001b[39m hook_name\n",
      "File \u001b[0;32m/anaconda/envs/azureml_py38/lib/python3.8/site-packages/keras/callbacks.py:356\u001b[0m, in \u001b[0;36mCallbackList._call_batch_hook_helper\u001b[0;34m(self, hook_name, batch, logs)\u001b[0m\n\u001b[1;32m    354\u001b[0m \u001b[38;5;28;01mfor\u001b[39;00m callback \u001b[38;5;129;01min\u001b[39;00m \u001b[38;5;28mself\u001b[39m\u001b[38;5;241m.\u001b[39mcallbacks:\n\u001b[1;32m    355\u001b[0m   hook \u001b[38;5;241m=\u001b[39m \u001b[38;5;28mgetattr\u001b[39m(callback, hook_name)\n\u001b[0;32m--> 356\u001b[0m   \u001b[43mhook\u001b[49m\u001b[43m(\u001b[49m\u001b[43mbatch\u001b[49m\u001b[43m,\u001b[49m\u001b[43m \u001b[49m\u001b[43mlogs\u001b[49m\u001b[43m)\u001b[49m\n\u001b[1;32m    358\u001b[0m \u001b[38;5;28;01mif\u001b[39;00m \u001b[38;5;28mself\u001b[39m\u001b[38;5;241m.\u001b[39m_check_timing:\n\u001b[1;32m    359\u001b[0m   \u001b[38;5;28;01mif\u001b[39;00m hook_name \u001b[38;5;129;01mnot\u001b[39;00m \u001b[38;5;129;01min\u001b[39;00m \u001b[38;5;28mself\u001b[39m\u001b[38;5;241m.\u001b[39m_hook_times:\n",
      "File \u001b[0;32m/anaconda/envs/azureml_py38/lib/python3.8/site-packages/keras/callbacks.py:1034\u001b[0m, in \u001b[0;36mProgbarLogger.on_train_batch_end\u001b[0;34m(self, batch, logs)\u001b[0m\n\u001b[1;32m   1033\u001b[0m \u001b[38;5;28;01mdef\u001b[39;00m \u001b[38;5;21mon_train_batch_end\u001b[39m(\u001b[38;5;28mself\u001b[39m, batch, logs\u001b[38;5;241m=\u001b[39m\u001b[38;5;28;01mNone\u001b[39;00m):\n\u001b[0;32m-> 1034\u001b[0m   \u001b[38;5;28;43mself\u001b[39;49m\u001b[38;5;241;43m.\u001b[39;49m\u001b[43m_batch_update_progbar\u001b[49m\u001b[43m(\u001b[49m\u001b[43mbatch\u001b[49m\u001b[43m,\u001b[49m\u001b[43m \u001b[49m\u001b[43mlogs\u001b[49m\u001b[43m)\u001b[49m\n",
      "File \u001b[0;32m/anaconda/envs/azureml_py38/lib/python3.8/site-packages/keras/callbacks.py:1106\u001b[0m, in \u001b[0;36mProgbarLogger._batch_update_progbar\u001b[0;34m(self, batch, logs)\u001b[0m\n\u001b[1;32m   1102\u001b[0m   \u001b[38;5;28mself\u001b[39m\u001b[38;5;241m.\u001b[39mseen \u001b[38;5;241m+\u001b[39m\u001b[38;5;241m=\u001b[39m add_seen\n\u001b[1;32m   1104\u001b[0m \u001b[38;5;28;01mif\u001b[39;00m \u001b[38;5;28mself\u001b[39m\u001b[38;5;241m.\u001b[39mverbose \u001b[38;5;241m==\u001b[39m \u001b[38;5;241m1\u001b[39m:\n\u001b[1;32m   1105\u001b[0m   \u001b[38;5;66;03m# Only block async when verbose = 1.\u001b[39;00m\n\u001b[0;32m-> 1106\u001b[0m   logs \u001b[38;5;241m=\u001b[39m \u001b[43mtf_utils\u001b[49m\u001b[38;5;241;43m.\u001b[39;49m\u001b[43msync_to_numpy_or_python_type\u001b[49m\u001b[43m(\u001b[49m\u001b[43mlogs\u001b[49m\u001b[43m)\u001b[49m\n\u001b[1;32m   1107\u001b[0m   \u001b[38;5;28mself\u001b[39m\u001b[38;5;241m.\u001b[39mprogbar\u001b[38;5;241m.\u001b[39mupdate(\u001b[38;5;28mself\u001b[39m\u001b[38;5;241m.\u001b[39mseen, \u001b[38;5;28mlist\u001b[39m(logs\u001b[38;5;241m.\u001b[39mitems()), finalize\u001b[38;5;241m=\u001b[39m\u001b[38;5;28;01mFalse\u001b[39;00m)\n",
      "File \u001b[0;32m/anaconda/envs/azureml_py38/lib/python3.8/site-packages/keras/utils/tf_utils.py:563\u001b[0m, in \u001b[0;36msync_to_numpy_or_python_type\u001b[0;34m(tensors)\u001b[0m\n\u001b[1;32m    560\u001b[0m     \u001b[38;5;28;01mreturn\u001b[39;00m t\n\u001b[1;32m    561\u001b[0m   \u001b[38;5;28;01mreturn\u001b[39;00m t\u001b[38;5;241m.\u001b[39mitem() \u001b[38;5;28;01mif\u001b[39;00m np\u001b[38;5;241m.\u001b[39mndim(t) \u001b[38;5;241m==\u001b[39m \u001b[38;5;241m0\u001b[39m \u001b[38;5;28;01melse\u001b[39;00m t\n\u001b[0;32m--> 563\u001b[0m \u001b[38;5;28;01mreturn\u001b[39;00m \u001b[43mtf\u001b[49m\u001b[38;5;241;43m.\u001b[39;49m\u001b[43mnest\u001b[49m\u001b[38;5;241;43m.\u001b[39;49m\u001b[43mmap_structure\u001b[49m\u001b[43m(\u001b[49m\u001b[43m_to_single_numpy_or_python_type\u001b[49m\u001b[43m,\u001b[49m\u001b[43m \u001b[49m\u001b[43mtensors\u001b[49m\u001b[43m)\u001b[49m\n",
      "File \u001b[0;32m/anaconda/envs/azureml_py38/lib/python3.8/site-packages/tensorflow/python/util/nest.py:914\u001b[0m, in \u001b[0;36mmap_structure\u001b[0;34m(func, *structure, **kwargs)\u001b[0m\n\u001b[1;32m    910\u001b[0m flat_structure \u001b[38;5;241m=\u001b[39m (flatten(s, expand_composites) \u001b[38;5;28;01mfor\u001b[39;00m s \u001b[38;5;129;01min\u001b[39;00m structure)\n\u001b[1;32m    911\u001b[0m entries \u001b[38;5;241m=\u001b[39m \u001b[38;5;28mzip\u001b[39m(\u001b[38;5;241m*\u001b[39mflat_structure)\n\u001b[1;32m    913\u001b[0m \u001b[38;5;28;01mreturn\u001b[39;00m pack_sequence_as(\n\u001b[0;32m--> 914\u001b[0m     structure[\u001b[38;5;241m0\u001b[39m], [func(\u001b[38;5;241m*\u001b[39mx) \u001b[38;5;28;01mfor\u001b[39;00m x \u001b[38;5;129;01min\u001b[39;00m entries],\n\u001b[1;32m    915\u001b[0m     expand_composites\u001b[38;5;241m=\u001b[39mexpand_composites)\n",
      "File \u001b[0;32m/anaconda/envs/azureml_py38/lib/python3.8/site-packages/tensorflow/python/util/nest.py:914\u001b[0m, in \u001b[0;36m<listcomp>\u001b[0;34m(.0)\u001b[0m\n\u001b[1;32m    910\u001b[0m flat_structure \u001b[38;5;241m=\u001b[39m (flatten(s, expand_composites) \u001b[38;5;28;01mfor\u001b[39;00m s \u001b[38;5;129;01min\u001b[39;00m structure)\n\u001b[1;32m    911\u001b[0m entries \u001b[38;5;241m=\u001b[39m \u001b[38;5;28mzip\u001b[39m(\u001b[38;5;241m*\u001b[39mflat_structure)\n\u001b[1;32m    913\u001b[0m \u001b[38;5;28;01mreturn\u001b[39;00m pack_sequence_as(\n\u001b[0;32m--> 914\u001b[0m     structure[\u001b[38;5;241m0\u001b[39m], [\u001b[43mfunc\u001b[49m\u001b[43m(\u001b[49m\u001b[38;5;241;43m*\u001b[39;49m\u001b[43mx\u001b[49m\u001b[43m)\u001b[49m \u001b[38;5;28;01mfor\u001b[39;00m x \u001b[38;5;129;01min\u001b[39;00m entries],\n\u001b[1;32m    915\u001b[0m     expand_composites\u001b[38;5;241m=\u001b[39mexpand_composites)\n",
      "File \u001b[0;32m/anaconda/envs/azureml_py38/lib/python3.8/site-packages/keras/utils/tf_utils.py:557\u001b[0m, in \u001b[0;36msync_to_numpy_or_python_type.<locals>._to_single_numpy_or_python_type\u001b[0;34m(t)\u001b[0m\n\u001b[1;32m    554\u001b[0m \u001b[38;5;28;01mdef\u001b[39;00m \u001b[38;5;21m_to_single_numpy_or_python_type\u001b[39m(t):\n\u001b[1;32m    555\u001b[0m   \u001b[38;5;66;03m# Don't turn ragged or sparse tensors to NumPy.\u001b[39;00m\n\u001b[1;32m    556\u001b[0m   \u001b[38;5;28;01mif\u001b[39;00m \u001b[38;5;28misinstance\u001b[39m(t, tf\u001b[38;5;241m.\u001b[39mTensor):\n\u001b[0;32m--> 557\u001b[0m     t \u001b[38;5;241m=\u001b[39m \u001b[43mt\u001b[49m\u001b[38;5;241;43m.\u001b[39;49m\u001b[43mnumpy\u001b[49m\u001b[43m(\u001b[49m\u001b[43m)\u001b[49m\n\u001b[1;32m    558\u001b[0m   \u001b[38;5;66;03m# Strings, ragged and sparse tensors don't have .item(). Return them as-is.\u001b[39;00m\n\u001b[1;32m    559\u001b[0m   \u001b[38;5;28;01mif\u001b[39;00m \u001b[38;5;129;01mnot\u001b[39;00m \u001b[38;5;28misinstance\u001b[39m(t, (np\u001b[38;5;241m.\u001b[39mndarray, np\u001b[38;5;241m.\u001b[39mgeneric)):\n",
      "File \u001b[0;32m/anaconda/envs/azureml_py38/lib/python3.8/site-packages/tensorflow/python/framework/ops.py:1223\u001b[0m, in \u001b[0;36m_EagerTensorBase.numpy\u001b[0;34m(self)\u001b[0m\n\u001b[1;32m   1200\u001b[0m \u001b[38;5;124;03m\"\"\"Copy of the contents of this Tensor into a NumPy array or scalar.\u001b[39;00m\n\u001b[1;32m   1201\u001b[0m \n\u001b[1;32m   1202\u001b[0m \u001b[38;5;124;03mUnlike NumPy arrays, Tensors are immutable, so this method has to copy\u001b[39;00m\n\u001b[0;32m   (...)\u001b[0m\n\u001b[1;32m   1220\u001b[0m \u001b[38;5;124;03m    NumPy dtype.\u001b[39;00m\n\u001b[1;32m   1221\u001b[0m \u001b[38;5;124;03m\"\"\"\u001b[39;00m\n\u001b[1;32m   1222\u001b[0m \u001b[38;5;66;03m# TODO(slebedev): Consider avoiding a copy for non-CPU or remote tensors.\u001b[39;00m\n\u001b[0;32m-> 1223\u001b[0m maybe_arr \u001b[38;5;241m=\u001b[39m \u001b[38;5;28;43mself\u001b[39;49m\u001b[38;5;241;43m.\u001b[39;49m\u001b[43m_numpy\u001b[49m\u001b[43m(\u001b[49m\u001b[43m)\u001b[49m  \u001b[38;5;66;03m# pylint: disable=protected-access\u001b[39;00m\n\u001b[1;32m   1224\u001b[0m \u001b[38;5;28;01mreturn\u001b[39;00m maybe_arr\u001b[38;5;241m.\u001b[39mcopy() \u001b[38;5;28;01mif\u001b[39;00m \u001b[38;5;28misinstance\u001b[39m(maybe_arr, np\u001b[38;5;241m.\u001b[39mndarray) \u001b[38;5;28;01melse\u001b[39;00m maybe_arr\n",
      "File \u001b[0;32m/anaconda/envs/azureml_py38/lib/python3.8/site-packages/tensorflow/python/framework/ops.py:1189\u001b[0m, in \u001b[0;36m_EagerTensorBase._numpy\u001b[0;34m(self)\u001b[0m\n\u001b[1;32m   1187\u001b[0m \u001b[38;5;28;01mdef\u001b[39;00m \u001b[38;5;21m_numpy\u001b[39m(\u001b[38;5;28mself\u001b[39m):\n\u001b[1;32m   1188\u001b[0m   \u001b[38;5;28;01mtry\u001b[39;00m:\n\u001b[0;32m-> 1189\u001b[0m     \u001b[38;5;28;01mreturn\u001b[39;00m \u001b[38;5;28;43mself\u001b[39;49m\u001b[38;5;241;43m.\u001b[39;49m\u001b[43m_numpy_internal\u001b[49m\u001b[43m(\u001b[49m\u001b[43m)\u001b[49m\n\u001b[1;32m   1190\u001b[0m   \u001b[38;5;28;01mexcept\u001b[39;00m core\u001b[38;5;241m.\u001b[39m_NotOkStatusException \u001b[38;5;28;01mas\u001b[39;00m e:  \u001b[38;5;66;03m# pylint: disable=protected-access\u001b[39;00m\n\u001b[1;32m   1191\u001b[0m     \u001b[38;5;28;01mraise\u001b[39;00m core\u001b[38;5;241m.\u001b[39m_status_to_exception(e) \u001b[38;5;28;01mfrom\u001b[39;00m \u001b[38;5;28mNone\u001b[39m\n",
      "\u001b[0;31mKeyboardInterrupt\u001b[0m: "
     ]
    }
   ],
   "source": [
    "opt = SGD(lr=1e-5, momentum=0.9)\n",
    "model.compile(loss='binary_crossentropy', optimizer=opt, metrics=['accuracy'])\n",
    "\n",
    "history = model.fit(trainX, trainY, epochs=100, \n",
    "                    validation_data=(validX, validY))"
   ]
  },
  {
   "cell_type": "markdown",
   "id": "ab0474be",
   "metadata": {},
   "source": [
    "A very simple CNN is able to obtain higher accuracies than the previous models"
   ]
  },
  {
   "cell_type": "code",
   "execution_count": 31,
   "id": "c4d8f76b",
   "metadata": {},
   "outputs": [
    {
     "name": "stdout",
     "output_type": "stream",
     "text": [
      "7/7 [==============================] - 0s 4ms/step - loss: 0.6500 - accuracy: 0.6450\n"
     ]
    },
    {
     "data": {
      "text/plain": [
       "0.6449999809265137"
      ]
     },
     "execution_count": 31,
     "metadata": {},
     "output_type": "execute_result"
    }
   ],
   "source": [
    "test_loss, test_acc = model.evaluate(testX, testY)\n",
    "test_acc"
   ]
  },
  {
   "cell_type": "code",
   "execution_count": 17,
   "id": "b837276f",
   "metadata": {},
   "outputs": [
    {
     "data": {
      "text/plain": [
       "(200, 12288)"
      ]
     },
     "execution_count": 17,
     "metadata": {},
     "output_type": "execute_result"
    }
   ],
   "source": [
    "testX.shape"
   ]
  }
 ],
 "metadata": {
  "kernelspec": {
   "display_name": "Python 3",
   "language": "python",
   "name": "python3"
  },
  "language_info": {
   "codemirror_mode": {
    "name": "ipython",
    "version": 3
   },
   "file_extension": ".py",
   "mimetype": "text/x-python",
   "name": "python",
   "nbconvert_exporter": "python",
   "pygments_lexer": "ipython3",
   "version": "3.8.1"
  }
 },
 "nbformat": 4,
 "nbformat_minor": 5
}
