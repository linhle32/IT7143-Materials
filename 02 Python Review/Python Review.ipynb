{
 "cells": [
  {
   "cell_type": "markdown",
   "id": "c1f5e206",
   "metadata": {},
   "source": [
    "<h2>Review on Python Programming</h2>\n",
    "\n",
    "In this module, we review the important concepts on Python programming that will be used throughout the rest of our course.\n",
    "\n",
    "<h3> Variables </h3>\n",
    "\n",
    "- Are symbolic names that can be assigned values\n",
    "- Assignments are done with the = operator\n",
    "- After assignment, the variables carried the value, and the interpreter uses those values whenever it encounters the variables\n",
    "\n",
    "In the cell below, first we assign the value 1 to x, and the value 2 to y. When being input to print(), the <b>values</b> given to the variables will be output, not the variables' name"
   ]
  },
  {
   "cell_type": "code",
   "execution_count": 1,
   "id": "cd9c4058",
   "metadata": {},
   "outputs": [
    {
     "name": "stdout",
     "output_type": "stream",
     "text": [
      "1\n",
      "2\n",
      "3\n"
     ]
    }
   ],
   "source": [
    "x = 1\n",
    "y = 2\n",
    "print(x)\n",
    "print(y)\n",
    "print(x + y)"
   ]
  },
  {
   "cell_type": "markdown",
   "id": "25d0c297",
   "metadata": {},
   "source": [
    "We use variables to store almost everything necessary during an analytical process, for example, a dataset, a model, predicited labels, etc. In the example below (note that you will need to have scikit-learn installed to run the example), we perform a simple linear regression (will be discussed in later modules) on the diabetes dataset. The data has ten features: age, sex, body mass index, average blood pressure, and six blood serum measurements were obtained for each 442 diabetes patients. The target to analyze is a quantitative measure of disease progression one year after baseline. The codes include the following variables:\n",
    "\n",
    "- \"data\" stores the dataset diabetes from the sklearn library\n",
    "- \"features\" stores the feature (predictor) part of the diabete data\n",
    "- \"targets\" stores the target (label) part of the diabete data\n",
    "- \"linear_model\" represents a linear regression model from the sklearn library\n",
    "- \"predicted_targets\" stores the predicted values that are output by the linear_model\n",
    "\n",
    "If you use the print() function on each of the variables, you will see more of their details."
   ]
  },
  {
   "cell_type": "code",
   "execution_count": 10,
   "id": "7368f9c5",
   "metadata": {},
   "outputs": [],
   "source": [
    "from sklearn.datasets import load_diabetes\n",
    "from sklearn.linear_model import LinearRegression\n",
    "\n",
    "data = load_diabetes()\n",
    "features = data['data']\n",
    "targets = data['target']\n",
    "\n",
    "linear_model = LinearRegression()\n",
    "\n",
    "linear_model.fit(features,targets)\n",
    "\n",
    "predicted_targets = linear_model.predict(features)"
   ]
  },
  {
   "cell_type": "markdown",
   "id": "87b0be63",
   "metadata": {},
   "source": [
    "<h3>Functions</h3>\n",
    "\n",
    "Recall, a math function can be something like  \n",
    "$f(x) = x + 1$  \n",
    "And we can use it for different inputs to get different outputs, however, the processing of inputs is always the same: any input is added with 1 when given to the function  \n",
    "$f(1) = 2$  \n",
    "$f(5) = 6$  \n",
    "...\n",
    "\n",
    "A Python function is somewhat similar. In Python, a function is pre-written codes that do a particular task on any input given to it (however, input is optional)\n",
    "\n",
    "We can use a function by referring to its names. Functions' names must be followed by a pair of open-close parentheses <b>()</b>. This action is named \"<b>calling a function</b>\", or a \"<b>function call</b>\"\n",
    "\n",
    "A function may or may not have input parameters. Input parameters must be inside the parentheses. Functions without input parameters still need the parentheses however there is nothing in between them. \n",
    "\n",
    "A function that we've been using earlier is <b>print()</b>. <b>print()</b> is used to output the <b>values, or contents</b>, of the inputs we give it. A <b>print()</b> without input parameters will output an empty line. \n",
    "\n",
    "Other examples of built-in functions (those that come with your Python) are the <b>type(), int(), float(), str()</b>, etc."
   ]
  },
  {
   "cell_type": "code",
   "execution_count": 8,
   "id": "8817e8f8",
   "metadata": {},
   "outputs": [
    {
     "name": "stdout",
     "output_type": "stream",
     "text": [
      "1\n",
      "6\n",
      "100\n",
      "\n",
      "[[ 0.03807591  0.05068012  0.06169621 ... -0.00259226  0.01990842\n",
      "  -0.01764613]\n",
      " [-0.00188202 -0.04464164 -0.05147406 ... -0.03949338 -0.06832974\n",
      "  -0.09220405]\n",
      " [ 0.08529891  0.05068012  0.04445121 ... -0.00259226  0.00286377\n",
      "  -0.02593034]\n",
      " ...\n",
      " [ 0.04170844  0.05068012 -0.01590626 ... -0.01107952 -0.04687948\n",
      "   0.01549073]\n",
      " [-0.04547248 -0.04464164  0.03906215 ...  0.02655962  0.04452837\n",
      "  -0.02593034]\n",
      " [-0.04547248 -0.04464164 -0.0730303  ... -0.03949338 -0.00421986\n",
      "   0.00306441]]\n",
      "\n",
      "LinearRegression()\n"
     ]
    }
   ],
   "source": [
    "print(1)\n",
    "print(1+5)\n",
    "print(10*10)\n",
    "print()\n",
    "print(features)\n",
    "print()\n",
    "print(linear_model)"
   ]
  },
  {
   "cell_type": "markdown",
   "id": "881b1e1c",
   "metadata": {},
   "source": [
    "<h3> if Structures </h3>\n",
    "\n",
    "if structures allow us to write codes that execute in some cases and not execute in some other based on checking certain conditions. For example, if a person is 20 year old, assign them to age group 1, if a person is 30 year old, assign them to age group 2, etc. If structures are very commonly used in analytics.\n",
    "\n",
    "<h4> The Simple if Statement </h4>\n",
    "\n",
    "The most basic structure is an <b>if</b> statement. The syntax is as follows\n",
    "\n",
    "<b>\n",
    "if &lt;condition expression&gt;:<br>\n",
    "&emsp;#block of codes\n",
    "</b>\n",
    "\n",
    "when the statement is running, it will first check the &lt;condition expression&gt; which if being correct (i.e., returns the boolean value <b>True</b>), will results in the #block of codes being executed. If the &lt;condition expression&gt; is wrong (i.e. returns the boolean value <b>False</b>), the #block of codes will be ignored, and the program skips to the next executable codes.\n",
    "\n",
    "Below are some examples"
   ]
  },
  {
   "cell_type": "code",
   "execution_count": 2,
   "id": "fa53c581",
   "metadata": {},
   "outputs": [
    {
     "name": "stdout",
     "output_type": "stream",
     "text": [
      "age:  20 , age group:  1\n"
     ]
    }
   ],
   "source": [
    "age = 20\n",
    "\n",
    "if (age < 25):\n",
    "    age_group = 1\n",
    "    \n",
    "print('age: ', age, ', age group: ', age_group)"
   ]
  },
  {
   "cell_type": "code",
   "execution_count": 3,
   "id": "236c6520",
   "metadata": {},
   "outputs": [
    {
     "name": "stdout",
     "output_type": "stream",
     "text": [
      "age:  20 , age group:  1\n"
     ]
    }
   ],
   "source": [
    "age = 20\n",
    "\n",
    "if (age > 25):\n",
    "    age_group = 2\n",
    "    \n",
    "print('age: ', age, ', age group: ', age_group)"
   ]
  },
  {
   "cell_type": "markdown",
   "id": "f6d8e317",
   "metadata": {},
   "source": [
    "<h3> The if-else Statement</h3>\n",
    "\n",
    "The <b>if-else</b> statement allows us to add actions for the <b>False</b> case of the expression given to if. The syntax is\n",
    "\n",
    "<b>\n",
    "if &lt;boolean expression&gt;: <br>\n",
    "&emsp;#True block <br>\n",
    "else: <br>\n",
    "&emsp;#False block\n",
    "</b>\n",
    "\n",
    "when the statement is running, it will first check the &lt;condition expression&gt; which if being correct (i.e., returns the boolean value <b>True</b>), will results in the #True block being executed. If the &lt;condition expression&gt; is wrong (i.e. returns the boolean value <b>False</b>), the #False block will be executed."
   ]
  },
  {
   "cell_type": "code",
   "execution_count": 4,
   "id": "f1330b66",
   "metadata": {},
   "outputs": [
    {
     "name": "stdout",
     "output_type": "stream",
     "text": [
      "age:  30 , age group:  2\n"
     ]
    }
   ],
   "source": [
    "age = 30\n",
    "\n",
    "if (age < 25):\n",
    "    age_group = 1\n",
    "else:\n",
    "    age_group = 2\n",
    "    \n",
    "print('age: ', age, ', age group: ', age_group)"
   ]
  },
  {
   "cell_type": "markdown",
   "id": "ec94732d",
   "metadata": {},
   "source": [
    "<h3>The if-elif-else Structure</h3>\n",
    "\n",
    "Unlike the if-else statement which only allows two outcomes, and if we want to check for multiple conditions we need to nest statements, the if-elif-else statement can check a chain of conditions without nested structures. The syntax of this statement is\n",
    "\n",
    "<b>\n",
    "if &lt;Expression 1&gt;: <br>\n",
    "&emsp;#Block 1<br>\n",
    "elif &lt;Expression 2&gt;: <br>\n",
    "&emsp;#Block 2<br>\n",
    "elif &lt;Expression 3&gt;: <br>\n",
    "&emsp;#Block 3 <br>\n",
    "    ... <br>\n",
    "else:   #this is optional<br> \n",
    "&emsp;#Else Block <br>    \n",
    "</b>\n",
    "\n",
    "Each &lt;Expression&gt; in the structure will be evaluated in order (1, 2, 3, etc.). If an expression is correct, its corresponding block of codes will be executed, and the rest of the expressions and codes are omitted. The block of the else statement is executed only when all previous expressions are False."
   ]
  },
  {
   "cell_type": "code",
   "execution_count": 5,
   "id": "ed0fc913",
   "metadata": {},
   "outputs": [
    {
     "name": "stdout",
     "output_type": "stream",
     "text": [
      "age:  30 , age group:  3\n"
     ]
    }
   ],
   "source": [
    "age = 30\n",
    "\n",
    "if (age < 20):\n",
    "    age_group = 1\n",
    "elif (age < 30):\n",
    "    age_group = 2\n",
    "elif (age < 40):\n",
    "    age_group = 3\n",
    "elif (age < 50):\n",
    "    age_group = 4\n",
    "else:\n",
    "    age_group = 5\n",
    "    \n",
    "print('age: ', age, ', age group: ', age_group)"
   ]
  },
  {
   "cell_type": "markdown",
   "id": "eec67e51",
   "metadata": {},
   "source": [
    "<h3> Repetition Structure </h3>\n",
    "\n",
    "These structures allow us to repeat executing the same blocks of codes. In Python, we will talk about two loop structures: <b>while</b> loop and <b>for</b> loop.\n",
    "\n",
    "<h3><i>while</i> Loop</h3>\n",
    "\n",
    "In terms of syntax, the while loop is rather similar to a single if structure\n",
    "\n",
    "<b>\n",
    "while &lt;boolean expression&gt;:<br>\n",
    "&emsp;#block of codes\n",
    "</b>\n",
    "\n",
    "The block of codes will be <b>repeatly executed as long as</b> the boolean expression returns <b>True</b>.\n",
    "\n",
    "<h4>Some examples</h4>"
   ]
  },
  {
   "cell_type": "code",
   "execution_count": 6,
   "id": "37781f80",
   "metadata": {},
   "outputs": [
    {
     "name": "stdout",
     "output_type": "stream",
     "text": [
      "I have been repeated 1 time(s)\n",
      "I have been repeated 2 time(s)\n",
      "I have been repeated 3 time(s)\n",
      "I have been repeated 4 time(s)\n",
      "the loop has ended\n"
     ]
    }
   ],
   "source": [
    "time = 1                                                 #start from time=1\n",
    "\n",
    "while (time < 5):                                       #repeating until time is no longer < 5\n",
    "    print('I have been repeated %d time(s)' % time)      #this is repeated as long as time < 5\n",
    "    time += 1                                            #this is also repeated as long as time < 5\n",
    "    #time = time + 1                                     #it means we increment time by 1 in each iteration\n",
    "                                                         #at the end of the 4th iteration, time becomes 5\n",
    "                                                         #(time<5) returns False, so the loop terminates\n",
    "                                                         #the last print() is then invoked\n",
    "print('the loop has ended')"
   ]
  },
  {
   "cell_type": "markdown",
   "id": "69f61da6",
   "metadata": {},
   "source": [
    "<h3> <i>for</i> Loop </h3>\n",
    "\n",
    "Unlike while loop that continues or terminates based on checking a certain condition, <b>for</b> loop iterates through item of a given <b>sequence</b> of items.\n",
    "\n",
    "The first sequence object we get to know is a Python <b>list</b>. A list can created as\n",
    "\n",
    "<b>[&lt;val_1&gt, &lt;val_2&gt;, ...]</b>\n",
    "\n",
    "and if we want to assign a list to a variable\n",
    "\n",
    "<b>variable = [&lt;val_1&gt;, &lt;val_2&gt;, ...]</b>\n",
    "\n",
    "&lt;val_1&gt;, &lt;val_2&gt;... can be anything (e.g. int, float, str, boolean)\n",
    "\n",
    "The syntax of <b>for</b> loop:\n",
    "\n",
    "<b> for &lt;variable&gt; in &lt;sequence&gt;:<br>\n",
    "&emsp;#block of code\n",
    "</b>\n",
    "\n",
    "In a for loop, for each iteration, the interpreter checks if there are item remaining in the list. If there are more items, it executes the block of codes using the current item. If there are no items left, the loop terminates. For example, the execution of the loop below"
   ]
  },
  {
   "cell_type": "code",
   "execution_count": 20,
   "id": "49f1519c",
   "metadata": {},
   "outputs": [
    {
     "name": "stdout",
     "output_type": "stream",
     "text": [
      "55\n"
     ]
    }
   ],
   "source": [
    "sum = 0\n",
    "\n",
    "for num in [1,2,3,4,5,6,7,8,9,10]:\n",
    "    sum += num\n",
    "    \n",
    "print(sum)"
   ]
  },
  {
   "cell_type": "markdown",
   "id": "96b877fa",
   "metadata": {},
   "source": [
    "<h4> The <i>range()</i> Function</h4>\n",
    "\n",
    "The range() function generates a sequence of integer number. You can choose the start, stop, and step. The most basic use of range() is <b>range(integer_number)</b>. This will produce all integer numbers from <b>0</b> to <b>integer_number-1</b> as an <b>iterable</b> object. Roughly speaking, an iterable object is similar to a list, and we can use it in a for loop. For example"
   ]
  },
  {
   "cell_type": "code",
   "execution_count": 21,
   "id": "b89c45f5",
   "metadata": {},
   "outputs": [
    {
     "name": "stdout",
     "output_type": "stream",
     "text": [
      "0\n",
      "1\n",
      "2\n",
      "3\n",
      "4\n"
     ]
    }
   ],
   "source": [
    "for num in range(5):\n",
    "    print(num)"
   ]
  },
  {
   "cell_type": "markdown",
   "id": "c5f66ea8",
   "metadata": {},
   "source": [
    "The second use of range() is <b>range(start,stop)</b>. This way of input will create an iterable object of all integer number from <b>start</b> to <b>stop-1</b>. Both <b>start</b> and <b>stop must</b> be integer. For example"
   ]
  },
  {
   "cell_type": "code",
   "execution_count": 7,
   "id": "f05637da",
   "metadata": {},
   "outputs": [
    {
     "name": "stdout",
     "output_type": "stream",
     "text": [
      "5\n",
      "6\n",
      "7\n",
      "8\n",
      "9\n"
     ]
    }
   ],
   "source": [
    "for num in range(5,10):\n",
    "    print(num)"
   ]
  },
  {
   "cell_type": "markdown",
   "id": "12b90f8d",
   "metadata": {},
   "source": [
    "The third use of range() is <b>range(start,stop,step)</b>. This way of input will create an iterable object of integer number from <b>start</b> to <b>stop-1</b> incremented by <b>step</b>. All inputs <b>must be integer</b>. For example"
   ]
  },
  {
   "cell_type": "code",
   "execution_count": 8,
   "id": "bd5fc16a",
   "metadata": {},
   "outputs": [
    {
     "name": "stdout",
     "output_type": "stream",
     "text": [
      "0\n",
      "2\n",
      "4\n",
      "6\n",
      "8\n"
     ]
    }
   ],
   "source": [
    "for num in range(0,10,2):\n",
    "    print(num)"
   ]
  },
  {
   "cell_type": "markdown",
   "id": "e8be8ec5",
   "metadata": {},
   "source": [
    "In analytics, loops are fairly common. For example, they can be used to iterate through a list of features and process each feature."
   ]
  },
  {
   "cell_type": "code",
   "execution_count": 12,
   "id": "403a8a10",
   "metadata": {
    "scrolled": true
   },
   "outputs": [
    {
     "data": {
      "image/png": "[encoded data removed]",
      "text/plain": [
       "<Figure size 360x144 with 1 Axes>"
      ]
     },
     "metadata": {
      "needs_background": "light"
     },
     "output_type": "display_data"
    },
    {
     "data": {
      "image/png": "[encoded data removed]",
      "text/plain": [
       "<Figure size 360x144 with 1 Axes>"
      ]
     },
     "metadata": {
      "needs_background": "light"
     },
     "output_type": "display_data"
    },
    {
     "data": {
      "image/png": "[encoded data removed]",
      "text/plain": [
       "<Figure size 360x144 with 1 Axes>"
      ]
     },
     "metadata": {
      "needs_background": "light"
     },
     "output_type": "display_data"
    },
    {
     "data": {
      "image/png": "[encoded data removed]",
      "text/plain": [
       "<Figure size 360x144 with 1 Axes>"
      ]
     },
     "metadata": {
      "needs_background": "light"
     },
     "output_type": "display_data"
    },
    {
     "data": {
      "image/png": "[encoded data removed]",
      "text/plain": [
       "<Figure size 360x144 with 1 Axes>"
      ]
     },
     "metadata": {
      "needs_background": "light"
     },
     "output_type": "display_data"
    },
    {
     "data": {
      "image/png": "[encoded data removed]",
      "text/plain": [
       "<Figure size 360x144 with 1 Axes>"
      ]
     },
     "metadata": {
      "needs_background": "light"
     },
     "output_type": "display_data"
    },
    {
     "data": {
      "image/png": "[encoded data removed]",
      "text/plain": [
       "<Figure size 360x144 with 1 Axes>"
      ]
     },
     "metadata": {
      "needs_background": "light"
     },
     "output_type": "display_data"
    },
    {
     "data": {
      "image/png": "[encoded data removed]",
      "text/plain": [
       "<Figure size 360x144 with 1 Axes>"
      ]
     },
     "metadata": {
      "needs_background": "light"
     },
     "output_type": "display_data"
    },
    {
     "data": {
      "image/png": "[encoded data removed]",
      "text/plain": [
       "<Figure size 360x144 with 1 Axes>"
      ]
     },
     "metadata": {
      "needs_background": "light"
     },
     "output_type": "display_data"
    },
    {
     "data": {
      "image/png": "[encoded data removed]",
      "text/plain": [
       "<Figure size 360x144 with 1 Axes>"
      ]
     },
     "metadata": {
      "needs_background": "light"
     },
     "output_type": "display_data"
    }
   ],
   "source": [
    "import matplotlib.pyplot as plt\n",
    "\n",
    "for c in features.T:\n",
    "    plt.figure(figsize=(5,2))\n",
    "    plt.hist(c)\n",
    "    plt.show()"
   ]
  },
  {
   "cell_type": "markdown",
   "id": "5d823d81",
   "metadata": {},
   "source": [
    "<h3> List </h3>\n",
    "\n",
    "A list is a <b>collection</b> type in Python that can be used to store multiple items. We create a list with the below syntax\n",
    "\n",
    "<b>list_name = [&lt;val_1&gt;, &lt;val_2&gt;, ...]</b>\n",
    "\n",
    "- list items can be anything, as long as the individual items are defined (i.e. in case they are variables)\n",
    "- a list can contain a mixture of data types\n",
    "- a list can contain as many items as you want, as long as your computer has enough memory\n",
    "\n",
    "For example"
   ]
  },
  {
   "cell_type": "code",
   "execution_count": 2,
   "id": "3847c514",
   "metadata": {},
   "outputs": [
    {
     "name": "stdout",
     "output_type": "stream",
     "text": [
      "[1, 2, 3, 4, 5]\n"
     ]
    }
   ],
   "source": [
    "#a list of number\n",
    "a_list = [1,2,3,4,5]\n",
    "\n",
    "#we can use print() to print out all items in a list\n",
    "print(a_list)"
   ]
  },
  {
   "cell_type": "code",
   "execution_count": 3,
   "id": "39426873",
   "metadata": {},
   "outputs": [
    {
     "name": "stdout",
     "output_type": "stream",
     "text": [
      "['a', 'b', 'c', 'd', 'e']\n"
     ]
    }
   ],
   "source": [
    "#a list of string\n",
    "another_list = ['a','b','c','d','e']\n",
    "print(another_list)"
   ]
  },
  {
   "cell_type": "code",
   "execution_count": 4,
   "id": "e8a0f200",
   "metadata": {},
   "outputs": [
    {
     "name": "stdout",
     "output_type": "stream",
     "text": [
      "[1, 2, 3, 4, 5, 'a', 'b', 'c', 'd', 'e']\n"
     ]
    }
   ],
   "source": [
    "#a list of number and string\n",
    "list_3 = [1,2,3,4,5,'a','b','c','d','e']\n",
    "print(list_3)"
   ]
  },
  {
   "cell_type": "markdown",
   "id": "80f79cab",
   "metadata": {},
   "source": [
    "Items in a list can be accessed through index or a loop"
   ]
  },
  {
   "cell_type": "code",
   "execution_count": 13,
   "id": "9b7b9c63",
   "metadata": {},
   "outputs": [
    {
     "name": "stdout",
     "output_type": "stream",
     "text": [
      "10\n",
      "4\n",
      "61\n",
      "73\n"
     ]
    }
   ],
   "source": [
    "a_list = [10,4,6,6,12,61,78,34,90,73]\n",
    "\n",
    "print(a_list[0])\n",
    "print(a_list[1])\n",
    "print(a_list[5])\n",
    "print(a_list[9])"
   ]
  },
  {
   "cell_type": "code",
   "execution_count": 14,
   "id": "5fa13c12",
   "metadata": {},
   "outputs": [
    {
     "data": {
      "text/plain": [
       "[10, 4, 6, 6, 12]"
      ]
     },
     "execution_count": 14,
     "metadata": {},
     "output_type": "execute_result"
    }
   ],
   "source": [
    "a_list[0:5]"
   ]
  },
  {
   "cell_type": "code",
   "execution_count": 15,
   "id": "3656cf3d",
   "metadata": {},
   "outputs": [
    {
     "name": "stdout",
     "output_type": "stream",
     "text": [
      "10\n",
      "4\n",
      "6\n",
      "6\n",
      "12\n",
      "61\n",
      "78\n",
      "34\n",
      "90\n",
      "73\n"
     ]
    }
   ],
   "source": [
    "for i in a_list:\n",
    "    print(i)"
   ]
  },
  {
   "cell_type": "markdown",
   "id": "b03fa21a",
   "metadata": {},
   "source": [
    "Lists are very useful, and most of the times we use them when wanting to store multiple items in one place. For example, a list of specific features in a dataset, a list of models, etc."
   ]
  },
  {
   "cell_type": "markdown",
   "id": "2dd24113",
   "metadata": {},
   "source": [
    "<h3>Dictionary</h3>\n",
    "\n",
    "Is another type of collections in Python (recall, the other two we have discussed are list and tuple). Dictionaries store elements that are called <b>key-value</b> pairs. A key-value pair is similar to a word and its meaning that you can look up in a real dictionary. With Python dictionaries, you can use a key to locate a specific value.\n",
    "\n",
    "Dictionaries are created using the curly brackets <b>{}</b>, the syntax is as\n",
    "\n",
    "<b>\n",
    "    dictionary_name = { <br>\n",
    "        &emsp;key_1 : value_1, <br>\n",
    "        &emsp;key_2 : value_2, <br>\n",
    "        &emsp;#... <br>\n",
    "    }\n",
    "</b>\n",
    "\n",
    "To obtain the value of a key, we use the syntax\n",
    "\n",
    "<b>dictionary_name[key]</b>\n",
    "\n",
    "so, similar to a list, but the index is a key.\n",
    "\n",
    "Some example:\n",
    "\n",
    "- Create a new dictionary"
   ]
  },
  {
   "cell_type": "code",
   "execution_count": 2,
   "id": "8dc219aa",
   "metadata": {},
   "outputs": [],
   "source": [
    "state_capitals={\n",
    "    'New York': 'Albany',\n",
    "    'New Jersey': 'Trenton',\n",
    "    'Georgia' : 'Atlanta',\n",
    "    'Texas' : 'Austin'\n",
    "}"
   ]
  },
  {
   "cell_type": "code",
   "execution_count": 11,
   "id": "23506d92",
   "metadata": {},
   "outputs": [
    {
     "name": "stdout",
     "output_type": "stream",
     "text": [
      "{'New York': 'Albany', 'New Jersey': 'Trenton', 'Georgia': 'Atlanta', 'Texas': 'Austin'}\n"
     ]
    }
   ],
   "source": [
    "print(state_capitals)"
   ]
  },
  {
   "cell_type": "markdown",
   "id": "c1ae4279",
   "metadata": {},
   "source": [
    "- then access values by \"looking up\" key"
   ]
  },
  {
   "cell_type": "code",
   "execution_count": 4,
   "id": "03dcff77",
   "metadata": {},
   "outputs": [
    {
     "data": {
      "text/plain": [
       "'Albany'"
      ]
     },
     "execution_count": 4,
     "metadata": {},
     "output_type": "execute_result"
    }
   ],
   "source": [
    "state_capitals['New York']"
   ]
  },
  {
   "cell_type": "markdown",
   "id": "96b9b764",
   "metadata": {},
   "source": [
    "In analytics, dictionaries are commonly used to store metadata of datasets or models."
   ]
  },
  {
   "cell_type": "markdown",
   "id": "ee89551d",
   "metadata": {},
   "source": [
    "<h3> User Defined Functions </h3>\n",
    "\n",
    "Writing functions allows wrapping codes into modules and reusing them as necessary. This is also called <b>modular programming</b>. A function can be written to take <b>input arguments</b> and <b>returns</b> values after execution."
   ]
  },
  {
   "cell_type": "code",
   "execution_count": 19,
   "id": "c4a74c07",
   "metadata": {},
   "outputs": [],
   "source": [
    "#input argument are symbolic, we use them as if they are already defined\n",
    "def sum_1_to_n(n):               #n is an input argument\n",
    "    sum_ = 0\n",
    "    for num in range(n+1):       #so we can use it inside the function without defining it before hand\n",
    "        sum_ += num\n",
    "    return sum_"
   ]
  },
  {
   "cell_type": "code",
   "execution_count": 20,
   "id": "12545c96",
   "metadata": {},
   "outputs": [
    {
     "name": "stdout",
     "output_type": "stream",
     "text": [
      "55\n",
      "210\n",
      "1275\n"
     ]
    }
   ],
   "source": [
    "print(sum_1_to_n(10))\n",
    "print(sum_1_to_n(20))\n",
    "print(sum_1_to_n(50))"
   ]
  },
  {
   "cell_type": "code",
   "execution_count": 21,
   "id": "958a5771",
   "metadata": {},
   "outputs": [],
   "source": [
    "def sum_of_squares(num1, num2, num3):\n",
    "    return num1**2 + num2**2 + num3**2"
   ]
  },
  {
   "cell_type": "code",
   "execution_count": 22,
   "id": "41adbcf7",
   "metadata": {},
   "outputs": [
    {
     "data": {
      "text/plain": [
       "1400"
      ]
     },
     "execution_count": 22,
     "metadata": {},
     "output_type": "execute_result"
    }
   ],
   "source": [
    "sum_of_squares(10,20,30)"
   ]
  }
 ],
 "metadata": {
  "kernelspec": {
   "display_name": "Python 3 (ipykernel)",
   "language": "python",
   "name": "python3"
  },
  "language_info": {
   "codemirror_mode": {
    "name": "ipython",
    "version": 3
   },
   "file_extension": ".py",
   "mimetype": "text/x-python",
   "name": "python",
   "nbconvert_exporter": "python",
   "pygments_lexer": "ipython3",
   "version": "3.10.1"
  }
 },
 "nbformat": 4,
 "nbformat_minor": 5
}
