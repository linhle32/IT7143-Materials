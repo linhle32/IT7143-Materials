{
 "cells": [
  {
   "cell_type": "code",
   "execution_count": 1,
   "id": "ea67e51e",
   "metadata": {
    "scrolled": true
   },
   "outputs": [],
   "source": [
    "import pandas as pd\n",
    "import numpy as np"
   ]
  },
  {
   "cell_type": "markdown",
   "id": "825c8abf",
   "metadata": {},
   "source": [
    "<h3> Loading the data </h3>\n",
    "\n",
    "In this module, we practice with the obesity data. Each row in the data represents a subject. The data has 16 attributes on different measurements of the subjects such as gender, age, height, other test measurements, and the obesity level. The target is obesity level of each subject which is as follows\n",
    "\n",
    "- ObesityLevel = 1 : Insufficient_Weight\n",
    "- ObesityLevel = 2 : Normal_Weight\n",
    "- ObesityLevel = 3 : Overweight_Level_I\n",
    "- ObesityLevel = 4 : Overweight_Level_II\n",
    "- ObesityLevel = 5 : Obesity_Type_I\n",
    "- ObesityLevel = 6 : Obesity_Type_II\n",
    "- ObesityLevel = 7 : Obesity_Type_III"
   ]
  },
  {
   "cell_type": "code",
   "execution_count": 2,
   "id": "e9554fc1",
   "metadata": {
    "scrolled": true
   },
   "outputs": [
    {
     "data": {
      "text/html": [
       "<div>\n",
       "<style scoped>\n",
       "    .dataframe tbody tr th:only-of-type {\n",
       "        vertical-align: middle;\n",
       "    }\n",
       "\n",
       "    .dataframe tbody tr th {\n",
       "        vertical-align: top;\n",
       "    }\n",
       "\n",
       "    .dataframe thead th {\n",
       "        text-align: right;\n",
       "    }\n",
       "</style>\n",
       "<table border=\"1\" class=\"dataframe\">\n",
       "  <thead>\n",
       "    <tr style=\"text-align: right;\">\n",
       "      <th></th>\n",
       "      <th>Gender</th>\n",
       "      <th>Age</th>\n",
       "      <th>Height</th>\n",
       "      <th>Weight</th>\n",
       "      <th>FamilyHistory</th>\n",
       "      <th>FAVC</th>\n",
       "      <th>FCVC</th>\n",
       "      <th>NCP</th>\n",
       "      <th>CAEC</th>\n",
       "      <th>SMOKE</th>\n",
       "      <th>CH2O</th>\n",
       "      <th>SCC</th>\n",
       "      <th>FAF</th>\n",
       "      <th>TUE</th>\n",
       "      <th>CALC</th>\n",
       "      <th>MTRANS</th>\n",
       "      <th>ObesityLevel</th>\n",
       "    </tr>\n",
       "  </thead>\n",
       "  <tbody>\n",
       "    <tr>\n",
       "      <th>0</th>\n",
       "      <td>Female</td>\n",
       "      <td>21.000000</td>\n",
       "      <td>1.620000</td>\n",
       "      <td>64.000000</td>\n",
       "      <td>yes</td>\n",
       "      <td>no</td>\n",
       "      <td>2.0</td>\n",
       "      <td>3.0</td>\n",
       "      <td>Sometimes</td>\n",
       "      <td>no</td>\n",
       "      <td>2.000000</td>\n",
       "      <td>no</td>\n",
       "      <td>0.000000</td>\n",
       "      <td>1.000000</td>\n",
       "      <td>no</td>\n",
       "      <td>Public_Transportation</td>\n",
       "      <td>2</td>\n",
       "    </tr>\n",
       "    <tr>\n",
       "      <th>1</th>\n",
       "      <td>Female</td>\n",
       "      <td>21.000000</td>\n",
       "      <td>1.520000</td>\n",
       "      <td>56.000000</td>\n",
       "      <td>yes</td>\n",
       "      <td>no</td>\n",
       "      <td>3.0</td>\n",
       "      <td>3.0</td>\n",
       "      <td>Sometimes</td>\n",
       "      <td>yes</td>\n",
       "      <td>3.000000</td>\n",
       "      <td>yes</td>\n",
       "      <td>3.000000</td>\n",
       "      <td>0.000000</td>\n",
       "      <td>Sometimes</td>\n",
       "      <td>Public_Transportation</td>\n",
       "      <td>2</td>\n",
       "    </tr>\n",
       "    <tr>\n",
       "      <th>2</th>\n",
       "      <td>Male</td>\n",
       "      <td>23.000000</td>\n",
       "      <td>1.800000</td>\n",
       "      <td>77.000000</td>\n",
       "      <td>yes</td>\n",
       "      <td>no</td>\n",
       "      <td>2.0</td>\n",
       "      <td>3.0</td>\n",
       "      <td>Sometimes</td>\n",
       "      <td>no</td>\n",
       "      <td>2.000000</td>\n",
       "      <td>no</td>\n",
       "      <td>2.000000</td>\n",
       "      <td>1.000000</td>\n",
       "      <td>Frequently</td>\n",
       "      <td>Public_Transportation</td>\n",
       "      <td>2</td>\n",
       "    </tr>\n",
       "    <tr>\n",
       "      <th>3</th>\n",
       "      <td>Male</td>\n",
       "      <td>27.000000</td>\n",
       "      <td>1.800000</td>\n",
       "      <td>87.000000</td>\n",
       "      <td>no</td>\n",
       "      <td>no</td>\n",
       "      <td>3.0</td>\n",
       "      <td>3.0</td>\n",
       "      <td>Sometimes</td>\n",
       "      <td>no</td>\n",
       "      <td>2.000000</td>\n",
       "      <td>no</td>\n",
       "      <td>2.000000</td>\n",
       "      <td>0.000000</td>\n",
       "      <td>Frequently</td>\n",
       "      <td>Walking</td>\n",
       "      <td>3</td>\n",
       "    </tr>\n",
       "    <tr>\n",
       "      <th>4</th>\n",
       "      <td>Male</td>\n",
       "      <td>22.000000</td>\n",
       "      <td>1.780000</td>\n",
       "      <td>89.800000</td>\n",
       "      <td>no</td>\n",
       "      <td>no</td>\n",
       "      <td>2.0</td>\n",
       "      <td>1.0</td>\n",
       "      <td>Sometimes</td>\n",
       "      <td>no</td>\n",
       "      <td>2.000000</td>\n",
       "      <td>no</td>\n",
       "      <td>0.000000</td>\n",
       "      <td>0.000000</td>\n",
       "      <td>Sometimes</td>\n",
       "      <td>Public_Transportation</td>\n",
       "      <td>4</td>\n",
       "    </tr>\n",
       "    <tr>\n",
       "      <th>...</th>\n",
       "      <td>...</td>\n",
       "      <td>...</td>\n",
       "      <td>...</td>\n",
       "      <td>...</td>\n",
       "      <td>...</td>\n",
       "      <td>...</td>\n",
       "      <td>...</td>\n",
       "      <td>...</td>\n",
       "      <td>...</td>\n",
       "      <td>...</td>\n",
       "      <td>...</td>\n",
       "      <td>...</td>\n",
       "      <td>...</td>\n",
       "      <td>...</td>\n",
       "      <td>...</td>\n",
       "      <td>...</td>\n",
       "      <td>...</td>\n",
       "    </tr>\n",
       "    <tr>\n",
       "      <th>2106</th>\n",
       "      <td>Female</td>\n",
       "      <td>20.976842</td>\n",
       "      <td>1.710730</td>\n",
       "      <td>131.408528</td>\n",
       "      <td>yes</td>\n",
       "      <td>yes</td>\n",
       "      <td>3.0</td>\n",
       "      <td>3.0</td>\n",
       "      <td>Sometimes</td>\n",
       "      <td>no</td>\n",
       "      <td>1.728139</td>\n",
       "      <td>no</td>\n",
       "      <td>1.676269</td>\n",
       "      <td>0.906247</td>\n",
       "      <td>Sometimes</td>\n",
       "      <td>Public_Transportation</td>\n",
       "      <td>7</td>\n",
       "    </tr>\n",
       "    <tr>\n",
       "      <th>2107</th>\n",
       "      <td>Female</td>\n",
       "      <td>21.982942</td>\n",
       "      <td>1.748584</td>\n",
       "      <td>133.742943</td>\n",
       "      <td>yes</td>\n",
       "      <td>yes</td>\n",
       "      <td>3.0</td>\n",
       "      <td>3.0</td>\n",
       "      <td>Sometimes</td>\n",
       "      <td>no</td>\n",
       "      <td>2.005130</td>\n",
       "      <td>no</td>\n",
       "      <td>1.341390</td>\n",
       "      <td>0.599270</td>\n",
       "      <td>Sometimes</td>\n",
       "      <td>Public_Transportation</td>\n",
       "      <td>7</td>\n",
       "    </tr>\n",
       "    <tr>\n",
       "      <th>2108</th>\n",
       "      <td>Female</td>\n",
       "      <td>22.524036</td>\n",
       "      <td>1.752206</td>\n",
       "      <td>133.689352</td>\n",
       "      <td>yes</td>\n",
       "      <td>yes</td>\n",
       "      <td>3.0</td>\n",
       "      <td>3.0</td>\n",
       "      <td>Sometimes</td>\n",
       "      <td>no</td>\n",
       "      <td>2.054193</td>\n",
       "      <td>no</td>\n",
       "      <td>1.414209</td>\n",
       "      <td>0.646288</td>\n",
       "      <td>Sometimes</td>\n",
       "      <td>Public_Transportation</td>\n",
       "      <td>7</td>\n",
       "    </tr>\n",
       "    <tr>\n",
       "      <th>2109</th>\n",
       "      <td>Female</td>\n",
       "      <td>24.361936</td>\n",
       "      <td>1.739450</td>\n",
       "      <td>133.346641</td>\n",
       "      <td>yes</td>\n",
       "      <td>yes</td>\n",
       "      <td>3.0</td>\n",
       "      <td>3.0</td>\n",
       "      <td>Sometimes</td>\n",
       "      <td>no</td>\n",
       "      <td>2.852339</td>\n",
       "      <td>no</td>\n",
       "      <td>1.139107</td>\n",
       "      <td>0.586035</td>\n",
       "      <td>Sometimes</td>\n",
       "      <td>Public_Transportation</td>\n",
       "      <td>7</td>\n",
       "    </tr>\n",
       "    <tr>\n",
       "      <th>2110</th>\n",
       "      <td>Female</td>\n",
       "      <td>23.664709</td>\n",
       "      <td>1.738836</td>\n",
       "      <td>133.472641</td>\n",
       "      <td>yes</td>\n",
       "      <td>yes</td>\n",
       "      <td>3.0</td>\n",
       "      <td>3.0</td>\n",
       "      <td>Sometimes</td>\n",
       "      <td>no</td>\n",
       "      <td>2.863513</td>\n",
       "      <td>no</td>\n",
       "      <td>1.026452</td>\n",
       "      <td>0.714137</td>\n",
       "      <td>Sometimes</td>\n",
       "      <td>Public_Transportation</td>\n",
       "      <td>7</td>\n",
       "    </tr>\n",
       "  </tbody>\n",
       "</table>\n",
       "<p>2111 rows × 17 columns</p>\n",
       "</div>"
      ],
      "text/plain": [
       "      Gender        Age    Height      Weight FamilyHistory FAVC  FCVC  NCP  \\\n",
       "0     Female  21.000000  1.620000   64.000000           yes   no   2.0  3.0   \n",
       "1     Female  21.000000  1.520000   56.000000           yes   no   3.0  3.0   \n",
       "2       Male  23.000000  1.800000   77.000000           yes   no   2.0  3.0   \n",
       "3       Male  27.000000  1.800000   87.000000            no   no   3.0  3.0   \n",
       "4       Male  22.000000  1.780000   89.800000            no   no   2.0  1.0   \n",
       "...      ...        ...       ...         ...           ...  ...   ...  ...   \n",
       "2106  Female  20.976842  1.710730  131.408528           yes  yes   3.0  3.0   \n",
       "2107  Female  21.982942  1.748584  133.742943           yes  yes   3.0  3.0   \n",
       "2108  Female  22.524036  1.752206  133.689352           yes  yes   3.0  3.0   \n",
       "2109  Female  24.361936  1.739450  133.346641           yes  yes   3.0  3.0   \n",
       "2110  Female  23.664709  1.738836  133.472641           yes  yes   3.0  3.0   \n",
       "\n",
       "           CAEC SMOKE      CH2O  SCC       FAF       TUE        CALC  \\\n",
       "0     Sometimes    no  2.000000   no  0.000000  1.000000          no   \n",
       "1     Sometimes   yes  3.000000  yes  3.000000  0.000000   Sometimes   \n",
       "2     Sometimes    no  2.000000   no  2.000000  1.000000  Frequently   \n",
       "3     Sometimes    no  2.000000   no  2.000000  0.000000  Frequently   \n",
       "4     Sometimes    no  2.000000   no  0.000000  0.000000   Sometimes   \n",
       "...         ...   ...       ...  ...       ...       ...         ...   \n",
       "2106  Sometimes    no  1.728139   no  1.676269  0.906247   Sometimes   \n",
       "2107  Sometimes    no  2.005130   no  1.341390  0.599270   Sometimes   \n",
       "2108  Sometimes    no  2.054193   no  1.414209  0.646288   Sometimes   \n",
       "2109  Sometimes    no  2.852339   no  1.139107  0.586035   Sometimes   \n",
       "2110  Sometimes    no  2.863513   no  1.026452  0.714137   Sometimes   \n",
       "\n",
       "                     MTRANS  ObesityLevel  \n",
       "0     Public_Transportation             2  \n",
       "1     Public_Transportation             2  \n",
       "2     Public_Transportation             2  \n",
       "3                   Walking             3  \n",
       "4     Public_Transportation             4  \n",
       "...                     ...           ...  \n",
       "2106  Public_Transportation             7  \n",
       "2107  Public_Transportation             7  \n",
       "2108  Public_Transportation             7  \n",
       "2109  Public_Transportation             7  \n",
       "2110  Public_Transportation             7  \n",
       "\n",
       "[2111 rows x 17 columns]"
      ]
     },
     "execution_count": 2,
     "metadata": {},
     "output_type": "execute_result"
    }
   ],
   "source": [
    "data = pd.read_csv('obesity.csv')\n",
    "data"
   ]
  },
  {
   "cell_type": "code",
   "execution_count": 3,
   "id": "03389a8a",
   "metadata": {
    "scrolled": true
   },
   "outputs": [
    {
     "data": {
      "text/plain": [
       "Gender            object\n",
       "Age              float64\n",
       "Height           float64\n",
       "Weight           float64\n",
       "FamilyHistory     object\n",
       "FAVC              object\n",
       "FCVC             float64\n",
       "NCP              float64\n",
       "CAEC              object\n",
       "SMOKE             object\n",
       "CH2O             float64\n",
       "SCC               object\n",
       "FAF              float64\n",
       "TUE              float64\n",
       "CALC              object\n",
       "MTRANS            object\n",
       "ObesityLevel       int64\n",
       "dtype: object"
      ]
     },
     "execution_count": 3,
     "metadata": {},
     "output_type": "execute_result"
    }
   ],
   "source": [
    "data.dtypes"
   ]
  },
  {
   "cell_type": "code",
   "execution_count": 4,
   "id": "55ecdf24",
   "metadata": {
    "scrolled": true
   },
   "outputs": [],
   "source": [
    "from sklearn.model_selection import ShuffleSplit\n",
    "\n",
    "split = ShuffleSplit(n_splits=1, test_size=0.25, random_state=42)\n",
    "\n",
    "for train_index, test_index in split.split(data):\n",
    "    train_set = data.loc[train_index]\n",
    "    test_set = data.loc[test_index]"
   ]
  },
  {
   "cell_type": "markdown",
   "id": "814acc86",
   "metadata": {},
   "source": [
    "And create different variables for input data and target data"
   ]
  },
  {
   "cell_type": "code",
   "execution_count": 5,
   "id": "53e0f27f",
   "metadata": {
    "scrolled": true
   },
   "outputs": [
    {
     "data": {
      "text/plain": [
       "((1583, 16), (528, 16), (1583,), (528,))"
      ]
     },
     "execution_count": 5,
     "metadata": {},
     "output_type": "execute_result"
    }
   ],
   "source": [
    "trainX = train_set.drop('ObesityLevel',axis=1)\n",
    "trainY = train_set['ObesityLevel']\n",
    "testX = test_set.drop('ObesityLevel',axis=1)\n",
    "testY = test_set['ObesityLevel']\n",
    "\n",
    "trainX.shape, testX.shape, trainY.shape, testY.shape"
   ]
  },
  {
   "cell_type": "markdown",
   "id": "192b8539",
   "metadata": {},
   "source": [
    "Some descriptive statistics"
   ]
  },
  {
   "cell_type": "code",
   "execution_count": 5,
   "id": "2fe8758e",
   "metadata": {
    "scrolled": true
   },
   "outputs": [
    {
     "data": {
      "text/html": [
       "<div>\n",
       "<style scoped>\n",
       "    .dataframe tbody tr th:only-of-type {\n",
       "        vertical-align: middle;\n",
       "    }\n",
       "\n",
       "    .dataframe tbody tr th {\n",
       "        vertical-align: top;\n",
       "    }\n",
       "\n",
       "    .dataframe thead th {\n",
       "        text-align: right;\n",
       "    }\n",
       "</style>\n",
       "<table border=\"1\" class=\"dataframe\">\n",
       "  <thead>\n",
       "    <tr style=\"text-align: right;\">\n",
       "      <th></th>\n",
       "      <th>Age</th>\n",
       "      <th>Height</th>\n",
       "      <th>Weight</th>\n",
       "      <th>FCVC</th>\n",
       "      <th>NCP</th>\n",
       "      <th>CH2O</th>\n",
       "      <th>FAF</th>\n",
       "      <th>TUE</th>\n",
       "    </tr>\n",
       "  </thead>\n",
       "  <tbody>\n",
       "    <tr>\n",
       "      <th>count</th>\n",
       "      <td>1583.000000</td>\n",
       "      <td>1583.000000</td>\n",
       "      <td>1583.000000</td>\n",
       "      <td>1583.000000</td>\n",
       "      <td>1583.000000</td>\n",
       "      <td>1583.000000</td>\n",
       "      <td>1583.000000</td>\n",
       "      <td>1583.000000</td>\n",
       "    </tr>\n",
       "    <tr>\n",
       "      <th>mean</th>\n",
       "      <td>24.453721</td>\n",
       "      <td>1.701837</td>\n",
       "      <td>86.569501</td>\n",
       "      <td>2.424656</td>\n",
       "      <td>2.684986</td>\n",
       "      <td>2.007479</td>\n",
       "      <td>1.009436</td>\n",
       "      <td>0.653887</td>\n",
       "    </tr>\n",
       "    <tr>\n",
       "      <th>std</th>\n",
       "      <td>6.531185</td>\n",
       "      <td>0.093194</td>\n",
       "      <td>26.052413</td>\n",
       "      <td>0.533616</td>\n",
       "      <td>0.780362</td>\n",
       "      <td>0.613589</td>\n",
       "      <td>0.840905</td>\n",
       "      <td>0.604848</td>\n",
       "    </tr>\n",
       "    <tr>\n",
       "      <th>min</th>\n",
       "      <td>14.000000</td>\n",
       "      <td>1.450000</td>\n",
       "      <td>39.000000</td>\n",
       "      <td>1.000000</td>\n",
       "      <td>1.000000</td>\n",
       "      <td>1.000000</td>\n",
       "      <td>0.000000</td>\n",
       "      <td>0.000000</td>\n",
       "    </tr>\n",
       "    <tr>\n",
       "      <th>25%</th>\n",
       "      <td>19.986482</td>\n",
       "      <td>1.630000</td>\n",
       "      <td>66.000000</td>\n",
       "      <td>2.000000</td>\n",
       "      <td>2.656492</td>\n",
       "      <td>1.569332</td>\n",
       "      <td>0.145318</td>\n",
       "      <td>0.000000</td>\n",
       "    </tr>\n",
       "    <tr>\n",
       "      <th>50%</th>\n",
       "      <td>22.789402</td>\n",
       "      <td>1.701284</td>\n",
       "      <td>82.853749</td>\n",
       "      <td>2.392665</td>\n",
       "      <td>3.000000</td>\n",
       "      <td>2.000000</td>\n",
       "      <td>1.000000</td>\n",
       "      <td>0.627886</td>\n",
       "    </tr>\n",
       "    <tr>\n",
       "      <th>75%</th>\n",
       "      <td>26.000000</td>\n",
       "      <td>1.767407</td>\n",
       "      <td>106.500679</td>\n",
       "      <td>3.000000</td>\n",
       "      <td>3.000000</td>\n",
       "      <td>2.473548</td>\n",
       "      <td>1.647207</td>\n",
       "      <td>1.000000</td>\n",
       "    </tr>\n",
       "    <tr>\n",
       "      <th>max</th>\n",
       "      <td>61.000000</td>\n",
       "      <td>1.980000</td>\n",
       "      <td>165.057269</td>\n",
       "      <td>3.000000</td>\n",
       "      <td>4.000000</td>\n",
       "      <td>3.000000</td>\n",
       "      <td>3.000000</td>\n",
       "      <td>2.000000</td>\n",
       "    </tr>\n",
       "  </tbody>\n",
       "</table>\n",
       "</div>"
      ],
      "text/plain": [
       "               Age       Height       Weight         FCVC          NCP  \\\n",
       "count  1583.000000  1583.000000  1583.000000  1583.000000  1583.000000   \n",
       "mean     24.453721     1.701837    86.569501     2.424656     2.684986   \n",
       "std       6.531185     0.093194    26.052413     0.533616     0.780362   \n",
       "min      14.000000     1.450000    39.000000     1.000000     1.000000   \n",
       "25%      19.986482     1.630000    66.000000     2.000000     2.656492   \n",
       "50%      22.789402     1.701284    82.853749     2.392665     3.000000   \n",
       "75%      26.000000     1.767407   106.500679     3.000000     3.000000   \n",
       "max      61.000000     1.980000   165.057269     3.000000     4.000000   \n",
       "\n",
       "              CH2O          FAF          TUE  \n",
       "count  1583.000000  1583.000000  1583.000000  \n",
       "mean      2.007479     1.009436     0.653887  \n",
       "std       0.613589     0.840905     0.604848  \n",
       "min       1.000000     0.000000     0.000000  \n",
       "25%       1.569332     0.145318     0.000000  \n",
       "50%       2.000000     1.000000     0.627886  \n",
       "75%       2.473548     1.647207     1.000000  \n",
       "max       3.000000     3.000000     2.000000  "
      ]
     },
     "execution_count": 5,
     "metadata": {},
     "output_type": "execute_result"
    }
   ],
   "source": [
    "trainX.describe()"
   ]
  },
  {
   "cell_type": "code",
   "execution_count": 6,
   "id": "7d7dcd16",
   "metadata": {
    "scrolled": true
   },
   "outputs": [
    {
     "data": {
      "image/png": "[encoded data removed]",
      "text/plain": [
       "<Figure size 1080x720 with 9 Axes>"
      ]
     },
     "metadata": {
      "needs_background": "light"
     },
     "output_type": "display_data"
    }
   ],
   "source": [
    "from matplotlib import pyplot as plt\n",
    "\n",
    "trainX.hist(bins=20, figsize=(15,10))\n",
    "plt.show()"
   ]
  },
  {
   "cell_type": "code",
   "execution_count": 12,
   "id": "99a9a5b6",
   "metadata": {
    "scrolled": true
   },
   "outputs": [
    {
     "data": {
      "text/plain": [
       "count    1583.000000\n",
       "mean        4.118130\n",
       "std         1.982686\n",
       "min         1.000000\n",
       "25%         2.000000\n",
       "50%         4.000000\n",
       "75%         6.000000\n",
       "max         7.000000\n",
       "Name: ObesityLevel, dtype: float64"
      ]
     },
     "execution_count": 12,
     "metadata": {},
     "output_type": "execute_result"
    }
   ],
   "source": [
    "trainY.describe()"
   ]
  },
  {
   "cell_type": "code",
   "execution_count": 16,
   "id": "0bd900a4",
   "metadata": {
    "scrolled": true
   },
   "outputs": [
    {
     "data": {
      "image/png": "[encoded data removed]",
      "text/plain": [
       "<Figure size 432x288 with 1 Axes>"
      ]
     },
     "metadata": {
      "needs_background": "light"
     },
     "output_type": "display_data"
    }
   ],
   "source": [
    "trainY.hist(bins=7)\n",
    "plt.show()"
   ]
  },
  {
   "cell_type": "markdown",
   "id": "cd409ae3",
   "metadata": {},
   "source": [
    "We use the standard pipeline as developed previously "
   ]
  },
  {
   "cell_type": "code",
   "execution_count": 6,
   "id": "7c7906ed",
   "metadata": {
    "scrolled": true
   },
   "outputs": [],
   "source": [
    "from sklearn.pipeline import Pipeline\n",
    "from sklearn.impute import SimpleImputer\n",
    "from sklearn.preprocessing import StandardScaler\n",
    "from sklearn.preprocessing import OneHotEncoder\n",
    "from sklearn.compose import ColumnTransformer\n",
    "import numpy as np\n",
    "\n",
    "num_cols = trainX.columns[(trainX.dtypes==np.int64) | (trainX.dtypes==np.float64)]\n",
    "\n",
    "num_pipeline = Pipeline([\n",
    "    ('impute', SimpleImputer(strategy='median')),\n",
    "    ('standardize', StandardScaler())\n",
    "])\n",
    "\n",
    "cat_cols = trainX.columns[trainX.dtypes==object]\n",
    "\n",
    "cat_pipeline = Pipeline([\n",
    "    ('impute', SimpleImputer(strategy='constant',fill_value='missing')),\n",
    "    ('encode', OneHotEncoder())\n",
    "])\n",
    "\n",
    "full_pipeline = ColumnTransformer([\n",
    "    ('numeric', num_pipeline, num_cols),\n",
    "    ('class', cat_pipeline, cat_cols)\n",
    "])"
   ]
  },
  {
   "cell_type": "code",
   "execution_count": 7,
   "id": "8734f243",
   "metadata": {
    "scrolled": true
   },
   "outputs": [],
   "source": [
    "trainX_prc = full_pipeline.fit_transform(trainX)\n",
    "traindata = np.concatenate([trainY.values.reshape(-1,1),trainX_prc],axis=1)\n",
    "pd.DataFrame(traindata).to_csv('train.csv', index=False, header=False)\n",
    "\n",
    "\n",
    "testX_prc = full_pipeline.transform(testX)\n",
    "testdata = np.array(testX_prc)"
   ]
  },
  {
   "cell_type": "markdown",
   "id": "72729be6",
   "metadata": {},
   "source": [
    "<h3>Linear Regression</h3>\n",
    "\n",
    "This version of the linear regression model does not have regularization"
   ]
  },
  {
   "cell_type": "code",
   "execution_count": 25,
   "id": "e2c48367",
   "metadata": {
    "scrolled": true
   },
   "outputs": [
    {
     "data": {
      "text/plain": [
       "LinearRegression()"
      ]
     },
     "execution_count": 25,
     "metadata": {},
     "output_type": "execute_result"
    }
   ],
   "source": [
    "from sklearn.linear_model import LinearRegression\n",
    "\n",
    "linear_reg = LinearRegression()\n",
    "\n",
    "linear_reg.fit(trainX_prc,trainY)"
   ]
  },
  {
   "cell_type": "markdown",
   "id": "4ea66d13",
   "metadata": {},
   "source": [
    "The most common evaluation measurement for regression problem is Mean Squared Error - MSE"
   ]
  },
  {
   "cell_type": "code",
   "execution_count": 28,
   "id": "342140fc",
   "metadata": {
    "scrolled": true
   },
   "outputs": [
    {
     "name": "stdout",
     "output_type": "stream",
     "text": [
      "training MSE: 0.1830048989342583\n",
      "testing MSE: 0.1874595164590405\n"
     ]
    }
   ],
   "source": [
    "from sklearn.metrics import mean_squared_error\n",
    "\n",
    "#get the prediction\n",
    "trainY_pred = linear_reg.predict(trainX_prc)\n",
    "testY_pred = linear_reg.predict(testX_prc)\n",
    "\n",
    "#get the MSE\n",
    "train_mse_lr = mean_squared_error(trainY, trainY_pred)\n",
    "test_mse_lr = mean_squared_error(testY, testY_pred)\n",
    "print('training MSE:', train_mse_lr)\n",
    "print('testing MSE:', test_mse_lr)"
   ]
  },
  {
   "cell_type": "markdown",
   "id": "77238420",
   "metadata": {},
   "source": [
    "And we can obtain the R2"
   ]
  },
  {
   "cell_type": "code",
   "execution_count": 29,
   "id": "3c5a73d2",
   "metadata": {
    "scrolled": true
   },
   "outputs": [
    {
     "name": "stdout",
     "output_type": "stream",
     "text": [
      "training MSE: 0.9534167931985943\n",
      "testing MSE: 0.9527608118624992\n"
     ]
    }
   ],
   "source": [
    "from sklearn.metrics import r2_score\n",
    "\n",
    "train_r2_lr = r2_score(trainY, trainY_pred)\n",
    "test_r2_lr = r2_score(testY, testY_pred)\n",
    "print('training MSE:', train_r2_lr)\n",
    "print('testing MSE:', test_r2_lr)"
   ]
  },
  {
   "cell_type": "markdown",
   "id": "b251c943",
   "metadata": {},
   "source": [
    "R2 score is always less than 1, and it is interpreted as the percentage of variation in the data that our model can explain. In cases with very bad-fit models, R2 can get to negative values.\n",
    "\n",
    "In this case, this linear regression model can explain 95% variation in the data\n",
    "\n",
    "<h4>Cross-Validation Measurements</h4>\n",
    "\n",
    "We've been fitting and testing the linear regression model on the same training data. A better way is to use cross_val_score() as in classification"
   ]
  },
  {
   "cell_type": "code",
   "execution_count": 31,
   "id": "0d343d9a",
   "metadata": {
    "scrolled": true
   },
   "outputs": [
    {
     "name": "stdout",
     "output_type": "stream",
     "text": [
      "MSE:  0.18997089657929456\n",
      "R2:  0.9513653291539574\n"
     ]
    }
   ],
   "source": [
    "from sklearn.model_selection import cross_val_score\n",
    "\n",
    "mse_lr_cv = - cross_val_score(linear_reg, trainX_prc, trainY, cv=5, scoring='neg_mean_squared_error')\n",
    "r2_lr_cv = cross_val_score(linear_reg, trainX_prc, trainY, cv=5, scoring='r2')\n",
    "\n",
    "print('MSE: ', mse_lr_cv.mean())\n",
    "print('R2: ', r2_lr_cv.mean())"
   ]
  },
  {
   "cell_type": "markdown",
   "id": "5d0f979b",
   "metadata": {},
   "source": [
    "<h3> Support Vector Regressor </h3>\n",
    "\n",
    "SVM can be modified to work on regression problem. We call this model Support Vector Regressor (SVR). In SKLearn, fitting SVR is pretty much identical to fitting SVC (except for target must be continuous). All hyperparameters of SVR are the same as SVC.\n",
    "\n",
    "In the below example, we use the auto-mpg data - predicting miles-per-gallon of cars using their other features\n",
    "\n",
    "First, import and preprocessing data:"
   ]
  },
  {
   "cell_type": "code",
   "execution_count": 32,
   "id": "4ffe0874",
   "metadata": {
    "scrolled": true
   },
   "outputs": [
    {
     "data": {
      "text/plain": [
       "GridSearchCV(cv=5, estimator=SVR(),\n",
       "             param_grid=[{'C': [0.01, 0.1, 1, 10, 100],\n",
       "                          'gamma': [0.001, 0.01, 0.1, 1, 10, 100, 1000],\n",
       "                          'kernel': ['rbf']}],\n",
       "             return_train_score=True, scoring='r2')"
      ]
     },
     "execution_count": 32,
     "metadata": {},
     "output_type": "execute_result"
    }
   ],
   "source": [
    "from sklearn.model_selection import GridSearchCV\n",
    "from sklearn.svm import SVR\n",
    "\n",
    "svr = SVR()\n",
    "\n",
    "param_grid = [{\n",
    "    'C': [0.01, 0.1, 1, 10, 100],\n",
    "    'kernel' : ['rbf'],\n",
    "    'gamma' : [0.001, 0.01, 0.1, 1, 10, 100, 1000]\n",
    "}]\n",
    "\n",
    "grid_search = GridSearchCV(svr, param_grid, cv=5, scoring='r2', return_train_score=True)\n",
    "\n",
    "grid_search.fit(trainX_prc,trainY)"
   ]
  },
  {
   "cell_type": "markdown",
   "id": "75bc720f",
   "metadata": {},
   "source": [
    "The finetuned model (note that score is now R2 since we are doing regression):"
   ]
  },
  {
   "cell_type": "code",
   "execution_count": 33,
   "id": "edc4886b",
   "metadata": {
    "scrolled": true
   },
   "outputs": [
    {
     "name": "stdout",
     "output_type": "stream",
     "text": [
      "{'C': 10, 'gamma': 0.1, 'kernel': 'rbf'}\n",
      "0.9777428852898142\n"
     ]
    }
   ],
   "source": [
    "print(grid_search.best_params_)\n",
    "print(grid_search.best_score_)"
   ]
  },
  {
   "cell_type": "markdown",
   "id": "d247a3ce",
   "metadata": {},
   "source": [
    "And the testing performance "
   ]
  },
  {
   "cell_type": "code",
   "execution_count": 34,
   "id": "47e1e35a",
   "metadata": {
    "scrolled": true
   },
   "outputs": [
    {
     "data": {
      "text/plain": [
       "0.9758521084858467"
      ]
     },
     "execution_count": 34,
     "metadata": {},
     "output_type": "execute_result"
    }
   ],
   "source": [
    "best_svr = grid_search.best_estimator_\n",
    "best_svr.score(testX_prc, testY)"
   ]
  },
  {
   "cell_type": "markdown",
   "id": "b27714bc",
   "metadata": {},
   "source": [
    "<h3>Decision Tree Regressor</h3>"
   ]
  },
  {
   "cell_type": "code",
   "execution_count": 35,
   "id": "821bfe8a",
   "metadata": {
    "scrolled": true
   },
   "outputs": [
    {
     "data": {
      "text/plain": [
       "GridSearchCV(cv=5, estimator=DecisionTreeRegressor(),\n",
       "             param_grid=[{'max_depth': [3, 4, 5, 6], 'max_features': [5, 7, 9],\n",
       "                          'min_samples_leaf': [1, 10, 20, 30, 40],\n",
       "                          'min_samples_split': [2, 10, 20, 30, 40]}],\n",
       "             return_train_score=True, scoring='r2')"
      ]
     },
     "execution_count": 35,
     "metadata": {},
     "output_type": "execute_result"
    }
   ],
   "source": [
    "from sklearn.tree import DecisionTreeRegressor\n",
    "\n",
    "dtr = DecisionTreeRegressor()\n",
    "\n",
    "param_grid = [{\n",
    "    'max_depth': [3,4,5,6],\n",
    "    'max_features' : [5, 7, 9],\n",
    "    'min_samples_split' : [2, 10, 20, 30, 40],\n",
    "    'min_samples_leaf' : [1, 10, 20, 30, 40]\n",
    "}]\n",
    "\n",
    "grid_search = GridSearchCV(dtr, param_grid, cv=5, scoring='r2', return_train_score=True)\n",
    "\n",
    "grid_search.fit(trainX_prc,trainY)"
   ]
  },
  {
   "cell_type": "code",
   "execution_count": 36,
   "id": "4606bfc6",
   "metadata": {
    "scrolled": false
   },
   "outputs": [
    {
     "name": "stdout",
     "output_type": "stream",
     "text": [
      "{'max_depth': 6, 'max_features': 9, 'min_samples_leaf': 10, 'min_samples_split': 10}\n",
      "0.9030946632161196\n"
     ]
    }
   ],
   "source": [
    "print(grid_search.best_params_)\n",
    "print(grid_search.best_score_)"
   ]
  },
  {
   "cell_type": "code",
   "execution_count": 37,
   "id": "d3ec005d",
   "metadata": {
    "scrolled": true
   },
   "outputs": [
    {
     "data": {
      "text/plain": [
       "0.832628277021818"
      ]
     },
     "execution_count": 37,
     "metadata": {},
     "output_type": "execute_result"
    }
   ],
   "source": [
    "best_dt = grid_search.best_estimator_\n",
    "best_dt.score(testX_prc, testY)"
   ]
  },
  {
   "cell_type": "markdown",
   "id": "13957094",
   "metadata": {},
   "source": [
    "<h3>Random Forest Regressor</h3>"
   ]
  },
  {
   "cell_type": "code",
   "execution_count": 38,
   "id": "d29578a1",
   "metadata": {
    "scrolled": true
   },
   "outputs": [
    {
     "data": {
      "text/plain": [
       "GridSearchCV(cv=5, estimator=RandomForestRegressor(),\n",
       "             param_grid=[{'max_depth': [3, 4, 5], 'max_features': [5, 7, 9],\n",
       "                          'min_samples_leaf': [1, 10, 20, 30, 40],\n",
       "                          'min_samples_split': [2, 10, 20, 30, 40],\n",
       "                          'n_estimators': [5, 10, 20, 50]}],\n",
       "             return_train_score=True, scoring='r2')"
      ]
     },
     "execution_count": 38,
     "metadata": {},
     "output_type": "execute_result"
    }
   ],
   "source": [
    "from sklearn.ensemble import RandomForestRegressor\n",
    "\n",
    "rfr = RandomForestRegressor()\n",
    "\n",
    "param_grid = [{\n",
    "    'n_estimators' : [5, 10, 20, 50],\n",
    "    'max_depth': [3,4,5],\n",
    "    'max_features' : [5, 7, 9],\n",
    "    'min_samples_split' : [2, 10, 20, 30, 40],\n",
    "    'min_samples_leaf' : [1, 10, 20, 30, 40]\n",
    "}]\n",
    "\n",
    "grid_search = GridSearchCV(rfr, param_grid, cv=5, scoring='r2', return_train_score=True)\n",
    "\n",
    "grid_search.fit(trainX_prc,trainY)"
   ]
  },
  {
   "cell_type": "code",
   "execution_count": 39,
   "id": "26651f57",
   "metadata": {
    "scrolled": false
   },
   "outputs": [
    {
     "name": "stdout",
     "output_type": "stream",
     "text": [
      "{'max_depth': 5, 'max_features': 9, 'min_samples_leaf': 1, 'min_samples_split': 20, 'n_estimators': 50}\n",
      "0.9327970656177857\n"
     ]
    }
   ],
   "source": [
    "print(grid_search.best_params_)\n",
    "print(grid_search.best_score_)"
   ]
  },
  {
   "cell_type": "code",
   "execution_count": 40,
   "id": "831b0e01",
   "metadata": {
    "scrolled": true
   },
   "outputs": [
    {
     "data": {
      "text/plain": [
       "0.9173895613972686"
      ]
     },
     "execution_count": 40,
     "metadata": {},
     "output_type": "execute_result"
    }
   ],
   "source": [
    "best_dt = grid_search.best_estimator_\n",
    "best_dt.score(testX_prc, testY)"
   ]
  },
  {
   "cell_type": "markdown",
   "id": "168b1302",
   "metadata": {},
   "source": [
    "<h3>Neural Network Regressor</h3>"
   ]
  },
  {
   "cell_type": "code",
   "execution_count": 41,
   "id": "94a8e37e",
   "metadata": {
    "scrolled": true
   },
   "outputs": [
    {
     "name": "stdout",
     "output_type": "stream",
     "text": [
      "0.9955993500007082\n",
      "0.9797580198281762\n"
     ]
    }
   ],
   "source": [
    "from sklearn.neural_network import MLPRegressor\n",
    "\n",
    "n_features = trainX_prc.shape[1] #get the number of input features\n",
    "mlp = MLPRegressor(hidden_layer_sizes=[n_features,n_features,n_features], max_iter=1000)\n",
    "\n",
    "mlp.fit(trainX_prc, trainY)\n",
    "print(mlp.score(trainX_prc, trainY))\n",
    "print(mlp.score(testX_prc, testY))"
   ]
  },
  {
   "cell_type": "markdown",
   "id": "5b010d6a",
   "metadata": {},
   "source": [
    "It seems like the model is overfitting.\n",
    "\n",
    "Now let's finetune the NN. I'm just gonna train a few architectures."
   ]
  },
  {
   "cell_type": "code",
   "execution_count": 45,
   "id": "9dcf1061",
   "metadata": {
    "scrolled": true
   },
   "outputs": [
    {
     "data": {
      "text/plain": [
       "GridSearchCV(cv=5, estimator=MLPRegressor(max_iter=1000),\n",
       "             param_grid=[{'alpha': [0.001, 0.01, 0.1, 1, 10],\n",
       "                          'hidden_layer_sizes': [[31, 31], [31, 31, 31],\n",
       "                                                 [15, 15], [15, 15, 15],\n",
       "                                                 [62, 62], [62, 62, 62]]}],\n",
       "             return_train_score=True, scoring='r2')"
      ]
     },
     "execution_count": 45,
     "metadata": {},
     "output_type": "execute_result"
    }
   ],
   "source": [
    "from sklearn.model_selection import GridSearchCV\n",
    "\n",
    "param_grid = [{\n",
    "    'hidden_layer_sizes' : [[n_features,n_features],                       #two hidden layer with n_features neurons\n",
    "                            [n_features,n_features,n_features],            #three hidden layer with n_features neurons \n",
    "                            [n_features//2,n_features//2],                 #two hidden layer with n_features/2 neurons\n",
    "                            [n_features//2,n_features//2,n_features//2],   #three hidden layer with n_features/2 neurons\n",
    "                            [n_features*2,n_features*2],                   #two hidden layer with n_features*2 neurons\n",
    "                            [n_features*2,n_features*2,n_features*2]],     #three hidden layer with n_features*2 neurons\n",
    "    'alpha' : [0.001, 0.01, 0.1, 1, 10]                                    #regularization terms\n",
    "}]\n",
    "\n",
    "mlp = MLPRegressor(max_iter=1000)\n",
    "\n",
    "grid_search = GridSearchCV(mlp, param_grid, cv=5, scoring='r2', return_train_score=True)\n",
    "\n",
    "grid_search.fit(trainX_prc,trainY)"
   ]
  },
  {
   "cell_type": "markdown",
   "id": "2135db06",
   "metadata": {},
   "source": [
    "Best training model:"
   ]
  },
  {
   "cell_type": "code",
   "execution_count": 46,
   "id": "26291bf3",
   "metadata": {
    "scrolled": false
   },
   "outputs": [
    {
     "name": "stdout",
     "output_type": "stream",
     "text": [
      "{'alpha': 1, 'hidden_layer_sizes': [31, 31, 31]}\n",
      "0.9855491104798759\n"
     ]
    }
   ],
   "source": [
    "print(grid_search.best_params_)\n",
    "print(grid_search.best_score_)"
   ]
  },
  {
   "cell_type": "code",
   "execution_count": 47,
   "id": "3bb00e3d",
   "metadata": {
    "scrolled": false
   },
   "outputs": [
    {
     "data": {
      "text/plain": [
       "0.9835694509988757"
      ]
     },
     "execution_count": 47,
     "metadata": {},
     "output_type": "execute_result"
    }
   ],
   "source": [
    "best_dt = grid_search.best_estimator_\n",
    "best_dt.score(testX_prc, testY)"
   ]
  },
  {
   "cell_type": "markdown",
   "id": "1428400f",
   "metadata": {},
   "source": [
    "<h3>XGBoost</h3>"
   ]
  },
  {
   "cell_type": "code",
   "execution_count": 8,
   "id": "44d2e308",
   "metadata": {
    "scrolled": true
   },
   "outputs": [
    {
     "name": "stdout",
     "output_type": "stream",
     "text": [
      "arn:aws:iam::055003053546:role/service-role/AmazonSageMaker-ExecutionRole-20220213T111622\n"
     ]
    }
   ],
   "source": [
    "import sagemaker\n",
    "import boto3\n",
    "\n",
    "import numpy as np                                # For performing matrix operations and numerical processing\n",
    "from time import gmtime, strftime\n",
    "import os\n",
    "\n",
    "region = boto3.Session().region_name\n",
    "smclient = boto3.Session().client('sagemaker')\n",
    "\n",
    "from sagemaker import get_execution_role\n",
    "\n",
    "role = get_execution_role()\n",
    "print(role)\n",
    "\n",
    "sess = sagemaker.Session()\n",
    "bucket = sess.default_bucket()                    # Set a default S3 bucket\n",
    "prefix = 'DEMO-automatic-model-tuning-xgboost-dm'"
   ]
  },
  {
   "cell_type": "code",
   "execution_count": 9,
   "id": "424e14a3",
   "metadata": {
    "scrolled": true
   },
   "outputs": [],
   "source": [
    "from sklearn.model_selection import train_test_split\n",
    "\n",
    "#further split training data to training and validation\n",
    "trainX_prc, validX_prc, trainY, validY = train_test_split(trainX_prc,trainY,test_size=0.3)"
   ]
  },
  {
   "cell_type": "code",
   "execution_count": 10,
   "id": "761f45b9",
   "metadata": {
    "scrolled": true
   },
   "outputs": [],
   "source": [
    "traindata = np.concatenate([trainY.values.reshape(-1,1),trainX_prc],axis=1)\n",
    "validdata = np.concatenate([validY.values.reshape(-1,1),validX_prc],axis=1)\n",
    "pd.DataFrame(traindata).to_csv('train.csv', index=False, header=False)\n",
    "pd.DataFrame(validdata).to_csv('validation.csv', index=False, header=False)"
   ]
  },
  {
   "cell_type": "code",
   "execution_count": 11,
   "id": "9bfe83ed",
   "metadata": {
    "scrolled": true
   },
   "outputs": [],
   "source": [
    "boto3.Session().resource('s3').Bucket(bucket).Object(os.path.join(prefix, 'train/train.csv')).upload_file('train.csv')\n",
    "boto3.Session().resource('s3').Bucket(bucket).Object(os.path.join(prefix, 'validation/validation.csv')).upload_file('validation.csv')"
   ]
  },
  {
   "cell_type": "markdown",
   "id": "cced59bb",
   "metadata": {},
   "source": [
    "<h4>Launch a Model Tuning Job</h4>\n",
    "\n",
    "<h5>Define Hyperparamter Grid</h5>"
   ]
  },
  {
   "cell_type": "code",
   "execution_count": 24,
   "id": "2f4c16dc",
   "metadata": {
    "scrolled": true
   },
   "outputs": [],
   "source": [
    "tuning_job_config = {\n",
    "    \"ParameterRanges\": {\n",
    "      \"CategoricalParameterRanges\": [],\n",
    "      \"ContinuousParameterRanges\": [\n",
    "        {\n",
    "          \"MaxValue\": \"1\",\n",
    "          \"MinValue\": \"0\",\n",
    "          \"Name\": \"eta\"\n",
    "        },\n",
    "        {\n",
    "          \"MaxValue\": \"2\",\n",
    "          \"MinValue\": \"0\",\n",
    "          \"Name\": \"alpha\"\n",
    "        },\n",
    "        {\n",
    "          \"MaxValue\": \"10\",\n",
    "          \"MinValue\": \"1\",\n",
    "          \"Name\": \"min_child_weight\"\n",
    "        },\n",
    "        {\n",
    "          \"MaxValue\": \"0.9\",\n",
    "          \"MinValue\": \"0.3\",\n",
    "          \"Name\": \"subsample\"\n",
    "        }\n",
    "      ],\n",
    "      \"IntegerParameterRanges\": [\n",
    "        {\n",
    "          \"MaxValue\": \"10\",\n",
    "          \"MinValue\": \"1\",\n",
    "          \"Name\": \"max_depth\"\n",
    "        }\n",
    "      ]\n",
    "    },\n",
    "    \"ResourceLimits\": {\n",
    "      \"MaxNumberOfTrainingJobs\": 20,\n",
    "      \"MaxParallelTrainingJobs\": 3\n",
    "    },\n",
    "    \"Strategy\": \"Bayesian\",\n",
    "    \"HyperParameterTuningJobObjective\": {\n",
    "      \"MetricName\": \"validation:mse\",\n",
    "      \"Type\": \"Minimize\"\n",
    "    }\n",
    "  }"
   ]
  },
  {
   "cell_type": "markdown",
   "id": "16d8a898",
   "metadata": {},
   "source": [
    "<h5>Define Training Job</h5>"
   ]
  },
  {
   "cell_type": "code",
   "execution_count": 25,
   "id": "abf11227",
   "metadata": {
    "scrolled": true
   },
   "outputs": [
    {
     "name": "stderr",
     "output_type": "stream",
     "text": [
      "The method get_image_uri has been renamed in sagemaker>=2.\n",
      "See: https://sagemaker.readthedocs.io/en/stable/v2.html for details.\n"
     ]
    }
   ],
   "source": [
    "from sagemaker.amazon.amazon_estimator import get_image_uri\n",
    "training_image = get_image_uri(region, 'xgboost', repo_version='1.0-1')\n",
    "\n",
    "s3_input_train = 's3://{}/{}/train'.format(bucket, prefix)\n",
    "s3_input_validation ='s3://{}/{}/validation/'.format(bucket, prefix)\n",
    "\n",
    "training_job_definition = {\n",
    "    \"AlgorithmSpecification\": {\n",
    "      \"TrainingImage\": training_image,\n",
    "      \"TrainingInputMode\": \"File\"\n",
    "    },\n",
    "    \"InputDataConfig\": [\n",
    "      {\n",
    "        \"ChannelName\": \"train\",\n",
    "        \"CompressionType\": \"None\",\n",
    "        \"ContentType\": \"csv\",\n",
    "        \"DataSource\": {\n",
    "          \"S3DataSource\": {\n",
    "            \"S3DataDistributionType\": \"FullyReplicated\",\n",
    "            \"S3DataType\": \"S3Prefix\",\n",
    "            \"S3Uri\": s3_input_train\n",
    "          }\n",
    "        }\n",
    "      },\n",
    "      {\n",
    "        \"ChannelName\": \"validation\",\n",
    "        \"CompressionType\": \"None\",\n",
    "        \"ContentType\": \"csv\",\n",
    "        \"DataSource\": {\n",
    "          \"S3DataSource\": {\n",
    "            \"S3DataDistributionType\": \"FullyReplicated\",\n",
    "            \"S3DataType\": \"S3Prefix\",\n",
    "            \"S3Uri\": s3_input_validation\n",
    "          }\n",
    "        }\n",
    "      }\n",
    "    ],\n",
    "    \"OutputDataConfig\": {\n",
    "      \"S3OutputPath\": \"s3://{}/{}/output\".format(bucket,prefix)\n",
    "    },\n",
    "    \"ResourceConfig\": {\n",
    "      \"InstanceCount\": 1,\n",
    "      \"InstanceType\": \"ml.c4.2xlarge\",\n",
    "      \"VolumeSizeInGB\": 10\n",
    "    },\n",
    "    \"RoleArn\": role,\n",
    "    \"StaticHyperParameters\": {\n",
    "      \"eval_metric\": \"mse\",\n",
    "      \"num_round\": \"100\",\n",
    "      \"objective\": \"reg:squarederror\",\n",
    "      \"rate_drop\": \"0.3\",\n",
    "      \"tweedie_variance_power\": \"1.4\"\n",
    "    },\n",
    "    \"StoppingCondition\": {\n",
    "      \"MaxRuntimeInSeconds\": 43200\n",
    "    }\n",
    "}"
   ]
  },
  {
   "cell_type": "markdown",
   "id": "0c77981c",
   "metadata": {},
   "source": [
    "<h5>Name and Launch Tuning Job</h5>"
   ]
  },
  {
   "cell_type": "code",
   "execution_count": 26,
   "id": "24e6cd94",
   "metadata": {
    "scrolled": true
   },
   "outputs": [
    {
     "data": {
      "text/plain": [
       "{'HyperParameterTuningJobArn': 'arn:aws:sagemaker:us-east-1:055003053546:hyper-parameter-tuning-job/regtuningjob',\n",
       " 'ResponseMetadata': {'RequestId': '5bd3e7e7-42eb-44dd-a0ad-3699197aa301',\n",
       "  'HTTPStatusCode': 200,\n",
       "  'HTTPHeaders': {'x-amzn-requestid': '5bd3e7e7-42eb-44dd-a0ad-3699197aa301',\n",
       "   'content-type': 'application/x-amz-json-1.1',\n",
       "   'content-length': '113',\n",
       "   'date': 'Mon, 28 Feb 2022 18:00:36 GMT'},\n",
       "  'RetryAttempts': 0}}"
      ]
     },
     "execution_count": 26,
     "metadata": {},
     "output_type": "execute_result"
    }
   ],
   "source": [
    "tuning_job_name = \"RegTuningJob\"\n",
    "smclient.create_hyper_parameter_tuning_job(HyperParameterTuningJobName = tuning_job_name,\n",
    "                                           HyperParameterTuningJobConfig = tuning_job_config,\n",
    "                                           TrainingJobDefinition = training_job_definition)"
   ]
  },
  {
   "cell_type": "markdown",
   "id": "e3a99da2",
   "metadata": {},
   "source": [
    "Monitoring and deploy the model is identical as before\n",
    "\n",
    "<h4>Import the Best Model to Make Predictions</h4>"
   ]
  },
  {
   "cell_type": "code",
   "execution_count": 31,
   "id": "391649fa",
   "metadata": {
    "scrolled": true
   },
   "outputs": [],
   "source": [
    "from sagemaker.serializers import CSVSerializer\n",
    "from sagemaker.predictor import Predictor\n",
    "\n",
    "best_xgboost = Predictor('xgboost-ob-endpoint')      #the endpoint name you created goes here\n",
    "best_xgboost.serializer = CSVSerializer()\n",
    "predictions = best_xgboost.predict(testX_prc).decode('utf-8') # predict!\n",
    "predictions_array = np.fromstring(predictions[1:], sep=',') # and turn the prediction into an array"
   ]
  },
  {
   "cell_type": "code",
   "execution_count": 34,
   "id": "69c8d601",
   "metadata": {
    "scrolled": true
   },
   "outputs": [
    {
     "name": "stdout",
     "output_type": "stream",
     "text": [
      "Testing MSE: 0.0567195278976026\n",
      "Testing R2: 0.9857068635402646\n"
     ]
    }
   ],
   "source": [
    "from sklearn.metrics import mean_squared_error, r2_score\n",
    "\n",
    "print('Testing MSE:',mean_squared_error(testY.values, predictions_array))\n",
    "print('Testing R2:',r2_score(testY.values, predictions_array))"
   ]
  },
  {
   "cell_type": "markdown",
   "id": "1a5d9c35",
   "metadata": {},
   "source": [
    "<h4>Cleaning up</h4>"
   ]
  },
  {
   "cell_type": "code",
   "execution_count": 35,
   "id": "a755f2fb",
   "metadata": {
    "scrolled": true
   },
   "outputs": [],
   "source": [
    "best_xgboost.delete_endpoint(delete_endpoint_config=True)"
   ]
  },
  {
   "cell_type": "markdown",
   "id": "fb49c167",
   "metadata": {},
   "source": [
    "<h3>SageMaker Linear Learner</h3>"
   ]
  },
  {
   "cell_type": "markdown",
   "id": "d27a9abb",
   "metadata": {},
   "source": [
    "<h4>Launch a Model Tuning Job</h4>\n",
    "\n",
    "<h5>Define Hyperparamter Grid</h5>"
   ]
  },
  {
   "cell_type": "code",
   "execution_count": 58,
   "id": "386726e3",
   "metadata": {
    "scrolled": true
   },
   "outputs": [],
   "source": [
    "tuning_job_config = {\n",
    "    \"ParameterRanges\": {\n",
    "      \"CategoricalParameterRanges\": [],\n",
    "      \"ContinuousParameterRanges\": [\n",
    "        {\n",
    "          \"MaxValue\": \"1\",\n",
    "          \"MinValue\": \"0\",\n",
    "          \"Name\": \"l1\"\n",
    "        },\n",
    "        {\n",
    "          \"MaxValue\": \"1\",\n",
    "          \"MinValue\": \"0\",\n",
    "          \"Name\": \"wd\"\n",
    "        },\n",
    "        {\n",
    "          \"MaxValue\": \"1\",\n",
    "          \"MinValue\": \"0.001\",\n",
    "          \"Name\": \"learning_rate\"\n",
    "        },\n",
    "      ],\n",
    "      \"IntegerParameterRanges\": [\n",
    "        {\n",
    "          \"MaxValue\": \"500\",\n",
    "          \"MinValue\": \"100\",\n",
    "          \"Name\": \"mini_batch_size\"\n",
    "        }\n",
    "      ]\n",
    "    },\n",
    "    \"ResourceLimits\": {\n",
    "      \"MaxNumberOfTrainingJobs\": 20,\n",
    "      \"MaxParallelTrainingJobs\": 3\n",
    "    },\n",
    "    \"Strategy\": \"Bayesian\",\n",
    "    \"HyperParameterTuningJobObjective\": {\n",
    "      \"MetricName\": \"validation:objective_loss\",\n",
    "      \"Type\": \"Minimize\"\n",
    "    }\n",
    "  }"
   ]
  },
  {
   "cell_type": "markdown",
   "id": "b171e144",
   "metadata": {},
   "source": [
    "<h5>Define Training Job</h5>"
   ]
  },
  {
   "cell_type": "code",
   "execution_count": 59,
   "id": "7f92bfae",
   "metadata": {
    "scrolled": true
   },
   "outputs": [
    {
     "name": "stderr",
     "output_type": "stream",
     "text": [
      "The method get_image_uri has been renamed in sagemaker>=2.\n",
      "See: https://sagemaker.readthedocs.io/en/stable/v2.html for details.\n",
      "Defaulting to the only supported framework/algorithm version: 1. Ignoring framework/algorithm version: 1.0-1.\n"
     ]
    }
   ],
   "source": [
    "from sagemaker.amazon.amazon_estimator import get_image_uri\n",
    "training_image = get_image_uri(region, 'linear-learner', repo_version='1.0-1')\n",
    "\n",
    "s3_input_train = 's3://{}/{}/train'.format(bucket, prefix)\n",
    "s3_input_validation ='s3://{}/{}/validation/'.format(bucket, prefix)\n",
    "\n",
    "training_job_definition = {\n",
    "    \"AlgorithmSpecification\": {\n",
    "      \"TrainingImage\": training_image,\n",
    "      \"TrainingInputMode\": \"File\"\n",
    "    },\n",
    "    \"InputDataConfig\": [\n",
    "      {\n",
    "        \"ChannelName\": \"train\",\n",
    "        \"CompressionType\": \"None\",\n",
    "        \"ContentType\": \"text/csv\",\n",
    "        \"DataSource\": {\n",
    "          \"S3DataSource\": {\n",
    "            \"S3DataDistributionType\": \"FullyReplicated\",\n",
    "            \"S3DataType\": \"S3Prefix\",\n",
    "            \"S3Uri\": s3_input_train\n",
    "          }\n",
    "        }\n",
    "      },\n",
    "      {\n",
    "        \"ChannelName\": \"validation\",\n",
    "        \"CompressionType\": \"None\",\n",
    "        \"ContentType\": \"text/csv\",\n",
    "        \"DataSource\": {\n",
    "          \"S3DataSource\": {\n",
    "            \"S3DataDistributionType\": \"FullyReplicated\",\n",
    "            \"S3DataType\": \"S3Prefix\",\n",
    "            \"S3Uri\": s3_input_validation\n",
    "          }\n",
    "        }\n",
    "      }\n",
    "    ],\n",
    "    \"OutputDataConfig\": {\n",
    "      \"S3OutputPath\": \"s3://{}/{}/output\".format(bucket,prefix)\n",
    "    },\n",
    "    \"ResourceConfig\": {\n",
    "      \"InstanceCount\": 1,\n",
    "      \"InstanceType\": \"ml.c4.2xlarge\",\n",
    "      \"VolumeSizeInGB\": 10\n",
    "    },\n",
    "    \"RoleArn\": role,\n",
    "    \"StaticHyperParameters\": {\n",
    "      \"predictor_type\": \"regressor\",\n",
    "    },\n",
    "    \"StoppingCondition\": {\n",
    "      \"MaxRuntimeInSeconds\": 3600\n",
    "    }\n",
    "}"
   ]
  },
  {
   "cell_type": "markdown",
   "id": "a6703b4d",
   "metadata": {},
   "source": [
    "<h5>Name and Launch Tuning Job</h5>"
   ]
  },
  {
   "cell_type": "code",
   "execution_count": 60,
   "id": "c91a98aa",
   "metadata": {
    "scrolled": true
   },
   "outputs": [
    {
     "data": {
      "text/plain": [
       "{'HyperParameterTuningJobArn': 'arn:aws:sagemaker:us-east-1:055003053546:hyper-parameter-tuning-job/regtuningjob5',\n",
       " 'ResponseMetadata': {'RequestId': 'a1070e67-ebeb-489f-a409-cfeb5ac326c7',\n",
       "  'HTTPStatusCode': 200,\n",
       "  'HTTPHeaders': {'x-amzn-requestid': 'a1070e67-ebeb-489f-a409-cfeb5ac326c7',\n",
       "   'content-type': 'application/x-amz-json-1.1',\n",
       "   'content-length': '114',\n",
       "   'date': 'Mon, 28 Feb 2022 19:54:20 GMT'},\n",
       "  'RetryAttempts': 0}}"
      ]
     },
     "execution_count": 60,
     "metadata": {},
     "output_type": "execute_result"
    }
   ],
   "source": [
    "tuning_job_name = \"RegTuningJob5\"\n",
    "smclient.create_hyper_parameter_tuning_job(HyperParameterTuningJobName = tuning_job_name,\n",
    "                                           HyperParameterTuningJobConfig = tuning_job_config,\n",
    "                                           TrainingJobDefinition = training_job_definition)"
   ]
  },
  {
   "cell_type": "markdown",
   "id": "7babc5cf",
   "metadata": {},
   "source": [
    "Monitoring and deploy the model is identical as before\n",
    "\n",
    "<h4>Import the Best Model to Make Predictions</h4>"
   ]
  },
  {
   "cell_type": "code",
   "execution_count": 62,
   "id": "32d8e671",
   "metadata": {
    "scrolled": true
   },
   "outputs": [
    {
     "name": "stderr",
     "output_type": "stream",
     "text": [
      "/home/ec2-user/anaconda3/envs/python3/lib/python3.6/site-packages/ipykernel/__main__.py:7: DeprecationWarning: string or file could not be read to its end due to unmatched data; this will raise a ValueError in the future.\n"
     ]
    }
   ],
   "source": [
    "from sagemaker.serializers import CSVSerializer\n",
    "from sagemaker.predictor import Predictor\n",
    "\n",
    "best_ll = Predictor('linear-learner-ob-endpoint')      #the endpoint name you created goes here\n",
    "best_ll.serializer = CSVSerializer()\n",
    "predictions = best_ll.predict(testX_prc).decode('utf-8') # predict!\n",
    "predictions_array = np.fromstring(predictions[1:], sep=',') # and turn the prediction into an array"
   ]
  },
  {
   "cell_type": "code",
   "execution_count": 80,
   "id": "c430b4f6",
   "metadata": {},
   "outputs": [],
   "source": [
    "import json\n",
    "\n",
    "ll_test_pred = json.loads(predictions)\n",
    "ll_test_pred = np.array([yh['score'] for yh in ll_test_pred['predictions']])"
   ]
  },
  {
   "cell_type": "code",
   "execution_count": 83,
   "id": "6635a355",
   "metadata": {
    "scrolled": true
   },
   "outputs": [
    {
     "name": "stdout",
     "output_type": "stream",
     "text": [
      "Testing MSE: 0.25664156617528083\n",
      "Testing R2: 0.9353271604586374\n"
     ]
    }
   ],
   "source": [
    "from sklearn.metrics import mean_squared_error, r2_score\n",
    "\n",
    "print('Testing MSE:',mean_squared_error(testY.values, ll_test_pred))\n",
    "print('Testing R2:',r2_score(testY.values, ll_test_pred))"
   ]
  },
  {
   "cell_type": "code",
   "execution_count": 84,
   "id": "93905be8",
   "metadata": {},
   "outputs": [
    {
     "data": {
      "text/plain": [
       "[{'ResponseMetadata': {'RequestId': 'KPER53JXSC87VP4V',\n",
       "   'HostId': 'Y0rsUIzMYBWqrxRKIaWq7V1ZaHfInwAGtMykpkd6s/07hlXcW0Tk9Kds35csa7KEdIOO4UpfJLo=',\n",
       "   'HTTPStatusCode': 200,\n",
       "   'HTTPHeaders': {'x-amz-id-2': 'Y0rsUIzMYBWqrxRKIaWq7V1ZaHfInwAGtMykpkd6s/07hlXcW0Tk9Kds35csa7KEdIOO4UpfJLo=',\n",
       "    'x-amz-request-id': 'KPER53JXSC87VP4V',\n",
       "    'date': 'Mon, 28 Feb 2022 20:31:06 GMT',\n",
       "    'content-type': 'application/xml',\n",
       "    'transfer-encoding': 'chunked',\n",
       "    'server': 'AmazonS3',\n",
       "    'connection': 'close'},\n",
       "   'RetryAttempts': 0},\n",
       "  'Deleted': [{'Key': 'DEMO-automatic-model-tuning-xgboost-dm/output/RegTuningJob-006-ab89d125/output/model.tar.gz'},\n",
       "   {'Key': 'DEMO-automatic-model-tuning-xgboost-dm/output/RegTuningJob-012-1c56f40e/output/model.tar.gz'},\n",
       "   {'Key': 'DEMO-automatic-model-tuning-xgboost-dm/output/RegTuningJob-007-4331dfea/output/model.tar.gz'},\n",
       "   {'Key': 'DEMO-automatic-model-tuning-xgboost-dm/output/RegTuningJob-013-d85fce01/output/model.tar.gz'},\n",
       "   {'Key': 'DEMO-automatic-model-tuning-xgboost-dm/output/RegTuningJob-002-c8b6382e/output/model.tar.gz'},\n",
       "   {'Key': 'DEMO-automatic-model-tuning-xgboost-dm/output/RegTuningJob5-004-69fcdd7f/output/model.tar.gz'},\n",
       "   {'Key': 'DEMO-automatic-model-tuning-xgboost-dm/output/RegTuningJob-003-06ea38bf/output/model.tar.gz'},\n",
       "   {'Key': 'DEMO-automatic-model-tuning-xgboost-dm/output/RegTuningJob-004-916470f8/output/model.tar.gz'},\n",
       "   {'Key': 'DEMO-automatic-model-tuning-xgboost-dm/validation/validation.csv'},\n",
       "   {'Key': 'DEMO-automatic-model-tuning-xgboost-dm/output/RegTuningJob5-012-850809ac/output/model.tar.gz'},\n",
       "   {'Key': 'DEMO-automatic-model-tuning-xgboost-dm/output/RegTuningJob-016-465fc63e/output/model.tar.gz'},\n",
       "   {'Key': 'DEMO-automatic-model-tuning-xgboost-dm/output/RegTuningJob5-007-abf78c68/output/model.tar.gz'},\n",
       "   {'Key': 'DEMO-automatic-model-tuning-xgboost-dm/output/RegTuningJob5-017-0d5a44ce/output/model.tar.gz'},\n",
       "   {'Key': 'DEMO-automatic-model-tuning-xgboost-dm/output/RegTuningJob-014-c0295edf/output/model.tar.gz'},\n",
       "   {'Key': 'DEMO-automatic-model-tuning-xgboost-dm/output/RegTuningJob-018-748a1c8b/output/model.tar.gz'},\n",
       "   {'Key': 'DEMO-automatic-model-tuning-xgboost-dm/output/RegTuningJob-011-ec27a3b8/output/model.tar.gz'},\n",
       "   {'Key': 'DEMO-automatic-model-tuning-xgboost-dm/output/RegTuningJob5-020-2f330b1b/output/model.tar.gz'},\n",
       "   {'Key': 'DEMO-automatic-model-tuning-xgboost-dm/output/RegTuningJob5-003-8f79a546/output/model.tar.gz'},\n",
       "   {'Key': 'DEMO-automatic-model-tuning-xgboost-dm/train/train.csv'},\n",
       "   {'Key': 'DEMO-automatic-model-tuning-xgboost-dm/output/RegTuningJob-008-4ae24146/output/model.tar.gz'},\n",
       "   {'Key': 'DEMO-automatic-model-tuning-xgboost-dm/output/RegTuningJob5-010-1c553444/output/model.tar.gz'},\n",
       "   {'Key': 'DEMO-automatic-model-tuning-xgboost-dm/output/RegTuningJob-020-01c8c439/output/model.tar.gz'},\n",
       "   {'Key': 'DEMO-automatic-model-tuning-xgboost-dm/output/RegTuningJob5-015-cdb687ae/output/model.tar.gz'},\n",
       "   {'Key': 'DEMO-automatic-model-tuning-xgboost-dm/output/RegTuningJob5-016-a6e509c0/output/model.tar.gz'},\n",
       "   {'Key': 'DEMO-automatic-model-tuning-xgboost-dm/output/RegTuningJob5-009-f8610f33/output/model.tar.gz'},\n",
       "   {'Key': 'DEMO-automatic-model-tuning-xgboost-dm/output/RegTuningJob-019-70269f4e/output/model.tar.gz'},\n",
       "   {'Key': 'DEMO-automatic-model-tuning-xgboost-dm/output/RegTuningJob5-011-78538e59/output/model.tar.gz'},\n",
       "   {'Key': 'DEMO-automatic-model-tuning-xgboost-dm/output/RegTuningJob5-014-90004c3a/output/model.tar.gz'},\n",
       "   {'Key': 'DEMO-automatic-model-tuning-xgboost-dm/output/RegTuningJob5-019-ce3e73c5/output/model.tar.gz'},\n",
       "   {'Key': 'DEMO-automatic-model-tuning-xgboost-dm/output/RegTuningJob5-006-5c44120d/output/model.tar.gz'},\n",
       "   {'Key': 'DEMO-automatic-model-tuning-xgboost-dm/output/RegTuningJob-015-6015ad87/output/model.tar.gz'},\n",
       "   {'Key': 'DEMO-automatic-model-tuning-xgboost-dm/output/RegTuningJob-017-086320d1/output/model.tar.gz'},\n",
       "   {'Key': 'DEMO-automatic-model-tuning-xgboost-dm/output/RegTuningJob5-002-39c9c9c9/output/model.tar.gz'},\n",
       "   {'Key': 'DEMO-automatic-model-tuning-xgboost-dm/output/RegTuningJob5-013-b467d7b5/output/model.tar.gz'},\n",
       "   {'Key': 'DEMO-automatic-model-tuning-xgboost-dm/output/RegTuningJob5-018-b9fb9828/output/model.tar.gz'},\n",
       "   {'Key': 'DEMO-automatic-model-tuning-xgboost-dm/output/RegTuningJob5-001-089a10ea/output/model.tar.gz'},\n",
       "   {'Key': 'DEMO-automatic-model-tuning-xgboost-dm/output/RegTuningJob5-008-3268d9f9/output/model.tar.gz'},\n",
       "   {'Key': 'DEMO-automatic-model-tuning-xgboost-dm/output/RegTuningJob-005-d43ba1d8/output/model.tar.gz'},\n",
       "   {'Key': 'DEMO-automatic-model-tuning-xgboost-dm/output/RegTuningJob-001-9853c1d9/output/model.tar.gz'},\n",
       "   {'Key': 'DEMO-automatic-model-tuning-xgboost-dm/output/RegTuningJob-010-2c08dee2/output/model.tar.gz'},\n",
       "   {'Key': 'DEMO-automatic-model-tuning-xgboost-dm/output/RegTuningJob-009-30e9e1ed/output/model.tar.gz'},\n",
       "   {'Key': 'DEMO-automatic-model-tuning-xgboost-dm/output/RegTuningJob5-005-4050245b/output/model.tar.gz'}]}]"
      ]
     },
     "execution_count": 84,
     "metadata": {},
     "output_type": "execute_result"
    }
   ],
   "source": [
    "best_ll.delete_endpoint(delete_endpoint_config=True)\n",
    "bucket_to_delete = boto3.resource('s3').Bucket(bucket)\n",
    "bucket_to_delete.objects.all().delete()"
   ]
  }
 ],
 "metadata": {
  "kernelspec": {
   "display_name": "conda_python3",
   "language": "python",
   "name": "conda_python3"
  },
  "language_info": {
   "codemirror_mode": {
    "name": "ipython",
    "version": 3
   },
   "file_extension": ".py",
   "mimetype": "text/x-python",
   "name": "python",
   "nbconvert_exporter": "python",
   "pygments_lexer": "ipython3",
   "version": "3.6.13"
  }
 },
 "nbformat": 4,
 "nbformat_minor": 5
}
