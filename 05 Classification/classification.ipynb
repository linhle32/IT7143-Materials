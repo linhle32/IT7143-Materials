{
 "cells": [
  {
   "cell_type": "markdown",
   "id": "5dbe1db5",
   "metadata": {},
   "source": [
    "In this notebook, we will go through common classification models provided by scikit-learn and AWS SageMaker, including\n",
    "\n",
    "- Logistic Regression\n",
    "- Support Vector Machine\n",
    "- Decision Tree\n",
    "- Random Forest\n",
    "- XGBoost (SageMaker)\n",
    "\n",
    "We still use the credit approval data (crx.data) in this example.\n",
    "\n",
    "<h4>Import and Preprocess Data</h4>\n",
    "\n",
    "We first import the data and use the preprocessing pipeline that was built in module 4."
   ]
  },
  {
   "cell_type": "code",
   "execution_count": 1,
   "id": "df5258f0",
   "metadata": {},
   "outputs": [
    {
     "name": "stdout",
     "output_type": "stream",
     "text": [
      "(690, 16)\n"
     ]
    },
    {
     "data": {
      "text/html": [
       "<div>\n",
       "<style scoped>\n",
       "    .dataframe tbody tr th:only-of-type {\n",
       "        vertical-align: middle;\n",
       "    }\n",
       "\n",
       "    .dataframe tbody tr th {\n",
       "        vertical-align: top;\n",
       "    }\n",
       "\n",
       "    .dataframe thead th {\n",
       "        text-align: right;\n",
       "    }\n",
       "</style>\n",
       "<table border=\"1\" class=\"dataframe\">\n",
       "  <thead>\n",
       "    <tr style=\"text-align: right;\">\n",
       "      <th></th>\n",
       "      <th>0</th>\n",
       "      <th>1</th>\n",
       "      <th>2</th>\n",
       "      <th>3</th>\n",
       "      <th>4</th>\n",
       "      <th>5</th>\n",
       "      <th>6</th>\n",
       "      <th>7</th>\n",
       "      <th>8</th>\n",
       "      <th>9</th>\n",
       "      <th>10</th>\n",
       "      <th>11</th>\n",
       "      <th>12</th>\n",
       "      <th>13</th>\n",
       "      <th>14</th>\n",
       "      <th>15</th>\n",
       "    </tr>\n",
       "  </thead>\n",
       "  <tbody>\n",
       "    <tr>\n",
       "      <th>0</th>\n",
       "      <td>b</td>\n",
       "      <td>30.83</td>\n",
       "      <td>0.000</td>\n",
       "      <td>u</td>\n",
       "      <td>g</td>\n",
       "      <td>w</td>\n",
       "      <td>v</td>\n",
       "      <td>1.25</td>\n",
       "      <td>t</td>\n",
       "      <td>t</td>\n",
       "      <td>1</td>\n",
       "      <td>f</td>\n",
       "      <td>g</td>\n",
       "      <td>202.0</td>\n",
       "      <td>0</td>\n",
       "      <td>+</td>\n",
       "    </tr>\n",
       "    <tr>\n",
       "      <th>1</th>\n",
       "      <td>a</td>\n",
       "      <td>58.67</td>\n",
       "      <td>4.460</td>\n",
       "      <td>u</td>\n",
       "      <td>g</td>\n",
       "      <td>q</td>\n",
       "      <td>h</td>\n",
       "      <td>3.04</td>\n",
       "      <td>t</td>\n",
       "      <td>t</td>\n",
       "      <td>6</td>\n",
       "      <td>f</td>\n",
       "      <td>g</td>\n",
       "      <td>43.0</td>\n",
       "      <td>560</td>\n",
       "      <td>+</td>\n",
       "    </tr>\n",
       "    <tr>\n",
       "      <th>2</th>\n",
       "      <td>a</td>\n",
       "      <td>24.50</td>\n",
       "      <td>0.500</td>\n",
       "      <td>u</td>\n",
       "      <td>g</td>\n",
       "      <td>q</td>\n",
       "      <td>h</td>\n",
       "      <td>1.50</td>\n",
       "      <td>t</td>\n",
       "      <td>f</td>\n",
       "      <td>0</td>\n",
       "      <td>f</td>\n",
       "      <td>g</td>\n",
       "      <td>280.0</td>\n",
       "      <td>824</td>\n",
       "      <td>+</td>\n",
       "    </tr>\n",
       "    <tr>\n",
       "      <th>3</th>\n",
       "      <td>b</td>\n",
       "      <td>27.83</td>\n",
       "      <td>1.540</td>\n",
       "      <td>u</td>\n",
       "      <td>g</td>\n",
       "      <td>w</td>\n",
       "      <td>v</td>\n",
       "      <td>3.75</td>\n",
       "      <td>t</td>\n",
       "      <td>t</td>\n",
       "      <td>5</td>\n",
       "      <td>t</td>\n",
       "      <td>g</td>\n",
       "      <td>100.0</td>\n",
       "      <td>3</td>\n",
       "      <td>+</td>\n",
       "    </tr>\n",
       "    <tr>\n",
       "      <th>4</th>\n",
       "      <td>b</td>\n",
       "      <td>20.17</td>\n",
       "      <td>5.625</td>\n",
       "      <td>u</td>\n",
       "      <td>g</td>\n",
       "      <td>w</td>\n",
       "      <td>v</td>\n",
       "      <td>1.71</td>\n",
       "      <td>t</td>\n",
       "      <td>f</td>\n",
       "      <td>0</td>\n",
       "      <td>f</td>\n",
       "      <td>s</td>\n",
       "      <td>120.0</td>\n",
       "      <td>0</td>\n",
       "      <td>+</td>\n",
       "    </tr>\n",
       "  </tbody>\n",
       "</table>\n",
       "</div>"
      ],
      "text/plain": [
       "  0      1      2  3  4  5  6     7  8  9   10 11 12     13   14 15\n",
       "0  b  30.83  0.000  u  g  w  v  1.25  t  t   1  f  g  202.0    0  +\n",
       "1  a  58.67  4.460  u  g  q  h  3.04  t  t   6  f  g   43.0  560  +\n",
       "2  a  24.50  0.500  u  g  q  h  1.50  t  f   0  f  g  280.0  824  +\n",
       "3  b  27.83  1.540  u  g  w  v  3.75  t  t   5  t  g  100.0    3  +\n",
       "4  b  20.17  5.625  u  g  w  v  1.71  t  f   0  f  s  120.0    0  +"
      ]
     },
     "execution_count": 1,
     "metadata": {},
     "output_type": "execute_result"
    }
   ],
   "source": [
    "import pandas as pd\n",
    "\n",
    "crx = pd.read_csv('crx.data',header=None) #the data doesn't come with header names, we don't need them anyway :)\n",
    "\n",
    "print(crx.shape)                          #the shape() function gives the data size (rows,columns)\n",
    "crx.head()                                #the head() function display a few first rows in the data"
   ]
  },
  {
   "cell_type": "code",
   "execution_count": 2,
   "id": "b54a244f",
   "metadata": {
    "scrolled": true
   },
   "outputs": [
    {
     "data": {
      "text/plain": [
       "((517, 15), (517,), (173, 15), (173,))"
      ]
     },
     "execution_count": 2,
     "metadata": {},
     "output_type": "execute_result"
    }
   ],
   "source": [
    "from sklearn.model_selection import StratifiedShuffleSplit\n",
    "\n",
    "split = StratifiedShuffleSplit(n_splits=1, test_size=0.25, random_state=10)\n",
    "\n",
    "for train_index, test_index in split.split(crx, crx[15]):\n",
    "    strat_train_set = crx.loc[train_index]\n",
    "    strat_test_set = crx.loc[test_index]\n",
    "\n",
    "#in general, we call input data X, and label data Y, so we first create trainX and trainY\n",
    "trainX = strat_train_set.loc[:,:14]\n",
    "trainY = strat_train_set.loc[:,15].values\n",
    "trainY = (trainY=='+')*1\n",
    "\n",
    "testX = strat_test_set.loc[:,:14]\n",
    "testY = strat_test_set.loc[:,15].values\n",
    "testY = (testY=='+')*1\n",
    "\n",
    "trainX.shape, trainY.shape, testX.shape, testY.shape"
   ]
  },
  {
   "cell_type": "code",
   "execution_count": 3,
   "id": "a38469c2",
   "metadata": {},
   "outputs": [],
   "source": [
    "from sklearn.pipeline import Pipeline\n",
    "from sklearn.impute import SimpleImputer\n",
    "from sklearn.preprocessing import StandardScaler\n",
    "from sklearn.preprocessing import OneHotEncoder\n",
    "from sklearn.compose import ColumnTransformer\n",
    "import numpy as np\n",
    "\n",
    "num_cols = trainX.columns[(trainX.dtypes==np.int64) | (trainX.dtypes==np.float64)]\n",
    "\n",
    "num_pipeline = Pipeline([\n",
    "    ('impute', SimpleImputer(strategy='median')),\n",
    "    ('standardize', StandardScaler())\n",
    "])\n",
    "\n",
    "cat_cols = trainX.columns[trainX.dtypes==object]\n",
    "\n",
    "cat_pipeline = Pipeline([\n",
    "    ('impute', SimpleImputer(strategy='constant',fill_value='missing')),\n",
    "    ('encode', OneHotEncoder())\n",
    "])\n",
    "\n",
    "full_pipeline = ColumnTransformer([\n",
    "    ('numeric', num_pipeline, num_cols),\n",
    "    ('class', cat_pipeline, cat_cols)\n",
    "])"
   ]
  },
  {
   "cell_type": "code",
   "execution_count": 4,
   "id": "7fb4a51e",
   "metadata": {},
   "outputs": [],
   "source": [
    "trainX_prc = full_pipeline.fit_transform(trainX)\n",
    "trainX_prc = np.array(trainX_prc.todense())\n",
    "traindata = np.concatenate([trainY.reshape(-1,1),trainX_prc],axis=1)\n",
    "pd.DataFrame(traindata).to_csv('crx_train.csv', index=False, header=False)\n",
    "\n",
    "\n",
    "testX_prc = full_pipeline.transform(testX)\n",
    "testX_prc = np.array(testX_prc.todense())\n",
    "testdata = np.array(testX_prc)"
   ]
  },
  {
   "cell_type": "markdown",
   "id": "224a9352",
   "metadata": {},
   "source": [
    "<h3>Using Scikit-Learn Algorithms</h3>\n",
    "\n",
    "<h4>Logistic Regression</h4>"
   ]
  },
  {
   "cell_type": "code",
   "execution_count": 5,
   "id": "e9570e6c",
   "metadata": {
    "scrolled": true
   },
   "outputs": [
    {
     "name": "stdout",
     "output_type": "stream",
     "text": [
      "Training Accuracy: 0.8878143133462283\n",
      "Testing Accuracy: 0.8497109826589595\n"
     ]
    }
   ],
   "source": [
    "from sklearn.linear_model import LogisticRegression\n",
    "from sklearn.model_selection import cross_val_score\n",
    "from sklearn.model_selection import cross_val_predict\n",
    "from sklearn.metrics import f1_score\n",
    "\n",
    "#create new model\n",
    "logistic = LogisticRegression()\n",
    "\n",
    "#train \n",
    "logistic.fit(trainX_prc, trainY)\n",
    "\n",
    "#get training accuracy\n",
    "train_accuracy_lg = logistic.score(trainX_prc, trainY)\n",
    "\n",
    "#get testing accuracy\n",
    "test_accuracy_lg = logistic.score(testX_prc, testY)\n",
    "\n",
    "print('Training Accuracy:', train_accuracy_lg)\n",
    "print('Testing Accuracy:', test_accuracy_lg)"
   ]
  },
  {
   "cell_type": "markdown",
   "id": "49a4bd4c",
   "metadata": {},
   "source": [
    "<h4>Linear Support Vector Machine</h4>"
   ]
  },
  {
   "cell_type": "code",
   "execution_count": 6,
   "id": "7293f625",
   "metadata": {},
   "outputs": [
    {
     "name": "stdout",
     "output_type": "stream",
     "text": [
      "Training Accuracy: 0.8762088974854932\n",
      "Testing Accuracy: 0.8497109826589595\n"
     ]
    }
   ],
   "source": [
    "from sklearn.svm import LinearSVC\n",
    "\n",
    "lsvc = LinearSVC(max_iter=5000, C=0.01)\n",
    "lsvc.fit(trainX_prc, trainY)\n",
    "\n",
    "train_accuracy_lsvm = lsvc.score(trainX_prc, trainY)\n",
    "\n",
    "#get testing accuracy\n",
    "test_accuracy_lsvm = lsvc.score(testX_prc, testY)\n",
    "\n",
    "print('Training Accuracy:', train_accuracy_lsvm)\n",
    "print('Testing Accuracy:', test_accuracy_lsvm)"
   ]
  },
  {
   "cell_type": "markdown",
   "id": "166b6634",
   "metadata": {},
   "source": [
    "<h4>Kernel Support Vector Machine</h4>"
   ]
  },
  {
   "cell_type": "code",
   "execution_count": 7,
   "id": "73511b35",
   "metadata": {},
   "outputs": [
    {
     "name": "stdout",
     "output_type": "stream",
     "text": [
      "Training Accuracy: 0.8858800773694391\n",
      "Testing Accuracy: 0.8439306358381503\n"
     ]
    }
   ],
   "source": [
    "from sklearn.svm import SVC\n",
    "\n",
    "svc = SVC(max_iter=5000, kernel='rbf', gamma=0.1, C=0.1)\n",
    "svc.fit(trainX_prc, trainY)\n",
    "\n",
    "train_accuracy_svm = svc.score(trainX_prc, trainY)\n",
    "\n",
    "#get testing accuracy\n",
    "test_accuracy_svm = svc.score(testX_prc, testY)\n",
    "\n",
    "print('Training Accuracy:', train_accuracy_svm)\n",
    "print('Testing Accuracy:', test_accuracy_svm)"
   ]
  },
  {
   "cell_type": "markdown",
   "id": "f898c67d",
   "metadata": {},
   "source": [
    "<h4>Decision Tree</h4>"
   ]
  },
  {
   "cell_type": "code",
   "execution_count": 8,
   "id": "d3d83835",
   "metadata": {},
   "outputs": [
    {
     "name": "stdout",
     "output_type": "stream",
     "text": [
      "Training Accuracy: 1.0\n",
      "Testing Accuracy: 0.791907514450867\n"
     ]
    }
   ],
   "source": [
    "from sklearn.tree import DecisionTreeClassifier\n",
    "\n",
    "dt = DecisionTreeClassifier()\n",
    "dt.fit(trainX_prc, trainY)\n",
    "\n",
    "train_accuracy_dt = dt.score(trainX_prc, trainY)\n",
    "\n",
    "#get testing accuracy\n",
    "test_accuracy_dt = dt.score(testX_prc, testY)\n",
    "\n",
    "print('Training Accuracy:', train_accuracy_dt)\n",
    "print('Testing Accuracy:', test_accuracy_dt)"
   ]
  },
  {
   "cell_type": "markdown",
   "id": "e6f34a82",
   "metadata": {},
   "source": [
    "<h4>Random Forest</h4>"
   ]
  },
  {
   "cell_type": "code",
   "execution_count": 9,
   "id": "ba3825a5",
   "metadata": {},
   "outputs": [
    {
     "name": "stdout",
     "output_type": "stream",
     "text": [
      "Training Accuracy: 1.0\n",
      "Testing Accuracy: 0.8497109826589595\n"
     ]
    }
   ],
   "source": [
    "from sklearn.ensemble import RandomForestClassifier\n",
    "\n",
    "rf = RandomForestClassifier()\n",
    "rf.fit(trainX_prc, trainY)\n",
    "\n",
    "train_accuracy_rf = rf.score(trainX_prc, trainY)\n",
    "\n",
    "#get testing accuracy\n",
    "test_accuracy_rf = rf.score(testX_prc, testY)\n",
    "\n",
    "print('Training Accuracy:', train_accuracy_rf)\n",
    "print('Testing Accuracy:', test_accuracy_rf)"
   ]
  },
  {
   "cell_type": "markdown",
   "id": "1be81ed7",
   "metadata": {},
   "source": [
    "<h3>AWS Algorithm - XGBoost</h3>\n",
    "\n",
    "<h4>Prepare the SageMaker Environment</h4>"
   ]
  },
  {
   "cell_type": "code",
   "execution_count": 11,
   "id": "b4dd37ce",
   "metadata": {},
   "outputs": [
    {
     "name": "stdout",
     "output_type": "stream",
     "text": [
      "Success - the MySageMakerInstance is in the us-east-1 region. You will use the 811284229777.dkr.ecr.us-east-1.amazonaws.com/xgboost:latest container for your SageMaker endpoint.\n"
     ]
    }
   ],
   "source": [
    "# import libraries\n",
    "import boto3, re, sys, math, json, os, sagemaker, urllib.request\n",
    "from sagemaker import get_execution_role\n",
    "import numpy as np\n",
    "import pandas as pd\n",
    "import matplotlib.pyplot as plt\n",
    "from IPython.display import Image\n",
    "from IPython.display import display\n",
    "from time import gmtime, strftime\n",
    "from sagemaker.predictor import csv_serializer\n",
    "\n",
    "# Define IAM role\n",
    "role = get_execution_role()\n",
    "prefix = 'sagemaker/DEMO-xgboost-dm'\n",
    "my_region = boto3.session.Session().region_name # set the region of the instance\n",
    "\n",
    "# this line automatically looks for the XGBoost image URI and builds an XGBoost container.\n",
    "xgboost_container = sagemaker.image_uris.retrieve(\"xgboost\", my_region, \"latest\")\n",
    "\n",
    "print(\"Success - the MySageMakerInstance is in the \" + my_region + \" region. You will use the \" + xgboost_container + \" container for your SageMaker endpoint.\")"
   ]
  },
  {
   "cell_type": "code",
   "execution_count": 12,
   "id": "19e111d5",
   "metadata": {},
   "outputs": [
    {
     "name": "stdout",
     "output_type": "stream",
     "text": [
      "S3 bucket created successfully\n"
     ]
    }
   ],
   "source": [
    "bucket_name = 'lle13bucket1' # <--- CHANGE THIS VARIABLE TO A UNIQUE NAME FOR YOUR BUCKET\n",
    "s3 = boto3.resource('s3')\n",
    "try:\n",
    "    if  my_region == 'us-east-1':\n",
    "      s3.create_bucket(Bucket=bucket_name)\n",
    "    else: \n",
    "      s3.create_bucket(Bucket=bucket_name, CreateBucketConfiguration={ 'LocationConstraint': my_region })\n",
    "    print('S3 bucket created successfully')\n",
    "except Exception as e:\n",
    "    print('S3 error: ',e)"
   ]
  },
  {
   "cell_type": "markdown",
   "id": "744dc136",
   "metadata": {},
   "source": [
    "<h4>Prepare the Training Data</h4>"
   ]
  },
  {
   "cell_type": "code",
   "execution_count": 13,
   "id": "193e07c4",
   "metadata": {},
   "outputs": [],
   "source": [
    "boto3.Session().resource('s3').Bucket(bucket_name).Object(os.path.join(prefix, 'train/crx_train.csv')).upload_file('crx_train.csv')\n",
    "s3_input_train = sagemaker.inputs.TrainingInput(s3_data='s3://{}/{}/train'.format(bucket_name, prefix), content_type='csv')"
   ]
  },
  {
   "cell_type": "markdown",
   "id": "b76612be",
   "metadata": {},
   "source": [
    "<h4>Create and Train a New XGBoost Model</h4>"
   ]
  },
  {
   "cell_type": "code",
   "execution_count": 14,
   "id": "13968470",
   "metadata": {},
   "outputs": [],
   "source": [
    "sess = sagemaker.Session()\n",
    "xgb = sagemaker.estimator.Estimator(xgboost_container,role, instance_count=1, instance_type='ml.m4.xlarge',output_path='s3://{}/{}/output'.format(bucket_name, prefix),sagemaker_session=sess)\n",
    "xgb.set_hyperparameters(max_depth=5,eta=0.2,gamma=4,min_child_weight=6,subsample=0.8,silent=0,objective='binary:logistic',num_round=100)"
   ]
  },
  {
   "cell_type": "code",
   "execution_count": 15,
   "id": "5974e093",
   "metadata": {},
   "outputs": [
    {
     "name": "stdout",
     "output_type": "stream",
     "text": [
      "2022-02-14 04:59:36 Starting - Starting the training job...ProfilerReport-1644814775: InProgress\n",
      "...\n",
      "2022-02-14 05:00:25 Starting - Preparing the instances for training......\n",
      "2022-02-14 05:01:29 Downloading - Downloading input data......\n",
      "2022-02-14 05:02:30 Training - Training image download completed. Training in progress..\u001b[34mArguments: train\u001b[0m\n",
      "\u001b[34m[2022-02-14:05:02:33:INFO] Running standalone xgboost training.\u001b[0m\n",
      "\u001b[34m[2022-02-14:05:02:33:INFO] Path /opt/ml/input/data/validation does not exist!\u001b[0m\n",
      "\u001b[34m[2022-02-14:05:02:33:INFO] File size need to be processed in the node: 0.15mb. Available memory size in the node: 8494.33mb\u001b[0m\n",
      "\u001b[34m[2022-02-14:05:02:33:INFO] Determined delimiter of CSV input is ','\u001b[0m\n",
      "\u001b[34m[05:02:33] S3DistributionType set as FullyReplicated\u001b[0m\n",
      "\u001b[34m[05:02:33] 517x51 matrix with 26367 entries loaded from /opt/ml/input/data/train?format=csv&label_column=0&delimiter=,\u001b[0m\n",
      "\u001b[34m[05:02:33] src/tree/updater_prune.cc:74: tree pruning end, 1 roots, 8 extra nodes, 4 pruned nodes, max_depth=3\u001b[0m\n",
      "\u001b[34m[0]#011train-error:0.131528\u001b[0m\n",
      "\u001b[34m[05:02:33] src/tree/updater_prune.cc:74: tree pruning end, 1 roots, 8 extra nodes, 6 pruned nodes, max_depth=3\u001b[0m\n",
      "\u001b[34m[1]#011train-error:0.110251\u001b[0m\n",
      "\u001b[34m[05:02:33] src/tree/updater_prune.cc:74: tree pruning end, 1 roots, 10 extra nodes, 0 pruned nodes, max_depth=4\u001b[0m\n",
      "\u001b[34m[2]#011train-error:0.119923\u001b[0m\n",
      "\u001b[34m[05:02:33] src/tree/updater_prune.cc:74: tree pruning end, 1 roots, 10 extra nodes, 2 pruned nodes, max_depth=4\u001b[0m\n",
      "\u001b[34m[3]#011train-error:0.108317\u001b[0m\n",
      "\u001b[34m[05:02:33] src/tree/updater_prune.cc:74: tree pruning end, 1 roots, 8 extra nodes, 2 pruned nodes, max_depth=3\u001b[0m\n",
      "\u001b[34m[4]#011train-error:0.116054\u001b[0m\n",
      "\u001b[34m[05:02:33] src/tree/updater_prune.cc:74: tree pruning end, 1 roots, 4 extra nodes, 8 pruned nodes, max_depth=2\u001b[0m\n",
      "\u001b[34m[5]#011train-error:0.116054\u001b[0m\n",
      "\u001b[34m[05:02:33] src/tree/updater_prune.cc:74: tree pruning end, 1 roots, 8 extra nodes, 4 pruned nodes, max_depth=3\u001b[0m\n",
      "\u001b[34m[6]#011train-error:0.116054\u001b[0m\n",
      "\u001b[34m[05:02:33] src/tree/updater_prune.cc:74: tree pruning end, 1 roots, 4 extra nodes, 8 pruned nodes, max_depth=2\u001b[0m\n",
      "\u001b[34m[7]#011train-error:0.116054\u001b[0m\n",
      "\u001b[34m[05:02:33] src/tree/updater_prune.cc:74: tree pruning end, 1 roots, 6 extra nodes, 8 pruned nodes, max_depth=3\u001b[0m\n",
      "\u001b[34m[8]#011train-error:0.117988\u001b[0m\n",
      "\u001b[34m[05:02:33] src/tree/updater_prune.cc:74: tree pruning end, 1 roots, 6 extra nodes, 8 pruned nodes, max_depth=3\u001b[0m\n",
      "\u001b[34m[9]#011train-error:0.116054\u001b[0m\n",
      "\u001b[34m[05:02:33] src/tree/updater_prune.cc:74: tree pruning end, 1 roots, 4 extra nodes, 6 pruned nodes, max_depth=2\u001b[0m\n",
      "\u001b[34m[10]#011train-error:0.117988\u001b[0m\n",
      "\u001b[34m[05:02:33] src/tree/updater_prune.cc:74: tree pruning end, 1 roots, 4 extra nodes, 8 pruned nodes, max_depth=2\u001b[0m\n",
      "\u001b[34m[11]#011train-error:0.116054\u001b[0m\n",
      "\u001b[34m[05:02:33] src/tree/updater_prune.cc:74: tree pruning end, 1 roots, 4 extra nodes, 8 pruned nodes, max_depth=2\u001b[0m\n",
      "\u001b[34m[12]#011train-error:0.116054\u001b[0m\n",
      "\u001b[34m[05:02:33] src/tree/updater_prune.cc:74: tree pruning end, 1 roots, 4 extra nodes, 6 pruned nodes, max_depth=2\u001b[0m\n",
      "\u001b[34m[05:02:33] src/tree/updater_prune.cc:74: tree pruning end, 1 roots, 6 extra nodes, 6 pruned nodes, max_depth=3\u001b[0m\n",
      "\u001b[34m[13]#011train-error:0.116054\u001b[0m\n",
      "\u001b[34m[14]#011train-error:0.11412\u001b[0m\n",
      "\u001b[34m[05:02:33] src/tree/updater_prune.cc:74: tree pruning end, 1 roots, 0 extra nodes, 10 pruned nodes, max_depth=0\u001b[0m\n",
      "\u001b[34m[15]#011train-error:0.11412\u001b[0m\n",
      "\u001b[34m[05:02:33] src/tree/updater_prune.cc:74: tree pruning end, 1 roots, 6 extra nodes, 6 pruned nodes, max_depth=3\u001b[0m\n",
      "\u001b[34m[16]#011train-error:0.112186\u001b[0m\n",
      "\u001b[34m[05:02:33] src/tree/updater_prune.cc:74: tree pruning end, 1 roots, 4 extra nodes, 6 pruned nodes, max_depth=2\u001b[0m\n",
      "\u001b[34m[17]#011train-error:0.11412\u001b[0m\n",
      "\u001b[34m[05:02:33] src/tree/updater_prune.cc:74: tree pruning end, 1 roots, 6 extra nodes, 4 pruned nodes, max_depth=3\u001b[0m\n",
      "\u001b[34m[05:02:33] src/tree/updater_prune.cc:74: tree pruning end, 1 roots, 6 extra nodes, 2 pruned nodes, max_depth=3\u001b[0m\n",
      "\u001b[34m[05:02:33] src/tree/updater_prune.cc:74: tree pruning end, 1 roots, 4 extra nodes, 6 pruned nodes, max_depth=2\u001b[0m\n",
      "\u001b[34m[18]#011train-error:0.116054\u001b[0m\n",
      "\u001b[34m[19]#011train-error:0.116054\u001b[0m\n",
      "\u001b[34m[20]#011train-error:0.112186\u001b[0m\n",
      "\u001b[34m[05:02:33] src/tree/updater_prune.cc:74: tree pruning end, 1 roots, 0 extra nodes, 10 pruned nodes, max_depth=0\u001b[0m\n",
      "\u001b[34m[21]#011train-error:0.112186\u001b[0m\n",
      "\u001b[34m[05:02:33] src/tree/updater_prune.cc:74: tree pruning end, 1 roots, 0 extra nodes, 8 pruned nodes, max_depth=0\u001b[0m\n",
      "\u001b[34m[22]#011train-error:0.112186\u001b[0m\n",
      "\u001b[34m[05:02:33] src/tree/updater_prune.cc:74: tree pruning end, 1 roots, 0 extra nodes, 10 pruned nodes, max_depth=0\u001b[0m\n",
      "\u001b[34m[23]#011train-error:0.112186\u001b[0m\n",
      "\u001b[34m[05:02:33] src/tree/updater_prune.cc:74: tree pruning end, 1 roots, 0 extra nodes, 10 pruned nodes, max_depth=0\u001b[0m\n",
      "\u001b[34m[24]#011train-error:0.112186\u001b[0m\n",
      "\u001b[34m[05:02:33] src/tree/updater_prune.cc:74: tree pruning end, 1 roots, 0 extra nodes, 10 pruned nodes, max_depth=0\u001b[0m\n",
      "\u001b[34m[25]#011train-error:0.108317\u001b[0m\n",
      "\u001b[34m[05:02:33] src/tree/updater_prune.cc:74: tree pruning end, 1 roots, 0 extra nodes, 8 pruned nodes, max_depth=0\u001b[0m\n",
      "\u001b[34m[26]#011train-error:0.108317\u001b[0m\n",
      "\u001b[34m[05:02:33] src/tree/updater_prune.cc:74: tree pruning end, 1 roots, 0 extra nodes, 10 pruned nodes, max_depth=0\u001b[0m\n",
      "\u001b[34m[27]#011train-error:0.112186\u001b[0m\n",
      "\u001b[34m[05:02:33] src/tree/updater_prune.cc:74: tree pruning end, 1 roots, 0 extra nodes, 10 pruned nodes, max_depth=0\u001b[0m\n",
      "\u001b[34m[28]#011train-error:0.11412\u001b[0m\n",
      "\u001b[34m[05:02:33] src/tree/updater_prune.cc:74: tree pruning end, 1 roots, 6 extra nodes, 2 pruned nodes, max_depth=3\u001b[0m\n",
      "\u001b[34m[29]#011train-error:0.110251\u001b[0m\n",
      "\u001b[34m[05:02:33] src/tree/updater_prune.cc:74: tree pruning end, 1 roots, 0 extra nodes, 10 pruned nodes, max_depth=0\u001b[0m\n",
      "\u001b[34m[30]#011train-error:0.112186\u001b[0m\n",
      "\u001b[34m[05:02:33] src/tree/updater_prune.cc:74: tree pruning end, 1 roots, 0 extra nodes, 8 pruned nodes, max_depth=0\u001b[0m\n",
      "\u001b[34m[31]#011train-error:0.112186\u001b[0m\n",
      "\u001b[34m[05:02:33] src/tree/updater_prune.cc:74: tree pruning end, 1 roots, 6 extra nodes, 2 pruned nodes, max_depth=3\u001b[0m\n",
      "\u001b[34m[32]#011train-error:0.106383\u001b[0m\n",
      "\u001b[34m[05:02:33] src/tree/updater_prune.cc:74: tree pruning end, 1 roots, 0 extra nodes, 8 pruned nodes, max_depth=0\u001b[0m\n",
      "\u001b[34m[33]#011train-error:0.106383\u001b[0m\n",
      "\u001b[34m[05:02:33] src/tree/updater_prune.cc:74: tree pruning end, 1 roots, 0 extra nodes, 8 pruned nodes, max_depth=0\u001b[0m\n",
      "\u001b[34m[34]#011train-error:0.106383\u001b[0m\n",
      "\u001b[34m[05:02:33] src/tree/updater_prune.cc:74: tree pruning end, 1 roots, 0 extra nodes, 8 pruned nodes, max_depth=0\u001b[0m\n",
      "\u001b[34m[35]#011train-error:0.106383\u001b[0m\n",
      "\u001b[34m[05:02:33] src/tree/updater_prune.cc:74: tree pruning end, 1 roots, 6 extra nodes, 2 pruned nodes, max_depth=3\u001b[0m\n",
      "\u001b[34m[36]#011train-error:0.106383\u001b[0m\n",
      "\u001b[34m[05:02:33] src/tree/updater_prune.cc:74: tree pruning end, 1 roots, 0 extra nodes, 8 pruned nodes, max_depth=0\u001b[0m\n",
      "\u001b[34m[37]#011train-error:0.106383\u001b[0m\n",
      "\u001b[34m[05:02:33] src/tree/updater_prune.cc:74: tree pruning end, 1 roots, 0 extra nodes, 8 pruned nodes, max_depth=0\u001b[0m\n",
      "\u001b[34m[38]#011train-error:0.106383\u001b[0m\n",
      "\u001b[34m[05:02:33] src/tree/updater_prune.cc:74: tree pruning end, 1 roots, 0 extra nodes, 8 pruned nodes, max_depth=0\u001b[0m\n",
      "\u001b[34m[39]#011train-error:0.106383\u001b[0m\n",
      "\u001b[34m[05:02:33] src/tree/updater_prune.cc:74: tree pruning end, 1 roots, 0 extra nodes, 8 pruned nodes, max_depth=0\u001b[0m\n",
      "\u001b[34m[40]#011train-error:0.106383\u001b[0m\n",
      "\u001b[34m[05:02:33] src/tree/updater_prune.cc:74: tree pruning end, 1 roots, 2 extra nodes, 6 pruned nodes, max_depth=1\u001b[0m\n",
      "\u001b[34m[41]#011train-error:0.106383\u001b[0m\n",
      "\u001b[34m[05:02:33] src/tree/updater_prune.cc:74: tree pruning end, 1 roots, 0 extra nodes, 8 pruned nodes, max_depth=0\u001b[0m\n",
      "\u001b[34m[42]#011train-error:0.106383\u001b[0m\n",
      "\u001b[34m[05:02:33] src/tree/updater_prune.cc:74: tree pruning end, 1 roots, 6 extra nodes, 4 pruned nodes, max_depth=3\u001b[0m\n",
      "\u001b[34m[43]#011train-error:0.10058\u001b[0m\n",
      "\u001b[34m[05:02:33] src/tree/updater_prune.cc:74: tree pruning end, 1 roots, 8 extra nodes, 0 pruned nodes, max_depth=4\u001b[0m\n",
      "\u001b[34m[44]#011train-error:0.102515\u001b[0m\n",
      "\u001b[34m[05:02:33] src/tree/updater_prune.cc:74: tree pruning end, 1 roots, 0 extra nodes, 8 pruned nodes, max_depth=0\u001b[0m\n",
      "\u001b[34m[45]#011train-error:0.102515\u001b[0m\n",
      "\u001b[34m[05:02:33] src/tree/updater_prune.cc:74: tree pruning end, 1 roots, 0 extra nodes, 10 pruned nodes, max_depth=0\u001b[0m\n",
      "\u001b[34m[46]#011train-error:0.10058\u001b[0m\n",
      "\u001b[34m[05:02:33] src/tree/updater_prune.cc:74: tree pruning end, 1 roots, 0 extra nodes, 8 pruned nodes, max_depth=0\u001b[0m\n",
      "\u001b[34m[47]#011train-error:0.10058\u001b[0m\n",
      "\u001b[34m[05:02:33] src/tree/updater_prune.cc:74: tree pruning end, 1 roots, 0 extra nodes, 8 pruned nodes, max_depth=0\u001b[0m\n",
      "\u001b[34m[48]#011train-error:0.10058\u001b[0m\n",
      "\u001b[34m[05:02:33] src/tree/updater_prune.cc:74: tree pruning end, 1 roots, 0 extra nodes, 8 pruned nodes, max_depth=0\u001b[0m\n",
      "\u001b[34m[49]#011train-error:0.102515\u001b[0m\n",
      "\u001b[34m[05:02:33] src/tree/updater_prune.cc:74: tree pruning end, 1 roots, 0 extra nodes, 8 pruned nodes, max_depth=0\u001b[0m\n",
      "\u001b[34m[50]#011train-error:0.102515\u001b[0m\n",
      "\u001b[34m[05:02:33] src/tree/updater_prune.cc:74: tree pruning end, 1 roots, 0 extra nodes, 8 pruned nodes, max_depth=0\u001b[0m\n",
      "\u001b[34m[51]#011train-error:0.102515\u001b[0m\n",
      "\u001b[34m[05:02:33] src/tree/updater_prune.cc:74: tree pruning end, 1 roots, 0 extra nodes, 8 pruned nodes, max_depth=0\u001b[0m\n",
      "\u001b[34m[52]#011train-error:0.102515\u001b[0m\n",
      "\u001b[34m[05:02:33] src/tree/updater_prune.cc:74: tree pruning end, 1 roots, 0 extra nodes, 8 pruned nodes, max_depth=0\u001b[0m\n",
      "\u001b[34m[53]#011train-error:0.102515\u001b[0m\n",
      "\u001b[34m[05:02:33] src/tree/updater_prune.cc:74: tree pruning end, 1 roots, 0 extra nodes, 8 pruned nodes, max_depth=0\u001b[0m\n",
      "\u001b[34m[54]#011train-error:0.102515\u001b[0m\n",
      "\u001b[34m[05:02:33] src/tree/updater_prune.cc:74: tree pruning end, 1 roots, 0 extra nodes, 8 pruned nodes, max_depth=0\u001b[0m\n",
      "\u001b[34m[55]#011train-error:0.102515\u001b[0m\n",
      "\u001b[34m[05:02:33] src/tree/updater_prune.cc:74: tree pruning end, 1 roots, 0 extra nodes, 8 pruned nodes, max_depth=0\u001b[0m\n",
      "\u001b[34m[56]#011train-error:0.102515\u001b[0m\n",
      "\u001b[34m[05:02:33] src/tree/updater_prune.cc:74: tree pruning end, 1 roots, 0 extra nodes, 10 pruned nodes, max_depth=0\u001b[0m\n",
      "\u001b[34m[57]#011train-error:0.102515\u001b[0m\n",
      "\u001b[34m[05:02:33] src/tree/updater_prune.cc:74: tree pruning end, 1 roots, 0 extra nodes, 8 pruned nodes, max_depth=0\u001b[0m\n",
      "\u001b[34m[58]#011train-error:0.102515\u001b[0m\n",
      "\u001b[34m[05:02:33] src/tree/updater_prune.cc:74: tree pruning end, 1 roots, 0 extra nodes, 8 pruned nodes, max_depth=0\u001b[0m\n",
      "\u001b[34m[59]#011train-error:0.102515\u001b[0m\n",
      "\u001b[34m[05:02:33] src/tree/updater_prune.cc:74: tree pruning end, 1 roots, 0 extra nodes, 10 pruned nodes, max_depth=0\u001b[0m\n",
      "\u001b[34m[60]#011train-error:0.102515\u001b[0m\n",
      "\u001b[34m[05:02:33] src/tree/updater_prune.cc:74: tree pruning end, 1 roots, 0 extra nodes, 10 pruned nodes, max_depth=0\u001b[0m\n",
      "\u001b[34m[61]#011train-error:0.102515\u001b[0m\n",
      "\u001b[34m[05:02:33] src/tree/updater_prune.cc:74: tree pruning end, 1 roots, 0 extra nodes, 8 pruned nodes, max_depth=0\u001b[0m\n",
      "\u001b[34m[62]#011train-error:0.10058\u001b[0m\n",
      "\u001b[34m[05:02:33] src/tree/updater_prune.cc:74: tree pruning end, 1 roots, 0 extra nodes, 8 pruned nodes, max_depth=0\u001b[0m\n",
      "\u001b[34m[63]#011train-error:0.10058\u001b[0m\n",
      "\u001b[34m[05:02:33] src/tree/updater_prune.cc:74: tree pruning end, 1 roots, 0 extra nodes, 8 pruned nodes, max_depth=0\u001b[0m\n",
      "\u001b[34m[64]#011train-error:0.102515\u001b[0m\n",
      "\u001b[34m[05:02:33] src/tree/updater_prune.cc:74: tree pruning end, 1 roots, 0 extra nodes, 8 pruned nodes, max_depth=0\u001b[0m\n",
      "\u001b[34m[65]#011train-error:0.102515\u001b[0m\n",
      "\u001b[34m[05:02:33] src/tree/updater_prune.cc:74: tree pruning end, 1 roots, 0 extra nodes, 10 pruned nodes, max_depth=0\u001b[0m\n",
      "\u001b[34m[66]#011train-error:0.102515\u001b[0m\n",
      "\u001b[34m[05:02:33] src/tree/updater_prune.cc:74: tree pruning end, 1 roots, 4 extra nodes, 4 pruned nodes, max_depth=2\u001b[0m\n",
      "\u001b[34m[67]#011train-error:0.102515\u001b[0m\n",
      "\u001b[34m[05:02:33] src/tree/updater_prune.cc:74: tree pruning end, 1 roots, 0 extra nodes, 8 pruned nodes, max_depth=0\u001b[0m\n",
      "\u001b[34m[68]#011train-error:0.102515\u001b[0m\n",
      "\u001b[34m[05:02:33] src/tree/updater_prune.cc:74: tree pruning end, 1 roots, 0 extra nodes, 8 pruned nodes, max_depth=0\u001b[0m\n",
      "\u001b[34m[69]#011train-error:0.102515\u001b[0m\n",
      "\u001b[34m[05:02:33] src/tree/updater_prune.cc:74: tree pruning end, 1 roots, 2 extra nodes, 6 pruned nodes, max_depth=1\u001b[0m\n",
      "\u001b[34m[70]#011train-error:0.102515\u001b[0m\n",
      "\u001b[34m[05:02:33] src/tree/updater_prune.cc:74: tree pruning end, 1 roots, 0 extra nodes, 10 pruned nodes, max_depth=0\u001b[0m\n",
      "\u001b[34m[71]#011train-error:0.102515\u001b[0m\n",
      "\u001b[34m[05:02:33] src/tree/updater_prune.cc:74: tree pruning end, 1 roots, 0 extra nodes, 8 pruned nodes, max_depth=0\u001b[0m\n",
      "\u001b[34m[72]#011train-error:0.102515\u001b[0m\n",
      "\u001b[34m[05:02:33] src/tree/updater_prune.cc:74: tree pruning end, 1 roots, 0 extra nodes, 8 pruned nodes, max_depth=0\u001b[0m\n",
      "\u001b[34m[73]#011train-error:0.102515\u001b[0m\n",
      "\u001b[34m[05:02:33] src/tree/updater_prune.cc:74: tree pruning end, 1 roots, 4 extra nodes, 4 pruned nodes, max_depth=2\u001b[0m\n",
      "\u001b[34m[74]#011train-error:0.098646\u001b[0m\n",
      "\u001b[34m[05:02:33] src/tree/updater_prune.cc:74: tree pruning end, 1 roots, 0 extra nodes, 8 pruned nodes, max_depth=0\u001b[0m\n",
      "\u001b[34m[75]#011train-error:0.098646\u001b[0m\n",
      "\u001b[34m[05:02:33] src/tree/updater_prune.cc:74: tree pruning end, 1 roots, 0 extra nodes, 8 pruned nodes, max_depth=0\u001b[0m\n",
      "\u001b[34m[76]#011train-error:0.098646\u001b[0m\n",
      "\u001b[34m[05:02:33] src/tree/updater_prune.cc:74: tree pruning end, 1 roots, 4 extra nodes, 2 pruned nodes, max_depth=2\u001b[0m\n",
      "\u001b[34m[77]#011train-error:0.10058\u001b[0m\n",
      "\u001b[34m[05:02:33] src/tree/updater_prune.cc:74: tree pruning end, 1 roots, 0 extra nodes, 8 pruned nodes, max_depth=0\u001b[0m\n",
      "\u001b[34m[78]#011train-error:0.10058\u001b[0m\n",
      "\u001b[34m[05:02:33] src/tree/updater_prune.cc:74: tree pruning end, 1 roots, 0 extra nodes, 8 pruned nodes, max_depth=0\u001b[0m\n",
      "\u001b[34m[79]#011train-error:0.106383\u001b[0m\n",
      "\u001b[34m[05:02:33] src/tree/updater_prune.cc:74: tree pruning end, 1 roots, 0 extra nodes, 8 pruned nodes, max_depth=0\u001b[0m\n",
      "\u001b[34m[80]#011train-error:0.106383\u001b[0m\n",
      "\u001b[34m[05:02:33] src/tree/updater_prune.cc:74: tree pruning end, 1 roots, 0 extra nodes, 8 pruned nodes, max_depth=0\u001b[0m\n",
      "\u001b[34m[81]#011train-error:0.106383\u001b[0m\n",
      "\u001b[34m[05:02:33] src/tree/updater_prune.cc:74: tree pruning end, 1 roots, 0 extra nodes, 8 pruned nodes, max_depth=0\u001b[0m\n",
      "\u001b[34m[82]#011train-error:0.104449\u001b[0m\n",
      "\u001b[34m[05:02:33] src/tree/updater_prune.cc:74: tree pruning end, 1 roots, 0 extra nodes, 8 pruned nodes, max_depth=0\u001b[0m\n",
      "\u001b[34m[83]#011train-error:0.104449\u001b[0m\n",
      "\u001b[34m[05:02:33] src/tree/updater_prune.cc:74: tree pruning end, 1 roots, 0 extra nodes, 8 pruned nodes, max_depth=0\u001b[0m\n",
      "\u001b[34m[84]#011train-error:0.106383\u001b[0m\n",
      "\u001b[34m[05:02:33] src/tree/updater_prune.cc:74: tree pruning end, 1 roots, 0 extra nodes, 8 pruned nodes, max_depth=0\u001b[0m\n",
      "\u001b[34m[85]#011train-error:0.104449\u001b[0m\n",
      "\u001b[34m[05:02:33] src/tree/updater_prune.cc:74: tree pruning end, 1 roots, 4 extra nodes, 4 pruned nodes, max_depth=2\u001b[0m\n",
      "\u001b[34m[86]#011train-error:0.102515\u001b[0m\n",
      "\u001b[34m[05:02:33] src/tree/updater_prune.cc:74: tree pruning end, 1 roots, 0 extra nodes, 8 pruned nodes, max_depth=0\u001b[0m\n",
      "\u001b[34m[87]#011train-error:0.104449\u001b[0m\n",
      "\u001b[34m[05:02:33] src/tree/updater_prune.cc:74: tree pruning end, 1 roots, 0 extra nodes, 8 pruned nodes, max_depth=0\u001b[0m\n",
      "\u001b[34m[88]#011train-error:0.110251\u001b[0m\n",
      "\u001b[34m[05:02:33] src/tree/updater_prune.cc:74: tree pruning end, 1 roots, 0 extra nodes, 8 pruned nodes, max_depth=0\u001b[0m\n",
      "\u001b[34m[89]#011train-error:0.110251\u001b[0m\n",
      "\u001b[34m[05:02:33] src/tree/updater_prune.cc:74: tree pruning end, 1 roots, 2 extra nodes, 6 pruned nodes, max_depth=1\u001b[0m\n",
      "\u001b[34m[90]#011train-error:0.10058\u001b[0m\n",
      "\u001b[34m[91]#011train-error:0.098646\u001b[0m\n",
      "\u001b[34m[92]#011train-error:0.10058\u001b[0m\n",
      "\u001b[34m[93]#011train-error:0.10058\u001b[0m\n",
      "\u001b[34m[05:02:33] src/tree/updater_prune.cc:74: tree pruning end, 1 roots, 0 extra nodes, 8 pruned nodes, max_depth=0\u001b[0m\n",
      "\u001b[34m[05:02:33] src/tree/updater_prune.cc:74: tree pruning end, 1 roots, 0 extra nodes, 8 pruned nodes, max_depth=0\u001b[0m\n",
      "\u001b[34m[05:02:33] src/tree/updater_prune.cc:74: tree pruning end, 1 roots, 0 extra nodes, 8 pruned nodes, max_depth=0\u001b[0m\n",
      "\u001b[34m[05:02:33] src/tree/updater_prune.cc:74: tree pruning end, 1 roots, 0 extra nodes, 8 pruned nodes, max_depth=0\u001b[0m\n",
      "\u001b[34m[94]#011train-error:0.10058\u001b[0m\n",
      "\u001b[34m[05:02:33] src/tree/updater_prune.cc:74: tree pruning end, 1 roots, 0 extra nodes, 6 pruned nodes, max_depth=0\u001b[0m\n",
      "\u001b[34m[95]#011train-error:0.098646\u001b[0m\n",
      "\u001b[34m[05:02:33] src/tree/updater_prune.cc:74: tree pruning end, 1 roots, 0 extra nodes, 8 pruned nodes, max_depth=0\u001b[0m\n",
      "\u001b[34m[96]#011train-error:0.10058\u001b[0m\n",
      "\u001b[34m[05:02:33] src/tree/updater_prune.cc:74: tree pruning end, 1 roots, 0 extra nodes, 8 pruned nodes, max_depth=0\u001b[0m\n",
      "\u001b[34m[97]#011train-error:0.098646\u001b[0m\n",
      "\u001b[34m[05:02:33] src/tree/updater_prune.cc:74: tree pruning end, 1 roots, 0 extra nodes, 8 pruned nodes, max_depth=0\u001b[0m\n",
      "\u001b[34m[98]#011train-error:0.10058\u001b[0m\n",
      "\u001b[34m[05:02:33] src/tree/updater_prune.cc:74: tree pruning end, 1 roots, 0 extra nodes, 8 pruned nodes, max_depth=0\u001b[0m\n",
      "\u001b[34m[99]#011train-error:0.102515\u001b[0m\n",
      "\n",
      "2022-02-14 05:03:06 Uploading - Uploading generated training model\n",
      "2022-02-14 05:03:06 Completed - Training job completed\n",
      "Training seconds: 83\n",
      "Billable seconds: 83\n"
     ]
    }
   ],
   "source": [
    "xgb.fit({'train': s3_input_train})"
   ]
  },
  {
   "cell_type": "markdown",
   "id": "0a018dc8",
   "metadata": {},
   "source": [
    "<h4>Deploy the Model</h4>"
   ]
  },
  {
   "cell_type": "code",
   "execution_count": 72,
   "id": "b2c991de",
   "metadata": {},
   "outputs": [
    {
     "name": "stdout",
     "output_type": "stream",
     "text": [
      "----------!"
     ]
    }
   ],
   "source": [
    "xgb_predictor = xgb.deploy(initial_instance_count=1,instance_type='ml.m4.xlarge')"
   ]
  },
  {
   "cell_type": "markdown",
   "id": "811d9e78",
   "metadata": {},
   "source": [
    "<h4>Prepare the Testing Data</h4>"
   ]
  },
  {
   "cell_type": "code",
   "execution_count": 82,
   "id": "7b14812e",
   "metadata": {},
   "outputs": [],
   "source": [
    "testX = strat_test_set.loc[:,:14]\n",
    "testY = strat_test_set.loc[:,15:16]\n",
    "testY = (testY=='+')*1\n",
    "testX_prc = full_pipeline.transform(testX)\n",
    "testdata = np.array(testX_prc.todense())"
   ]
  },
  {
   "cell_type": "markdown",
   "id": "6d7a23ee",
   "metadata": {},
   "source": [
    "<h4>Test the Trained XGBoost Model</h4>"
   ]
  },
  {
   "cell_type": "code",
   "execution_count": 84,
   "id": "606f8352",
   "metadata": {
    "scrolled": true
   },
   "outputs": [
    {
     "name": "stdout",
     "output_type": "stream",
     "text": [
      "(173,)\n"
     ]
    }
   ],
   "source": [
    "from sagemaker.serializers import CSVSerializer\n",
    "\n",
    "xgb_predictor.serializer = CSVSerializer() # set the serializer type\n",
    "predictions = xgb_predictor.predict(testdata).decode('utf-8') # predict!\n",
    "predictions_array = np.fromstring(predictions[1:], sep=',') # and turn the prediction into an array\n",
    "print(predictions_array.shape)"
   ]
  },
  {
   "cell_type": "code",
   "execution_count": 89,
   "id": "54a3c566",
   "metadata": {
    "scrolled": true
   },
   "outputs": [
    {
     "name": "stdout",
     "output_type": "stream",
     "text": [
      "\n",
      "Overall Classification Rate: 86.1%\n",
      "\n",
      "Predicted      Not Approved   Approved\n",
      "Observed\n",
      "No Purchase    91% (80)    19% (16)\n",
      "Purchase        9% (8)     81% (69) \n",
      "\n"
     ]
    }
   ],
   "source": [
    "cm = pd.crosstab(index=testY.values.flatten(), columns=np.round(predictions_array), rownames=['Observed'], colnames=['Predicted'])\n",
    "tn = cm.iloc[0,0]; fn = cm.iloc[1,0]; tp = cm.iloc[1,1]; fp = cm.iloc[0,1]; p = (tp+tn)/(tp+tn+fp+fn)*100\n",
    "print(\"\\n{0:<20}{1:<4.1f}%\\n\".format(\"Overall Classification Rate: \", p))\n",
    "print(\"{0:<15}{1:<15}{2:>8}\".format(\"Predicted\", \"Not Approved\", \"Approved\"))\n",
    "print(\"Observed\")\n",
    "print(\"{0:<15}{1:<2.0f}% ({2:<}){3:>6.0f}% ({4:<})\".format(\"No Purchase\", tn/(tn+fn)*100,tn, fp/(tp+fp)*100, fp))\n",
    "print(\"{0:<16}{1:<1.0f}% ({2:<}){3:>7.0f}% ({4:<}) \\n\".format(\"Purchase\", fn/(tn+fn)*100,fn, tp/(tp+fp)*100, tp))"
   ]
  },
  {
   "cell_type": "markdown",
   "id": "ef65d723",
   "metadata": {},
   "source": [
    "<h4>Cleaning up</h4>"
   ]
  },
  {
   "cell_type": "code",
   "execution_count": 90,
   "id": "d45b43d9",
   "metadata": {},
   "outputs": [
    {
     "data": {
      "text/plain": [
       "[{'ResponseMetadata': {'RequestId': 'V4G0Q3C0K45F1WGY',\n",
       "   'HostId': 'NIb8lEMTny9ZFbLqPvc8OGhYd2aZLMriZq1UxVkv3L1BgEFvR+a75aQe00+PK+Buo8yby414NoA=',\n",
       "   'HTTPStatusCode': 200,\n",
       "   'HTTPHeaders': {'x-amz-id-2': 'NIb8lEMTny9ZFbLqPvc8OGhYd2aZLMriZq1UxVkv3L1BgEFvR+a75aQe00+PK+Buo8yby414NoA=',\n",
       "    'x-amz-request-id': 'V4G0Q3C0K45F1WGY',\n",
       "    'date': 'Sun, 13 Feb 2022 17:59:57 GMT',\n",
       "    'content-type': 'application/xml',\n",
       "    'transfer-encoding': 'chunked',\n",
       "    'server': 'AmazonS3',\n",
       "    'connection': 'close'},\n",
       "   'RetryAttempts': 0},\n",
       "  'Deleted': [{'Key': 'sagemaker/DEMO-xgboost-dm/output/xgboost-2022-02-13-17-09-46-006/profiler-output/system/training_job_end.ts'},\n",
       "   {'Key': 'sagemaker/DEMO-xgboost-dm/output/xgboost-2022-02-13-17-09-46-006/profiler-output/system/incremental/2022021317/1644772260.algo-1.json'},\n",
       "   {'Key': 'sagemaker/DEMO-xgboost-dm/output/xgboost-2022-02-13-17-09-46-006/rule-output/ProfilerReport-1644772186/profiler-output/profiler-reports/OverallFrameworkMetrics.json'},\n",
       "   {'Key': 'sagemaker/DEMO-xgboost-dm/output/xgboost-2022-02-13-17-09-46-006/rule-output/ProfilerReport-1644772186/profiler-output/profiler-reports/MaxInitializationTime.json'},\n",
       "   {'Key': 'sagemaker/DEMO-xgboost-dm/output/xgboost-2022-02-13-17-26-27-598/rule-output/ProfilerReport-1644773187/profiler-output/profiler-reports/StepOutlier.json'},\n",
       "   {'Key': 'sagemaker/DEMO-xgboost-dm/output/xgboost-2022-02-13-17-09-46-006/rule-output/ProfilerReport-1644772186/profiler-output/profiler-reports/Dataloader.json'},\n",
       "   {'Key': 'sagemaker/DEMO-xgboost-dm/output/xgboost-2022-02-13-17-26-27-598/rule-output/ProfilerReport-1644773187/profiler-output/profiler-reports/OverallFrameworkMetrics.json'},\n",
       "   {'Key': 'sagemaker/DEMO-xgboost-dm/output/xgboost-2022-02-13-17-26-27-598/rule-output/ProfilerReport-1644773187/profiler-output/profiler-reports/LoadBalancing.json'},\n",
       "   {'Key': 'sagemaker/DEMO-xgboost-dm/output/xgboost-2022-02-13-17-26-27-598/rule-output/ProfilerReport-1644773187/profiler-output/profiler-report.ipynb'},\n",
       "   {'Key': 'sagemaker/DEMO-xgboost-dm/output/xgboost-2022-02-13-17-09-46-006/rule-output/ProfilerReport-1644772186/profiler-output/profiler-report.html'},\n",
       "   {'Key': 'sagemaker/DEMO-xgboost-dm/output/xgboost-2022-02-13-17-26-27-598/rule-output/ProfilerReport-1644773187/profiler-output/profiler-reports/IOBottleneck.json'},\n",
       "   {'Key': 'sagemaker/DEMO-xgboost-dm/output/xgboost-2022-02-13-17-26-27-598/profiler-output/system/incremental/2022021317/1644773340.algo-1.json'},\n",
       "   {'Key': 'sagemaker/DEMO-xgboost-dm/output/xgboost-2022-02-13-17-09-46-006/rule-output/ProfilerReport-1644772186/profiler-output/profiler-reports/StepOutlier.json'},\n",
       "   {'Key': 'sagemaker/DEMO-xgboost-dm/output/xgboost-2022-02-13-17-26-27-598/rule-output/ProfilerReport-1644773187/profiler-output/profiler-reports/BatchSize.json'},\n",
       "   {'Key': 'sagemaker/DEMO-xgboost-dm/output/xgboost-2022-02-13-17-09-46-006/rule-output/ProfilerReport-1644772186/profiler-output/profiler-reports/CPUBottleneck.json'},\n",
       "   {'Key': 'sagemaker/DEMO-xgboost-dm/output/xgboost-2022-02-13-17-26-27-598/rule-output/ProfilerReport-1644773187/profiler-output/profiler-reports/Dataloader.json'},\n",
       "   {'Key': 'sagemaker/DEMO-xgboost-dm/output/xgboost-2022-02-13-17-26-27-598/rule-output/ProfilerReport-1644773187/profiler-output/profiler-reports/GPUMemoryIncrease.json'},\n",
       "   {'Key': 'sagemaker/DEMO-xgboost-dm/output/xgboost-2022-02-13-17-09-46-006/rule-output/ProfilerReport-1644772186/profiler-output/profiler-reports/OverallSystemUsage.json'},\n",
       "   {'Key': 'sagemaker/DEMO-xgboost-dm/output/xgboost-2022-02-13-17-26-27-598/profiler-output/system/training_job_end.ts'},\n",
       "   {'Key': 'sagemaker/DEMO-xgboost-dm/output/xgboost-2022-02-13-17-26-27-598/rule-output/ProfilerReport-1644773187/profiler-output/profiler-reports/LowGPUUtilization.json'},\n",
       "   {'Key': 'sagemaker/DEMO-xgboost-dm/output/xgboost-2022-02-13-17-26-27-598/rule-output/ProfilerReport-1644773187/profiler-output/profiler-reports/CPUBottleneck.json'},\n",
       "   {'Key': 'sagemaker/DEMO-xgboost-dm/output/xgboost-2022-02-13-17-09-46-006/rule-output/ProfilerReport-1644772186/profiler-output/profiler-report.ipynb'},\n",
       "   {'Key': 'sagemaker/DEMO-xgboost-dm/output/xgboost-2022-02-13-17-09-46-006/rule-output/ProfilerReport-1644772186/profiler-output/profiler-reports/LowGPUUtilization.json'},\n",
       "   {'Key': 'sagemaker/DEMO-xgboost-dm/output/xgboost-2022-02-13-17-09-46-006/rule-output/ProfilerReport-1644772186/profiler-output/profiler-reports/LoadBalancing.json'},\n",
       "   {'Key': 'sagemaker/DEMO-xgboost-dm/output/xgboost-2022-02-13-17-26-27-598/output/model.tar.gz'},\n",
       "   {'Key': 'sagemaker/DEMO-xgboost-dm/output/xgboost-2022-02-13-17-26-27-598/rule-output/ProfilerReport-1644773187/profiler-output/profiler-reports/MaxInitializationTime.json'},\n",
       "   {'Key': 'sagemaker/DEMO-xgboost-dm/output/xgboost-2022-02-13-17-09-46-006/rule-output/ProfilerReport-1644772186/profiler-output/profiler-reports/BatchSize.json'},\n",
       "   {'Key': 'sagemaker/DEMO-xgboost-dm/output/xgboost-2022-02-13-17-09-46-006/output/model.tar.gz'},\n",
       "   {'Key': 'sagemaker/DEMO-xgboost-dm/output/xgboost-2022-02-13-17-09-46-006/rule-output/ProfilerReport-1644772186/profiler-output/profiler-reports/IOBottleneck.json'},\n",
       "   {'Key': 'sagemaker/DEMO-xgboost-dm/output/xgboost-2022-02-13-17-09-46-006/profiler-output/framework/training_job_end.ts'},\n",
       "   {'Key': 'sagemaker/DEMO-xgboost-dm/train/crx_train.csv'},\n",
       "   {'Key': 'sagemaker/DEMO-xgboost-dm/output/xgboost-2022-02-13-17-09-46-006/rule-output/ProfilerReport-1644772186/profiler-output/profiler-reports/GPUMemoryIncrease.json'},\n",
       "   {'Key': 'sagemaker/DEMO-xgboost-dm/output/xgboost-2022-02-13-17-26-27-598/profiler-output/framework/training_job_end.ts'},\n",
       "   {'Key': 'sagemaker/DEMO-xgboost-dm/output/xgboost-2022-02-13-17-26-27-598/profiler-output/system/incremental/2022021317/1644773280.algo-1.json'},\n",
       "   {'Key': 'sagemaker/DEMO-xgboost-dm/output/xgboost-2022-02-13-17-26-27-598/rule-output/ProfilerReport-1644773187/profiler-output/profiler-reports/OverallSystemUsage.json'},\n",
       "   {'Key': 'sagemaker/DEMO-xgboost-dm/output/xgboost-2022-02-13-17-26-27-598/rule-output/ProfilerReport-1644773187/profiler-output/profiler-report.html'},\n",
       "   {'Key': 'sagemaker/DEMO-xgboost-dm/output/xgboost-2022-02-13-17-09-46-006/profiler-output/system/incremental/2022021317/1644772320.algo-1.json'}]}]"
      ]
     },
     "execution_count": 90,
     "metadata": {},
     "output_type": "execute_result"
    }
   ],
   "source": [
    "xgb_predictor.delete_endpoint(delete_endpoint_config=True)\n",
    "bucket_to_delete = boto3.resource('s3').Bucket(bucket_name)\n",
    "bucket_to_delete.objects.all().delete()"
   ]
  }
 ],
 "metadata": {
  "kernelspec": {
   "display_name": "Python 3 (ipykernel)",
   "language": "python",
   "name": "python3"
  },
  "language_info": {
   "codemirror_mode": {
    "name": "ipython",
    "version": 3
   },
   "file_extension": ".py",
   "mimetype": "text/x-python",
   "name": "python",
   "nbconvert_exporter": "python",
   "pygments_lexer": "ipython3",
   "version": "3.10.1"
  }
 },
 "nbformat": 4,
 "nbformat_minor": 5
}
